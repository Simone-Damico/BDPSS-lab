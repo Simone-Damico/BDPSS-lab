{
 "cells": [
  {
   "cell_type": "markdown",
   "metadata": {},
   "source": [
    "### Workflow\n",
    "\n",
    "1. Per la prima stringa si suggeriscono solo le skill che iniziano per la stringa inserita fino a quel momento.\\\n",
    "TODO: decidere quali mostrare, quelle più lunghe? a caso?\n",
    "\n",
    "\n",
    "2. Per le successive stringe si considerano le skill inserite fino a quel momento: partendo dalla stringa inserita si ricavano le skill che contengono quella stringa, come in 1, poi per ognuna di queste si calcola la similarità del coseno con le skill già inserite e si suggerisce la skill con la media delle similarità più altra\\\n",
    "TODO: decidere quante skill mostrare. Usare la gerarchia delle skill come altra metrica di suggerimento, ad esempio in base alla distanza dal primo antenato in comune\n",
    "\n",
    "\n",
    "3. suggerire anche una skill che non contenga la stringa inserita fino a quel momento ma che sia semplicemente la più simile con quelle inserite precedentemente, calcolata come per 2\n",
    "\n",
    "\n",
    "4. Gestire gli errori di typo: individuarli e suggerire un'alternativa"
   ]
  },
  {
   "cell_type": "code",
   "execution_count": 3,
   "metadata": {
    "scrolled": true
   },
   "outputs": [],
   "source": [
    "import numpy as np\n",
    "import pandas as pd\n",
    "from sklearn.metrics.pairwise import cosine_similarity\n",
    "from bisect import bisect_left\n",
    "import ipywidgets as widgets\n",
    "import difflib\n",
    "from gensim.models import FastText"
   ]
  },
  {
   "cell_type": "code",
   "execution_count": 19,
   "metadata": {},
   "outputs": [],
   "source": [
    "class SuggestsTextArea:\n",
    "    \n",
    "    def __init__(self, model):\n",
    "        self.skills_list = pd.read_excel(\"data/2020_06_09 Allocation to ONET.xlsx\")['escoskill_level_3']\n",
    "        self.vectors = model #FastText.load_fasttext_format(\"data/ft_vectors_cbow_50_10_0_05.bin\")\n",
    "        #self.batch = np.array(list(self.vectors.values()))[0:100]\n",
    "        #self.cos_sim_matrix = pd.DataFrame(cosine_similarity(self.batch), \n",
    "        #                                   columns=list(self.vectors.keys())[0:100],\n",
    "        #                                   index=list(self.vectors.keys())[0:100])\n",
    "\n",
    "        self.layout = widgets.Layout(flex='0 1 auto', height='100px', min_height='100px', width='auto')\n",
    "        self.suggest_buttons = list()\n",
    "        self.textArea = widgets.Textarea(\n",
    "            value='',\n",
    "            placeholder='Type something',\n",
    "            description='Skill:',\n",
    "            disabled=False,\n",
    "            tooltip='Enter the name of the Text field',\n",
    "            height='90px', \n",
    "            layout=self.layout\n",
    "        )            \n",
    "    \n",
    "    \n",
    "    def find_sub_sting(self, word, words_list, limit=4):\n",
    "        '''\n",
    "        Find all skill that contain the new string insert by user\n",
    "        '''\n",
    "        print(word)\n",
    "        return sorted([(w , self.vectors.wv.similarity(word, w)) for w in words_list], key=lambda tup: tup[1], \n",
    "                      reverse=True)[:limit]\n",
    "        #return [w for w in sorted(words_list) if w.lower().startswith(word.lower())]\n",
    "    \n",
    "    \n",
    "    def get_best_similarity_skill(self, context, new_input):\n",
    "        '''\n",
    "        Get the four most similarity skills respect of the user's input\n",
    "        '''\n",
    "        alpha = 0.8\n",
    "        \n",
    "        # similarità tra input e lista delle skill\n",
    "        find_suggests = self.find_sub_sting(new_input, self.skills_list, limit=4)\n",
    "        res = dict()\n",
    "        res_sim = dict()\n",
    "        \n",
    "        # calcolo delle medie delle similarità tra le skill candidate come suggerimenti e le skill già inserite\n",
    "        for skill in [self.clear_skill(s[0]) for s in find_suggests]:\n",
    "            res[skill] = np.array([self.vectors.wv.similarity(skill, c) for c in context]).mean()\n",
    "        \n",
    "        # calcolo della similarità aggregata\n",
    "        for i in range(0, 4):\n",
    "            skill = find_suggests[i][0]\n",
    "            final_sim = (alpha * find_suggests[i][1]) + ((1-alpha) * res[skill])\n",
    "            res_sim[skill] = final_sim\n",
    "        print(res_sim)\n",
    "        return res_sim\n",
    "        #(a * sim(parola_corrente, parole_excel) + (1-a) * media(similarità(parola_precedente, parole, excel)))\n",
    "        #candidate_skill = self.cos_sim_matrix.loc[context, find_suggests]\n",
    "        #return candidate_skill.mean(axis = 0).sort_values(ascending=False)\n",
    "        #return candidate_skill.mean(axis = 0).idxmax(), candidate_skill.mean(axis = 0).max()\n",
    "        \n",
    "    \n",
    "    def show_textarea(self):\n",
    "        '''\n",
    "        Show the text area widget\n",
    "        '''\n",
    "        display(self.textArea)\n",
    "        self.textArea.observe(self.suggests_manager, names='value')\n",
    "        \n",
    "        \n",
    "    def clear_skill(self, skill):\n",
    "        '''\n",
    "        Replace the _ whith space\n",
    "        '''\n",
    "        return skill.replace('_', ' ')\n",
    "    \n",
    "    \n",
    "    def suggests_manager(self, widget):\n",
    "        '''\n",
    "        Main function of the class, manage the suggestions in different case\n",
    "        '''\n",
    "        self.close_widgets()\n",
    "        old_input = widget['old']\n",
    "        new_input = widget['new'].split(' ')[-1]\n",
    "        context = old_input.split(', ')[:-1]\n",
    "        if context != []:\n",
    "            sug = self.get_best_similarity_skill(context, new_input)\n",
    "            for index, value in sug.items():\n",
    "                b = widgets.Button(\n",
    "                    description=f'{index} - {round(value*100, 2)}%', # fix negative similarity: e.g. -35%\n",
    "                    disabled=False,\n",
    "                    button_style='success', # 'success', 'info', 'warning', 'danger' or ''\n",
    "                    tooltip=f'{index} - {round(value*100, 2)}%'\n",
    "                )\n",
    "\n",
    "                b.on_click(self.my_event_handler)\n",
    "                self.suggest_buttons.append(b)\n",
    "            display(widgets.HBox(self.suggest_buttons))\n",
    "            \n",
    "        else:\n",
    "            if len(new_input)>3:\n",
    "                find_suggests = self.find_sub_sting(new_input, self.skills_list, limit=4)\n",
    "                grammatical_suggests = [self.clear_skill(s[0]) for s in find_suggests]\n",
    "                    \n",
    "                    \n",
    "                for sub in grammatical_suggests:\n",
    "\n",
    "                    b = widgets.Button(\n",
    "                        description=sub,\n",
    "                        disabled=False,\n",
    "                        button_style='', # 'success', 'info', 'warning', 'danger' or ''\n",
    "                        tooltip='Click me'\n",
    "                    )\n",
    "\n",
    "                    b.on_click(self.my_event_handler)\n",
    "                    self.suggest_buttons.append(b)\n",
    "                display(widgets.HBox(self.suggest_buttons))\n",
    "\n",
    "\n",
    "    def my_event_handler(self, btn_object):\n",
    "        '''\n",
    "        Button click handler, add the skill pressed to the text area\n",
    "        '''\n",
    "        skill_list = self.textArea.value.split(' ')\n",
    "        skill_list[-1] = btn_object.description\n",
    "        new_contest = ' '.join(skill_list) + ', '\n",
    "        \n",
    "        self.textArea.value = new_contest\n",
    "        self.close_widgets()\n",
    "    \n",
    "    \n",
    "    def close_widgets(self):# fix button go down on every input\n",
    "        '''\n",
    "        Remove button of old suggestions\n",
    "        '''\n",
    "        for w in self.suggest_buttons:\n",
    "            w.close()\n",
    "        self.suggest_buttons = list()\n",
    "\n",
    "    \n",
    "    "
   ]
  },
  {
   "cell_type": "code",
   "execution_count": 4,
   "metadata": {},
   "outputs": [
    {
     "name": "stderr",
     "output_type": "stream",
     "text": [
      "/home/simone/.local/lib/python3.6/site-packages/ipykernel_launcher.py:1: DeprecationWarning: Call to deprecated `load_fasttext_format` (use load_facebook_vectors (to use pretrained embeddings) or load_facebook_model (to continue training with the loaded full model, more RAM) instead).\n",
      "  \"\"\"Entry point for launching an IPython kernel.\n"
     ]
    }
   ],
   "source": [
    "vectors = FastText.load_fasttext_format(\"data/ft_vectors_cbow_50_10_0_05.bin\")"
   ]
  },
  {
   "cell_type": "code",
   "execution_count": 18,
   "metadata": {
    "scrolled": false
   },
   "outputs": [
    {
     "data": {
      "application/vnd.jupyter.widget-view+json": {
       "model_id": "67f7df2aa7b24ef596a4227252bb9b58",
       "version_major": 2,
       "version_minor": 0
      },
      "text/plain": [
       "Textarea(value='', description='Skill:', layout=Layout(flex='0 1 auto', height='100px', min_height='100px', wi…"
      ]
     },
     "metadata": {},
     "output_type": "display_data"
    },
    {
     "name": "stdout",
     "output_type": "stream",
     "text": [
      "mana\n"
     ]
    },
    {
     "data": {
      "application/vnd.jupyter.widget-view+json": {
       "model_id": "5a4b62f5f16242329ca8d007da9fb24d",
       "version_major": 2,
       "version_minor": 0
      },
      "text/plain": [
       "HBox(children=(Button(description='manage cash desk', style=ButtonStyle(), tooltip='Click me'), Button(descrip…"
      ]
     },
     "metadata": {},
     "output_type": "display_data"
    },
    {
     "name": "stdout",
     "output_type": "stream",
     "text": [
      "a\n",
      "{'adapt to change': 0.03998276591300964, 'work as a team': 0.08888779282569884, 'use a computer': 0.0017469430342316624, 'teamwork principles': -0.033305084705352775}\n"
     ]
    },
    {
     "data": {
      "application/vnd.jupyter.widget-view+json": {
       "model_id": "702a347c342e4c58bed61da756d650b3",
       "version_major": 2,
       "version_minor": 0
      },
      "text/plain": [
       "HBox(children=(Button(button_style='success', description='adapt to change - 4.0%', style=ButtonStyle(), toolt…"
      ]
     },
     "metadata": {},
     "output_type": "display_data"
    },
    {
     "name": "stdout",
     "output_type": "stream",
     "text": [
      "an\n",
      "{'teach computer science': 0.29512428343296054, 'Pascal (computer programming)': 0.28240020871162413, 'web programming': 0.2530454814434052, 'Smalltalk (computer programming)': 0.2740849047899247}\n"
     ]
    },
    {
     "data": {
      "application/vnd.jupyter.widget-view+json": {
       "model_id": "2da4e1a2e5424200a5b153af5a28ff25",
       "version_major": 2,
       "version_minor": 0
      },
      "text/plain": [
       "HBox(children=(Button(button_style='success', description='teach computer science - 29.51%', style=ButtonStyle…"
      ]
     },
     "metadata": {},
     "output_type": "display_data"
    },
    {
     "name": "stdout",
     "output_type": "stream",
     "text": [
      "ana\n",
      "{'Hungarian': 0.455515804886818, 'Informatica PowerCenter': 0.3893079116940498, 'data storage': 0.40751788169145586, 'Slovenian': 0.3683676153421402}\n"
     ]
    },
    {
     "data": {
      "application/vnd.jupyter.widget-view+json": {
       "model_id": "76f83c32a37e421a96ab793b8ee76a73",
       "version_major": 2,
       "version_minor": 0
      },
      "text/plain": [
       "HBox(children=(Button(button_style='success', description='Hungarian - 45.55%', style=ButtonStyle(), tooltip='…"
      ]
     },
     "metadata": {},
     "output_type": "display_data"
    },
    {
     "name": "stdout",
     "output_type": "stream",
     "text": [
      "anal\n",
      "{'analyse big data': 0.5576713263988495, 'statistics': 0.4921992123126984, 'manage quantitative data': 0.5530596137046814, 'perform data analysis': 0.5159418761730195}\n"
     ]
    },
    {
     "data": {
      "application/vnd.jupyter.widget-view+json": {
       "model_id": "a086d680d41744c79222afdffdcc73a5",
       "version_major": 2,
       "version_minor": 0
      },
      "text/plain": [
       "HBox(children=(Button(button_style='success', description='analyse big data - 55.77%', style=ButtonStyle(), to…"
      ]
     },
     "metadata": {},
     "output_type": "display_data"
    }
   ],
   "source": [
    "t = SuggestsTextArea(vectors)\n",
    "t.show_textarea()"
   ]
  },
  {
   "cell_type": "code",
   "execution_count": 60,
   "metadata": {},
   "outputs": [
    {
     "name": "stderr",
     "output_type": "stream",
     "text": [
      "/home/simone/.local/lib/python3.6/site-packages/ipykernel_launcher.py:1: DeprecationWarning: Call to deprecated `load_fasttext_format` (use load_facebook_vectors (to use pretrained embeddings) or load_facebook_model (to continue training with the loaded full model, more RAM) instead).\n",
      "  \"\"\"Entry point for launching an IPython kernel.\n"
     ]
    }
   ],
   "source": [
    "model = FastText.load_fasttext_format(\"ft_vectors_cbow_50_10_0_05.bin\")\n",
    "#print(model.vocab)\n",
    "#print(model.similarity(\"gimp_graphics\", \"blow_moulding\"))"
   ]
  },
  {
   "cell_type": "code",
   "execution_count": 63,
   "metadata": {},
   "outputs": [
    {
     "name": "stdout",
     "output_type": "stream",
     "text": [
      "0.86445814\n"
     ]
    }
   ],
   "source": [
    "print(model.wv.similarity(\"assist in planning\", \"assist in planning production scheduling\"))\n",
    "\n",
    "#\"assist in planning production scheduling\" in model.vocab"
   ]
  },
  {
   "cell_type": "code",
   "execution_count": 66,
   "metadata": {},
   "outputs": [],
   "source": [
    "l = pd.read_excel(\"2020_06_09 Allocation to ONET.xlsx\")['escoskill_level_3']"
   ]
  },
  {
   "cell_type": "code",
   "execution_count": 83,
   "metadata": {},
   "outputs": [],
   "source": [
    "def find_sub_sting(word, words_list):\n",
    "        '''\n",
    "        Find all skill that contain the new string insert by user\n",
    "        '''\n",
    "        return sorted([(w , model.wv.similarity(word, w)) for w in sorted(words_list)], key=lambda tup: tup[1], \n",
    "                      reverse = True)\n",
    "        \n",
    "        "
   ]
  },
  {
   "cell_type": "code",
   "execution_count": 84,
   "metadata": {
    "scrolled": true
   },
   "outputs": [
    {
     "name": "stdout",
     "output_type": "stream",
     "text": [
      "[('business law', 0.8203095), ('business loans', 0.7349394), ('business model', 0.63566524), ('business ICT systems', 0.54309225), ('plan retail space', 0.5207684), ('business processes', 0.5127621), ('outsourcing strategy', 0.5102143), ('business intelligence', 0.49430758), ('manage warehouse organisation', 0.488259), ('business strategy concepts', 0.47570544), ('identify new business opportunities', 0.4658071), ('business process modelling', 0.45291394), ('perform financial market business', 0.44906417), ('offer financial services', 0.44694772), ('business analysis', 0.44171903), ('manage landscape design projects', 0.4416477), ('financial markets', 0.43979773), ('develop business plans', 0.43392995), ('make strategic business decisions', 0.43075427), ('manage a small-to-medium business', 0.42595056), ('work in a logistics team', 0.4150381), ('energy market', 0.41103354), ('develop business case', 0.4108127), ('create a financial plan', 0.40085325), ('business knowledge', 0.40067014), ('integrate marketing strategies with the global strategy', 0.39951771), ('energy sector policies', 0.3937534), ('mortgage loans', 0.38793868), ('real estate market', 0.38686663), ('lead a team', 0.38146725), ('manage portfolio', 0.37716773), ('corporate law', 0.37665758), ('work in a fishery team', 0.37593493), ('plan marketing strategy', 0.37444773), ('organisational structure', 0.3714913), ('financial capability', 0.3679991), ('provide high-end driving services', 0.36346176), ('financial products', 0.36070415), ('consult with industry professionals', 0.35909548), ('represent the organisation', 0.35195944), ('manage financial risk', 0.35097378), ('provide financial product information', 0.35004124), ('adapt to change in marketing', 0.3480336), ('operate private branch exchange', 0.3468322), ('manage financial aspects of a company', 0.34428543), ('manage several projects', 0.34219733), ('build business relationships', 0.3409471), ('advise on investment', 0.34016407), ('strategic planning', 0.33832276), ('Outsourcing model', 0.33573818), ('international trade', 0.33381578), ('adapt to change', 0.33001092), ('analyse business requirements', 0.3285941), ('deal with challenging people', 0.32807967), ('banking activities', 0.32488865), ('manage project information', 0.32402477), ('electricity market', 0.3230536), ('hot vulcanisation', 0.32299122), ('manage airport development resources', 0.31981316), ('advise on property value', 0.31937343), ('plan transport operations', 0.31750143), ('operate kneading of food products', 0.3164131), ('manage loans', 0.3151311), ('plan digital marketing', 0.31046054), ('energy', 0.31001714), ('trading law', 0.3099862), ('meet with clients for legal services', 0.30877), ('manage logistics', 0.30841422), ('vertical markets', 0.30828184), ('manage operations in healthcare institutions', 0.3067544), ('analyse business processes', 0.30386928), ('advise customers on wood products', 0.30365205), ('work in a land-based team', 0.30345726), ('international law', 0.29954937), ('manage a team', 0.29928648), ('manage facilities services', 0.2992427), ('advise customers', 0.29614833), ('manage warehouse operations', 0.29578036), ('manage sales teams', 0.29435194), ('negotiate with stakeholders', 0.29242224), ('help clients cope with grief', 0.2900329), ('work in a hospitality team', 0.28815058), ('create banking accounts', 0.28809446), ('organisational resilience', 0.2878743), ('investment analysis', 0.28615916), ('manage bridge construction projects', 0.286124), ('manage sport facility finances', 0.28562838), ('improve business processes', 0.28537664), ('trade sector policies', 0.28511992), ('run errands on behalf of customers', 0.28360045), ('manage data, information and digital content', 0.28353274), ('advise architects', 0.2823708), ('prospect new customers', 0.2821051), ('operate mixing of food products', 0.28166422), ('international financial reporting standards', 0.28118894), ('mergers and acquisitions', 0.2808435), ('manage hospitality revenue', 0.28055707), ('international tariffs', 0.2800924), ('plan youth programmes', 0.28003326), ('work with e-services available to clients', 0.27929106), ('financial jurisdiction', 0.27925488), ('job market offers', 0.27776247), ('analyse financial risk', 0.2774641), ('quran', 0.27732566), ('work in teams', 0.2772753), ('manage corporate bank accounts', 0.27671665), ('property law', 0.27621055), ('customer insight', 0.27565223), ('direct customers to merchandise', 0.27514035), ('household products', 0.27485985), ('tourism sector policies', 0.27483803), ('develop strategic plans for physiotherapy services', 0.27461508), ('contact customers', 0.27252838), ('apply strategic thinking', 0.27168173), ('landscape design', 0.27099526), ('draw up marketing and sales plan', 0.27087575), ('gather technical information', 0.27055973), ('take food and beverage orders from customers', 0.26876298), ('develop media strategy', 0.2671649), ('consult technical resources', 0.2657661), ('manage company fleet', 0.2653305), ('collaborate through digital technologies', 0.2650871), ('operate digital printers', 0.26353112), ('decision support systems', 0.26305166), ('manage railway construction projects', 0.26210007), ('financial forecasting', 0.26132303), ('create a financial report', 0.26110962), ('manage content development projects', 0.26037177), ('work with social service users in a group', 0.2599981), ('climate change impact', 0.2595829), ('information security strategy', 0.25920233), ('work as a team', 0.2588047), ('strive for company growth', 0.25862664), ('design digital call to action', 0.25769705), ('manage guest support services', 0.25710154), ('financial analysis', 0.25655872), ('channel marketing', 0.25627849), ('oversee wetlands in project development', 0.25622523), ('assist employee health programmes', 0.25613186), ('support a designer in the developing process', 0.2556286), ('agritourism', 0.25548005), ('through-hole technology', 0.25337029), ('organisational policies', 0.2532216), ('focus on service', 0.25302646), ('report on overall management of a business', 0.24974053), ('content marketing strategy', 0.24841796), ('ASP.NET', 0.24780144), ('financial management', 0.24658331), ('consult with producer', 0.24648806), ('logistics', 0.24563466), ('financial statements', 0.24538694), ('work within communities', 0.24537231), ('ICT infrastructure', 0.24399015), ('rail infrastructure', 0.24374983), ('conclude business agreements', 0.24237591), ('manage corporate training programmes', 0.24159402), ('Objective-C', 0.23968305), ('pharmaceutical technology', 0.23941305), ('share good practices across subsidiaries', 0.23866026), ('freight transport methods', 0.23855785), ('marketing mix', 0.23675059), ('e-commerce systems', 0.23515166), ('manage freight payment methods', 0.23324654), ('operate smelter', 0.23286016), ('landscape architecture', 0.23266242), ('identify opportunities', 0.23212591), ('operate lacquer spray gun', 0.23172183), ('advise food industry', 0.23140934), ('work in an international environment', 0.23104244), ('advise on housing', 0.23044707), ('tourism market', 0.23028144), ('digital printing', 0.22996275), (\"plan customers' sales visits\", 0.22934563), ('food service operations', 0.22894162), ('apply operations for an ITIL-based environment', 0.22848576), ('manage revenue', 0.22839679), ('corporate social responsibility', 0.22795731), ('manage profitability', 0.22779226), ('satisfy customers', 0.22733672), ('nuclear energy', 0.22583732), ('financial engineering', 0.22574012), ('innovate in ICT', 0.22453214), ('control financial resources', 0.2244339), ('implement marketing strategies', 0.22430412), ('develop strategy to solve problems', 0.22393648), ('drive in urban areas', 0.22366697), ('manage time in tourism', 0.22266039), ('leasing process', 0.22204314), ('e-procurement', 0.22171764), ('create solutions to problems', 0.22128232), ('call-centre technologies', 0.22127755), ('structure information', 0.22121127), ('assess transport risks', 0.22108291), ('communicate with banking professionals', 0.22076738), (\"identify clients' needs\", 0.22059861), (\"manage clients' money matters\", 0.22034968), ('innovation processes', 0.22032677), ('think creatively', 0.2198057), ('sports competition information', 0.21978529), ('manage resources in food manufacturing', 0.21861403), ('hydroelectricity', 0.21846993), ('establish daily priorities', 0.2177811), ('sales strategies', 0.21669722), ('road transport legislation', 0.21528663), ('cooperate with professionals', 0.21493681), ('facilitate job market access', 0.21401802), ('collaborate in the development of marketing strategies', 0.21399303), ('develop opportunities for progression in sport', 0.21390092), ('manage the customer experience', 0.21315874), ('assume responsibility for the management of a business', 0.21107851), ('think analytically', 0.21020657), ('communicate technicalities with clients', 0.21020038), ('accounting entries', 0.2094098), ('Adobe Illustrator', 0.20925103), ('use analytics for commercial purposes', 0.20878519), ('relationship between buildings, people and the environment', 0.20834719), ('define geographic sales areas', 0.20808205), ('insurance market', 0.20792033), ('operate projector', 0.20743309), ('develop creative ideas', 0.20731677), ('identify market niches', 0.20730095), ('plan the work of teams and individuals', 0.20704593), ('security in commercial buildings', 0.20699213), ('develop corporate training programmes', 0.20695962), (\"process order forms with customer's information\", 0.20662673), ('manage securities', 0.20656873), ('water pressure', 0.2064859), ('apply procurement', 0.206332), ('implement sales strategies', 0.20621008), ('perform warehousing operations', 0.20619874), ('warehouse operations', 0.20608792), ('create cultural venue learning strategies', 0.2051609), ('manage front operations', 0.20413694), ('cutting technologies', 0.20411034), ('manage research and development projects', 0.20407224), ('negotiate settlements', 0.20382799), ('sell services', 0.2037112), ('Catalan', 0.202549), ('support colleagues', 0.20214519), ('provide support in financial calculation', 0.20205027), ('provide information', 0.20145091), ('market pricing', 0.2014228), ('intellectual property law', 0.2013543), ('control objectives for information and related technology', 0.20081143), ('telecommunication industry', 0.20070475), ('respond to requests for logistics services from all over the world', 0.20035785), ('plan marketing campaign', 0.19996926), ('coach clients', 0.19968876), ('data warehouse', 0.19923538), ('mill operations', 0.1991876), ('food and beverage industry', 0.19910555), ('manage human resources', 0.19893596), ('digital marketing techniques', 0.1976125), ('biotechnology', 0.19757934), ('work analytically', 0.19675674), ('financial department processes', 0.19659612), ('assist customers', 0.19654207), ('government policy', 0.19601524), ('provide learning support in healthcare', 0.19559506), ('manage cash desk', 0.19510826), ('support cultural diversity', 0.19479512), ('advise customers on building materials', 0.19418788), ('drinks service operations', 0.19397023), ('manage sales channels', 0.19341458), ('deliver outstanding service', 0.19324873), ('manage distribution channels', 0.1922895), ('manage payroll', 0.19086675), ('adapt teaching to target group', 0.19070761), ('manage resources', 0.1906306), ('establish collaborative relations', 0.18983611), ('think creatively about food and beverages', 0.1893205), ('manage data', 0.18823081), ('office software', 0.18667372), ('support social service users at the end of life', 0.1864505), ('market analysis', 0.18344107), ('develop solutions to information issues', 0.18341416), ('liaise with industrial professionals', 0.18317029), ('manage customer service', 0.1825529), ('ecology', 0.18248776), ('create technical plans', 0.181308), ('geographic information systems', 0.18026596), ('operate dump truck', 0.17979953), ('support individuals on nutrition changes', 0.17975374), ('range of spirits', 0.1796998), ('manage engineering project', 0.17958882), ('pricing strategies', 0.17871198), ('viticulture', 0.17849655), ('motivate employees', 0.17823319), ('oversee the facilities services budget', 0.17807224), ('Taleo', 0.17803116), ('use customer relationship management software', 0.17801683), ('APL', 0.17744653), ('mobile marketing', 0.17736442), ('brand marketing techniques', 0.1768786), ('lead a team in water management', 0.17648675), ('operate cranes', 0.17642584), ('adapt developed game to the market', 0.17576021), ('recruit employees', 0.17506395), ('customer relationship management', 0.17473732), ('securities', 0.17412177), ('liaise with logistics management teams', 0.17176972), ('perform business analysis', 0.1716824), ('manage personnel agenda', 0.17120332), ('store digital data and systems', 0.17109168), ('provide customer follow-up services', 0.17023973), ('cosmetics industry', 0.16985275), ('consult with production director', 0.16946448), ('work in multidisciplinary health teams', 0.16913538), ('search for information online', 0.16868111), ('hire human resources', 0.16839036), ('liaise with financiers', 0.1683133), ('manage a warehouse management system', 0.16809683), ('enable access to services', 0.1670012), ('manage vehicle fleet', 0.1669698), ('trade securities', 0.1669693), ('liaise with industry experts', 0.1668928), ('operate dealership management system', 0.16665153), ('maximise sales revenues', 0.16658984), ('support development of annual budget', 0.16595769), ('value properties', 0.16591205), ('counsel clients', 0.16490255), ('support managers', 0.1648386), ('Bihari', 0.1644415), ('coordinate transportation', 0.1644368), ('make decisions', 0.16411853), ('identify customer objectives', 0.16405237), ('network marketing', 0.16312203), ('concepts of telecommunications', 0.1631143), ('empower social service users', 0.16309252), ('marketing management', 0.16267882), ('advise on mental health', 0.16227429), ('plan manufacturing processes', 0.16226935), ('manage digital documents', 0.16086802), ('analyse call centre activities', 0.16056159), ('develop health and safety strategies in mining', 0.15972845), ('provide learning support', 0.15968944), ('analyse insurance risk', 0.15922724), ('pharmaceutical industry', 0.15883407), ('manage backlogs', 0.15869923), ('use creative suite software', 0.15865001), ('manage accounts', 0.15847631), ('NoSQL', 0.15829438), ('sell insurance', 0.15783177), ('use accounting systems', 0.15744805), ('industrial software', 0.15739009), ('publishing strategy', 0.1566131), ('passenger transport regulations', 0.15645678), ('SAP Data Services', 0.15583779), ('manage warehouse inventory', 0.1557826), ('meat industry', 0.15572277), ('cooperate with colleagues', 0.15514785), ('electricity', 0.15475968), ('Agile project management', 0.15457387), ('product package requirements', 0.15418456), ('operate calender machine', 0.15383498), ('provide specialist pharmaceutical advice', 0.15379429), ('competition law', 0.15332957), ('Lean project management', 0.15320681), ('liaise with architects', 0.15277669), ('promote inclusion in organisations', 0.15237176), ('communicate with customers', 0.15228224), ('cargo industry', 0.15211321), ('develop pension schemes', 0.15187123), ('communicate with stakeholders', 0.15146868), ('improve rail service delivery', 0.15146816), ('manage standards for data exchange', 0.15132692), ('protect personal data and privacy', 0.15072964), ('work in a multicultural environment in health care', 0.15050095), ('analyse problems for opportunities', 0.15043372), ('energy efficiency', 0.15002415), (\"identify customer's needs\", 0.14986385), ('web analytics', 0.14985582), ('collaborate with coaching team', 0.14941907), ('coordinate import transportation activities', 0.14940248), ('provide railway technical advice', 0.14920291), ('manufacturing of jewellery', 0.14878918), ('ICT project management', 0.14864019), ('manufacturing processes', 0.1483151), ('implement scientific decision making in healthcare', 0.14760035), ('apply conceptual thinking', 0.14757241), ('ensure compliance with construction project deadline', 0.14727665), ('bakery products', 0.14599209), ('provide support to veterinary clients', 0.14570989), ('Microsoft Access', 0.14567888), ('telecommunication trunking', 0.14552201), ('urban planning', 0.1454247), ('manage contract disputes', 0.1450614), ('local geography', 0.14502662), ('marketing department processes', 0.1447384), ('create prototype of user experience solutions', 0.14436507), ('collaborate with designers', 0.14431876), ('adapt to different roles', 0.14420983), ('inform on insurance products', 0.14374135), ('motivate fitness clients', 0.14363821), ('make decisions regarding forestry management', 0.14337248), ('manage healthcare staff', 0.1427763), ('use office systems', 0.14268768), ('adapt to changing situations', 0.14263493), ('lead the dental team', 0.14257552), ('support ICT system users', 0.14244935), ('develop e-learning plan', 0.14221533), ('create annual marketing budget', 0.1421969), ('manage work', 0.14213125), ('public offering', 0.14185543), ('transportation engineering', 0.14152871), ('environmental policy', 0.14148329), ('manage members', 0.14127512), ('project management', 0.14073099), ('provide technical expertise', 0.14019011), ('gather data', 0.13975558), ('consumer law', 0.13955443), ('establish customer rapport', 0.13889657), ('ensure information privacy', 0.1387386), ('internal risk management policy', 0.13852821), ('building materials industry', 0.13804658), ('european food safety policy', 0.13781148), ('ensure private property security', 0.1373141), ('product range of railway companies', 0.13723539), ('solution deployment', 0.13713212), ('information governance compliance', 0.1367625), ('work in a construction team', 0.13675693), ('customer service', 0.13637057), ('maintain relationships with stakeholders', 0.13585046), ('organise information', 0.13474251), ('manage quantitative data', 0.13458204), ('credit card payments', 0.13444589), ('assess customers', 0.13432443), ('hotel operations', 0.13415846), ('develop therapeutic relationships', 0.13406417), ('geography', 0.13362816), ('make time-critical decisions', 0.13350262), ('liaise with geology professionals', 0.1325961), ('sales activities', 0.13257372), ('manage contracts', 0.1322878), ('provide assistive technology', 0.13174137), ('work closely with news teams', 0.1314071), ('national generally accepted accounting principles', 0.13133775), ('accounting', 0.13114868), ('industrial design', 0.13081186), ('create model', 0.13061984), ('exert a goal-oriented leadership role towards colleagues', 0.13061474), ('economics', 0.12974355), ('entrepreneurship', 0.12944928), ('employment law', 0.12901092), ('pharmaceutical products', 0.12899628), ('identify talent', 0.12860544), ('manage website', 0.12830134), ('political science', 0.12814608), ('pharmaceutical manufacturing quality systems', 0.12814263), ('construction industry', 0.12768179), ('process dairy farm products', 0.12756634), ('pharmaceutical processes', 0.12720343), (\"adapt teaching to student's capabilities\", 0.12699486), ('analyse supply chain strategies', 0.12698677), ('design package', 0.12696926), ('information architecture', 0.1267642), ('manage budgets', 0.12631248), ('geographic areas', 0.12602489), ('agronomy', 0.1258918), ('design customer experiences', 0.12554123), ('manage account department', 0.12500964), ('process payments', 0.12498105), ('actuarial science', 0.1242026), ('stock market', 0.12418179), ('define ICT network design policies', 0.123534344), ('manage ICT change request process', 0.1224981), ('take payments for bills', 0.12220058), ('develop campaigns', 0.12215567), ('motivate staff to reach sales targets', 0.12192992), ('develop training programmes', 0.12111657), ('use learning strategies', 0.12097917), ('manage food manufacturing laboratory', 0.120922), ('telecommunications engineering', 0.12048228), ('systems development life-cycle', 0.12033486), ('use digital device operating systems', 0.119851045), ('manage technical security systems', 0.1198398), ('ensure customer focus', 0.11947133), ('keep up-to-date to current customs regulations', 0.11942233), ('use microsoft office', 0.11913398), ('IBM Informix', 0.118811816), ('customs law', 0.11809101), ('agricultural chemicals', 0.1179014), ('think proactively', 0.11760326), ('manage project metrics', 0.11692058), ('maintain relationship with customers', 0.11679865), ('SQL', 0.1165805), ('product life-cycle', 0.11630765), ('support social service users to live at home', 0.11602891), ('entertain people', 0.11586821), ('shipping industry', 0.11518812), (\"support social service users' positiveness\", 0.11487241), ('integrated development environment software', 0.11373778), ('Welsh', 0.11341957), ('process qualitative information', 0.11331114), ('manage carriers', 0.113015056), ('develop new products', 0.11293215), ('manage ICT data architecture', 0.11283577), ('advise customers on audiology products', 0.11278635), ('transportation methods', 0.112723485), ('provide improvement strategies', 0.11232215), ('liaise with government officials', 0.112160504), ('manage water flows and catchments', 0.11061252), ('create a diet plan', 0.110494114), ('implement biodiversity action plans', 0.110326685), ('distributed directory information services', 0.110100076), ('promote facilities management services', 0.10997611), ('Microsoft Visio', 0.109295085), ('food policy', 0.1087503), ('create software design', 0.10861854), ('apply a holistic approach in care', 0.108553596), ('interpret financial statements', 0.10831795), ('systems thinking', 0.10818761), ('ensure quality of aeronautical information management services', 0.10783956), ('assist in military logistics', 0.1075635), ('parts pricing', 0.10744153), ('adjust priorities', 0.107304566), ('industrial paint', 0.106985755), ('manage processes', 0.106616), ('liaise with mine professionals', 0.10640248), ('plan youth activities', 0.10599443), ('pharmaceutical drug development', 0.1054127), ('stay up to date with social media', 0.104921296), ('IBM WebSphere', 0.10486296), ('operations department processes', 0.104609974), ('LDAP', 0.10403163), ('plan team building', 0.10393275), ('use consulting techniques', 0.10367355), ('establish data processes', 0.103654824), ('cope with pressure', 0.10333087), ('process customer orders', 0.10261675), ('customer segmentation', 0.10199755), ('technical terminology', 0.101982266), ('play with children', 0.10179044), ('industrial heating systems', 0.10150036), ('data extraction, transformation and loading tools', 0.101413675), ('provide ICT support', 0.10110794), ('make the beds', 0.100865684), ('manage personal professional development in sport', 0.10071714), ('tax legislation', 0.100713804), ('astronomy', 0.10052494), ('market research', 0.10048382), ('ensure health and safety of customers', 0.10038735), ('materials used in stoneware manufacturing', 0.1002227), ('construct individual learning plans', 0.10018135), ('COBOL', 0.1001057), ('types of insurance', 0.09883134), ('pharmaceutical legislation', 0.09783511), ('wood products', 0.097185746), ('vehicle manufacturing process', 0.097101964), ('accounting department processes', 0.09710045), ('government representation', 0.09682146), ('geographical routes', 0.096648425), ('blueprints', 0.09657232), ('assess railway operations', 0.09638866), ('organise travel arrangements for staff', 0.096331775), (\"enforce customer's debt repayment\", 0.09576207), ('make decisions regarding livestock management', 0.09531678), ('furniture industry', 0.09526245), ('apply social media marketing', 0.095100835), (\"identify with the company's goals\", 0.09507193), ('SAP R3', 0.09491853), ('3D modelling', 0.0948697), ('determine charges for customer services', 0.094785966), ('psychological healthcare services', 0.09410614), ('RAGE (digital game creation systems)', 0.09385642), ('fine-needle aspiration', 0.09371568), ('manage personal professional development', 0.09317592), ('types of waterways', 0.0928603), ('manage cash flow', 0.091999166), ('recruit members', 0.09192028), ('basic chemicals', 0.09150812), ('manage maintenance operations', 0.091154456), ('initiate claim file', 0.0907207), ('manage all process engineering activities', 0.09026169), ('international taxation of transfer prices', 0.090247124), ('set quality assurance objectives', 0.09014652), ('meat and meat products', 0.08996487), ('cook pastry products', 0.089566454), ('risk management', 0.08953193), ('draw blueprints', 0.08885598), ('provide pharmaceutical advice', 0.08838254), ('learning technologies', 0.08828887), ('mobile operating systems', 0.08828051), ('organise sale of live products', 0.08812906), ('architectural design', 0.08766142), ('cosmetics', 0.08759282), ('apply export strategies', 0.0869667), ('implement front-end website design', 0.086572915), ('manage membership', 0.08645353), ('provide assistance to a variety of airport users', 0.08588088), ('operate forklift', 0.08511282), ('migration', 0.084271), ('provide customer follow-up', 0.08417563), ('timber products', 0.08413567), ('manoeuvre heavy trucks', 0.083956495), ('cultural history', 0.08298003), ('analyse economic trends', 0.082776375), ('architecture regulations', 0.08246391), ('implement a virtual private network', 0.08229021), ('provide customised products', 0.08167209), ('automation technology', 0.08132453), ('assess health services within the community', 0.08107952), ('develop manufacturing recipes', 0.08078561), ('environmental legislation', 0.080736585), ('adjust the work during the creative process', 0.08033831), ('decommissioning', 0.07980067), ('printing media', 0.07949969), ('bridge engineering', 0.079469405), ('IBM InfoSphere DataStage', 0.07928025), ('manage staff', 0.07904144), ('plan facilities management policies', 0.07890337), ('digital game genres', 0.07866596), ('social media marketing techniques', 0.07862638), ('operate garment manufacturing machines', 0.07780197), ('develop employment policies', 0.077617146), ('apply transportation management concepts', 0.07751366), ('join wood elements', 0.07720127), ('manage environmental management system', 0.077178), ('seek innovation in current practices', 0.07712622), ('work independently', 0.07702127), ('legal terminology', 0.0767953), ('outplacement', 0.07676363), ('assess environmental impact', 0.07643304), ('manage online content', 0.07595803), ('apply change management', 0.07534074), ('address problems critically', 0.07530012), ('achieve sales targets', 0.075073086), ('construction products', 0.0750579), ('Eclipse (integrated development environment software)', 0.07485056), ('macroeconomics', 0.07455625), ('own management skills', 0.07451183), ('execute email marketing', 0.0744705), ('coach employees', 0.074105866), ('solve problems in healthcare', 0.07401871), ('project commissioning', 0.07291068), ('mentor individuals', 0.07274994), ('ICT project management methodologies', 0.0726278), ('liaise with local authorities', 0.07224821), ('market participants', 0.071921274), ('manage supplies', 0.07189251), ('consultation', 0.071759984), ('electrical household appliances products', 0.0717052), ('plan social service process', 0.07086341), ('interact with healthcare users', 0.070756346), ('advice on security risk management', 0.070652135), ('analytical chemistry', 0.07053285), ('hydraulic fluid', 0.06989582), ('reflexology', 0.06937375), ('manage payroll reports', 0.06919405), ('develop product design', 0.06909331), ('implement data quality processes', 0.06890331), ('learn about customer service', 0.06840235), ('marketing principles', 0.068341866), ('advise on maritime subjects', 0.067930855), ('manage IT security compliances', 0.06750773), ('food and beverages on the menu', 0.06729389), ('sell products', 0.06634925), ('manage time', 0.0661937), ('software design methodologies', 0.06617827), ('solve technical problems', 0.06602732), (\"manage participants' expectations\", 0.06550735), ('accounting techniques', 0.06537786), ('liquidity management', 0.06501137), ('manage time in casting processes', 0.06500241), ('negotiate price', 0.06474607), ('Cisco', 0.06410812), ('assess the feasibility of implementing developments', 0.063885376), ('align components', 0.06312453), ('manufacturing of door furniture from metal', 0.063069776), ('prepare financial statements', 0.06306918), ('coordinate communication within a team', 0.06271143), ('prepare transportation routes', 0.062538), ('concurrent estate', 0.062218502), ('integrate ICT data', 0.06221632), ('provide leadership', 0.06209049), ('process data', 0.06203965), ('design campaign actions', 0.06187317), ('provide petroleum engineering support', 0.061653644), ('develop a specific interior design', 0.06147464), ('design buildings', 0.060606036), ('wildlife', 0.060269188), ('identify suppliers', 0.060071606), ('operate handheld devices', 0.059514266), ('develop work plans to solve problems', 0.059119657), ('create engineering design packages', 0.059117176), ('interview insurance claimants', 0.059067816), ('coach young people', 0.05905671), ('materials in porcelain manufacturing', 0.05831861), ('spa products', 0.058074627), ('manage software releases', 0.057906084), ('principles of insurance', 0.05790524), ('service-oriented modelling', 0.057613634), ('manage personnel', 0.057608068), ('social justice', 0.057562314), ('monitor financial accounts', 0.057301745), ('gemstones', 0.05711589), ('motivate supporters', 0.05706204), ('perceive the context', 0.056916695), ('industrial engineering', 0.05675887), ('park vehicles', 0.056538783), ('contract law', 0.055468135), ('apply information security policies', 0.05520618), ('clean warehouse', 0.054829903), ('CAD for footwear', 0.05458901), ('apply development process to footwear design', 0.053943027), ('memorise large amounts of information', 0.05368891), ('ensure compliance with company regulations', 0.053608716), ('telemarketing', 0.05348355), ('change window displays', 0.05320619), ('media planning', 0.053080183), ('sales department processes', 0.052684058), ('horticultural design', 0.052062884), ('provide self management support', 0.051909175), ('types of metal manufacturing processes', 0.051693145), ('meet deadlines', 0.05162243), ('inform on renting agreements', 0.05150041), ('petroleum', 0.05096581), ('regulate traffic', 0.050542783), ('design circuits using CAD', 0.050467536), ('manage major incidents', 0.050366692), ('apply risk management processes', 0.05022527), ('explosives', 0.04996531), ('IBM InfoSphere Information Server', 0.049708515), ('pharmaceutical chemistry', 0.049233872), ('Romanian', 0.049031213), ('ensure information security', 0.048817884), ('price product', 0.04864082), ('promote mental health', 0.04775989), ('aerodynamics', 0.047367107), ('textile industry', 0.04720306), ('airport electrical systems', 0.04690763), ('health and safety measures in transportation', 0.046639852), ('meet the requirements of legal bodies', 0.04652475), ('online analytical processing', 0.046519402), ('Android (mobile operating systems)', 0.046376538), ('negotiate compromise', 0.045514714), ('operate precision machinery', 0.045514178), ('manage system security', 0.045404106), ('rail design engineering', 0.04495156), ('MDX', 0.04476215), ('process medical insurance claims', 0.04461755), ('implement environmental action plans', 0.04448993), ('Absorb (learning management systems)', 0.044319436), ('debt systems', 0.04401961), ('Agile development', 0.04351784), ('communicate with social service users', 0.042996924), ('provide fitness customer service', 0.04260493), ('person centred care', 0.042601697), ('deal with public', 0.04233299), ('security regulations', 0.042272374), ('cyber security', 0.04225956), ('CSS', 0.042059164), ('natural gas', 0.042003624), ('devise tailor-made tourism itineraries', 0.04197894), ('human resources department processes', 0.04196949), ('human resource management', 0.041909926), ('perform services in a flexible manner', 0.04145003), ('credit control processes', 0.041439798), ('food legislation', 0.041340355), ('manage data collection systems', 0.04010641), ('communicate with customer service department', 0.040054113), ('good manufacturing practices', 0.039828677), ('types of stamping press', 0.03979871), ('manage disaster recovery plans', 0.03917645), ('CAM software', 0.03901631), ('Latvian', 0.038738832), ('count money', 0.038262196), ('botany', 0.038074624), (\"promote service users' rights\", 0.037977215), ('plan product management', 0.037736956), ('eye protection regulations', 0.037588444), ('apply technical communication skills', 0.037340246), ('immigration law', 0.037189417), ('analyse customer service surveys', 0.037083168), ('involve service users and carers in care planning', 0.036980353), ('execute feasibility study', 0.036801375), ('interview focus groups', 0.036736723), ('drive two-wheeled vehicles', 0.036627617), ('morphology', 0.0363348), ('assist the homeless', 0.0363084), ('manage content metadata', 0.03594257), ('mentor other health professionals', 0.035838142), ('develop models', 0.035746943), ('Earth science', 0.03562723), ('apply teaching strategies', 0.03522373), ('health and safety in the workplace', 0.03498125), ('sign income tax returns', 0.034597613), ('provide education management support', 0.03411888), ('use technical drawing software', 0.033813458), ('analyse staff capacity', 0.033568017), ('secure premises', 0.033473954), ('evaluate education programmes', 0.03345138), ('ensure compliance with legal requirements', 0.03328889), ('ensure cross-department cooperation', 0.032777257), ('make improvements to work activities', 0.032578174), ('ensure health and safety in manufacturing', 0.032053497), ('support volunteers', 0.03160358), (\"record customers' personal data\", 0.031107403), ('manufacturing of tools', 0.030927705), ('geodesy', 0.030923698), ('manage quality', 0.030914294), ('reflect on practice', 0.030494504), ('cloud technologies', 0.03027606), ('building automation', 0.030026898), ('coach individuals in specialised nursing care', 0.029906543), ('plan menus', 0.029826546), ('CAE software', 0.029644428), ('make an effort', 0.02951336), ('manage development of promotional material', 0.029332567), ('train employees', 0.029246395), ('medical sales industry', 0.027846038), ('design process', 0.027658058), ('beverage products', 0.027299108), ('perform project management', 0.027299015), ('leather finishing technologies', 0.027257998), ('fossil fuels', 0.027147284), ('communicate with media', 0.027076386), ('bake goods', 0.026721139), ('building systems monitoring technology', 0.026624843), ('deliver visual presentation of data', 0.026590878), ('prioritise tasks', 0.026476115), ('provide technical documentation', 0.0262787), ('maintain relationship with suppliers', 0.025862297), ('electricity principles', 0.025842499), ('environmental engineering', 0.025597421), ('merchandising techniques', 0.025220374), ('health informatics', 0.025163393), ('organic chemistry', 0.024630243), ('quality and cycle time optimisation', 0.024508135), ('manage health and safety', 0.02418233), ('leadership principles', 0.024017623), ('part requirements', 0.023255458), ('handle geospatial technologies', 0.023193516), ('emergent technologies', 0.022632616), ('assist water-based navigation', 0.022324942), ('perform quality control of design during a run', 0.021887593), ('develop staff', 0.021842556), ('CAD software', 0.021752508), ('supplier management', 0.021425843), ('automotive engineering', 0.020853903), ('work with pre-production team', 0.020260839), ('information extraction', 0.019655297), ('chemical products', 0.019598078), ('organise stage', 0.019329632), ('brainstorm ideas', 0.0189646), ('similitude', 0.0186885), ('publishing industry', 0.018629365), ('match people', 0.018544545), ('Oracle WebLogic', 0.018499425), ('communicate regulations', 0.018475046), ('functionalities of machinery', 0.018400941), ('provide health education', 0.01828494), ('learning difficulties', 0.017944168), ('ensure efficient communication in air traffic services', 0.017795341), ('team building', 0.017569194), ('evaluate marketing content', 0.017209915), ('textile technologies', 0.017007522), ('complementary and alternative medicine', 0.0169633), ('promote sustainability', 0.01683115), ('liaise with advertising agencies', 0.016676342), ('provide safeguarding to individuals', 0.016670417), ('speak about your work in public', 0.016482547), ('provide social counselling', 0.016238675), ('determine fire risks', 0.01600867), ('project management principles', 0.015602959), ('terminology', 0.01543684), ('design training programmes for animals', 0.015418844), ('cosmetics ingredients', 0.015361475), ('Portuguese', 0.015186692), ('design automation components', 0.015014307), ('implement quality management systems', 0.014934584), ('contribute to the development of a creative choreography', 0.014832508), ('car controls', 0.01476428), ('design hair style', 0.014593301), ('accept own accountability', 0.014458268), ('use online tools to collaborate', 0.014290763), ('provide emotional support to the bereaved', 0.014275378), ('international carriage of dangerous goods by road', 0.014135876), ('manage inventory', 0.013794329), ('public health', 0.013704677), ('motivate others', 0.01351536), ('provide food and beverages', 0.013348436), ('high-performance liquid chromatography', 0.013247122), ('food product ingredients', 0.013046018), ('develop production line', 0.013036347), ('thermodynamics', 0.012948509), ('health and safety regulations', 0.012821289), ('plan nursing care in a specialised field', 0.012646837), ('supply chain management', 0.012592526), ('memorise information', 0.01233594), ('upsell products', 0.0122616775), (\"respond to customers' inquiries\", 0.012202571), ('social sciences', 0.011812074), ('direct inward dialing', 0.011443634), ('perform market research in footwear', 0.011269612), ('refraction of the eye', 0.010927131), ('model sets', 0.010828164), ('ecosystems', 0.010582815), ('work in an organised manner', 0.010274107), ('analyse big data', 0.010240029), ('circulate information', 0.010216208), ('interpret current data', 0.010086827), ('consumer electronics', 0.009881693), ('identify process improvements', 0.009471409), ('rail construction engineering', 0.009360616), ('Basque', 0.009320207), ('apply immigration law', 0.009209395), ('assess visual impact of displays', 0.009207193), ('offer assistance to national citizens', 0.009155865), ('manage clinical risk', 0.0090277875), ('product data management', 0.008921225), ('provide legal advice', 0.008877178), ('good laboratory practice', 0.008799974), ('create an act', 0.0086830985), ('synthetic natural environment', 0.008042085), ('swim', 0.0074637914), ('sporting events', 0.0074128527), ('data mining', 0.0071709333), ('funding methods', 0.006840844), ('monitor infrastructure', 0.006839906), ('provide fitness customer care', 0.0066310526), ('use rental management software', 0.0062976214), ('demolish structures', 0.006289003), ('drive vehicles', 0.00613556), ('interact verbally in Welsh', 0.00571601), ('provide livestock advice and guidance', 0.005119326), ('legal department processes', 0.005085561), ('toxicology', 0.005049203), ('organise labour', 0.0049003707), ('perform adjustments as the work evolves', 0.004800726), ('design integrated circuits', 0.0045672213), ('chemical processes', 0.004519663), ('purchase supplies', 0.004416525), ('alcoholic beverage products', 0.0044064163), ('copyright legislation', 0.004384281), ('unstructured data', 0.004336006), ('manage volunteers', 0.004180329), ('maintain up-to-date aeronautical information management services', 0.004038409), ('advise on dating', 0.0038071335), ('educate people about nature', 0.0037725058), ('e-tailoring', 0.0037193897), ('development delays', 0.003218585), ('ICT process quality models', 0.0031858198), ('assess danger in risk areas', 0.00264352), ('meet commitments', 0.0025520239), ('hair cutting techniques', 0.0024362095), ('procure mechanical machinery', 0.0015751445), ('inspect government policy compliance', 0.001571259), ('report to the team leader', 0.001158981), ('C++', 0.0011267458), ('develop audio system designs', 0.0007018727), ('plan maintenance activities', 0.00051361654), ('learning management systems', 0.00029565816), ('ICT security legislation', -2.613102e-05), ('liaise with engineers', -0.00036124984), ('manage radiology information system', -0.0007176992), ('Croatian', -0.0007709339), ('obtain sponsorship', -0.00097084214), ('Slovenian', -0.0015815179), ('handle personal identifiable information', -0.0017427746), ('product comprehension', -0.0017434019), ('organise supporters', -0.002001049), ('process applications', -0.0020645997), ('electric current', -0.0023321817), ('work with virtual learning environments', -0.0023393517), ('cost management', -0.0023454912), ('German', -0.0024445325), ('trademarks', -0.0025623708), ('move soil', -0.0027300948), ('interact with an audience', -0.0028119325), ('implement anti-virus software', -0.0030178004), ('accompany people', -0.0031146554), ('special needs education', -0.00321487), ('oversee production requirements', -0.0034391407), ('make reservations', -0.0034395969), ('geological time scale', -0.0042429906), ('C#', -0.0044706985), ('liaise with educational support staff', -0.004496261), ('implement ICT safety policies', -0.0045139394), ('sales argumentation', -0.0047328854), ('anthropology', -0.004852584), ('empathise with the healthcare user', -0.0058971825), ('manufacturing of made-up textile articles', -0.006572951), ('harvest grapes', -0.006722966), ('create patterns for textile products', -0.007085498), ('plan events', -0.007189169), ('labour market', -0.0076161176), ('develop curriculum', -0.008635363), ('conduct jewellery market research', -0.009011482), ('health psychology', -0.009219436), ('integrate system components', -0.009254737), ('cut metal products', -0.009267971), ('provide domestic care', -0.009517839), ('operate relational database management system', -0.0099282935), ('interact verbally in Polish', -0.010801398), ('execute analytical mathematical calculations', -0.011288688), ('Ansible', -0.011705115), ('tai chi', -0.011998557), ('be friendly to passengers', -0.012610136), ('industrial tools', -0.01296501), ('security threats', -0.013294449), ('convert currency', -0.01332491), ('liaise with politicians', -0.013675994), ('neuropsychology', -0.013994816), ('stock shelves', -0.014003408), ('data models', -0.014236249), ('lead others', -0.014288602), ('hunt animals', -0.014315738), ('cadastral taxation', -0.014521882), ('perform customer management', -0.014616129), ('help coordinate promotional activities', -0.014853313), ('interact verbally in German', -0.014938985), ('social security law', -0.015059265), ('ensure compliance with aquaculture standards', -0.015106707), ('nuclear medicine', -0.015220637), ('professional documentation in health care', -0.015455217), ('visit suppliers', -0.015585953), ('evaluate information', -0.015683144), ('specialist nursing care', -0.015870333), ('social media management', -0.016088396), ('work efficiently', -0.016110793), ('build community relations', -0.016327277), ('identify mental health issues', -0.016439961), ('wheel impact load detector', -0.016694903), ('binding technologies', -0.017143471), ('ensure compliance with policies', -0.017263988), ('have emotional intelligence', -0.01727332), ('manage medical supply chains', -0.01751076), ('conflict management', -0.017777136), ('legal research', -0.017915435), ('communicate by telephone', -0.017983764), ('ATM systems', -0.018178428), ('social entreprise', -0.018270181), ('draft legislation', -0.018355811), ('information confidentiality', -0.018359872), ('acoustics', -0.018545719), ('adhesives', -0.018624412), ('livestock', -0.018752705), ('document your own practice', -0.01885333), ('provide advice to technicians', -0.019105757), ('hair products', -0.019413691), ('air traffic control operations', -0.019581722), ('use CAM software', -0.020303763), ('solve ICT system problems', -0.020389719), ('handle customer requests related to cargo', -0.020610945), ('data protection', -0.02089805), ('calculate costs of repair operations', -0.020990113), ('analyse software specifications', -0.021035308), ('mine dump design', -0.021204306), ('autism', -0.021308694), ('protect ICT devices', -0.021553695), ('communicable diseases', -0.021571942), ('serve food in table service', -0.021766398), ('design electrical systems', -0.021865161), ('civil engineering', -0.0223873), ('power engineering', -0.02251328), ('report analysis results', -0.022613822), ('heat metals', -0.022795185), ('develop ICT workflow', -0.022912478), ('use technical documentation', -0.023077104), ('PHP', -0.023088971), ('palliative care', -0.023109566), ('manage system testing', -0.023493879), ('enhance website visibility', -0.024700293), ('operate automated stage movement control system', -0.025225172), ('military aviation', -0.025546795), ('aerospace engineering', -0.025750834), ('iOS', -0.026078448), ('Icelandic', -0.02643914), ('communication sciences', -0.027039833), ('provide door security', -0.027146364), ('report facts', -0.027986519), ('electric drives', -0.028397908), ('history', -0.028508011), ('liaise with managers', -0.028557437), ('audit contractors', -0.028785737), ('health education', -0.028966347), ('provide documentation', -0.029156966), ('communication', -0.0291788), ('analyse own performance', -0.029428283), ('seafood processing', -0.02955048), ('woodturning', -0.029992316), ('robotics', -0.030058958), ('political ideologies', -0.030078012), ('marker making', -0.030366383), ('food engineering', -0.030368323), ('office administration', -0.030429468), ('manage database', -0.030758852), ('engineering processes', -0.031078774), ('advise on personnel management', -0.03110188), ('sell vehicles', -0.03128886), ('prepare trial accounting balances', -0.03146993), ('identify improvement actions', -0.031880006), ('use content management system software', -0.032390732), ('attention to detail', -0.032431096), ('follow manufacturing work schedule', -0.032514133), ('print stripping', -0.032598227), ('Hadoop', -0.03270595), ('surveying', -0.032884773), ('measure effectiveness of the service provided', -0.032974057), ('use CAD software', -0.033585716), ('communicate with tenants', -0.033628117), ('use abrasive wheel', -0.033882987), ('apply company policies', -0.034200307), ('Prototyping development', -0.03425769), ('acting and directing techniques', -0.034433138), ('watches and jewellery products', -0.034510225), ('casting processes', -0.0345285), ('plan teamwork', -0.034558557), ('perform multiple tasks at the same time', -0.03484237), ('technical drawings', -0.03540059), ('Estonian', -0.035435475), ('provide training', -0.035436414), ('embedded systems', -0.036283806), ('develop plans related to the transfer of care', -0.036462776), ('react to events in time-critical environments', -0.03656243), ('research new ideas', -0.036614876), ('interpret law', -0.036785204), ('precision engineering', -0.03684675), ('computer technology', -0.03687645), ('position vehicles for maintenance and repair', -0.03695611), ('store products', -0.037189715), ('vehicle electrical systems', -0.037294272), ('test package', -0.037383925), ('shape sheet metal objects', -0.03747415), ('design metal components', -0.03759713), ('join metals', -0.03790543), ('promote company', -0.03792211), ('hydraulics', -0.038083155), ('materials science', -0.038705915), ('act as a company ambassador', -0.03879109), ('use software design patterns', -0.038844984), ('analytical methods in biomedical sciences', -0.03887431), ('mechanical systems', -0.03887987), ('handle customer complaints', -0.03912673), ('handle shipment risks', -0.0391976), ('administer appointments', -0.03920391), ('Polish', -0.03921351), ('prepare airport annual budget', -0.039864395), ('supervise sales activities', -0.039868813), ('production processes', -0.039902866), ('design prototypes', -0.039985992), ('Rapid application development', -0.040175647), ('manage health and safety standards', -0.04024026), ('waste management', -0.040252544), ('characteristics of services', -0.040385775), ('make numerical calculations', -0.040524263), ('software interaction design', -0.04059301), ('company policies', -0.041024018), ('assessment of risks and threats', -0.04104773), ('perform high risk work', -0.041119527), ('evaluate employees', -0.04161605), ('ABAP', -0.042038806), ('normalise data', -0.04219098), ('service rooms', -0.042208187), ('take pictures', -0.04250324), ('pharmacology', -0.0426449), ('engage artistic staff', -0.0429749), ('apply person-centred care', -0.043445736), ('Czech', -0.04370788), ('manage clinical environments', -0.043744415), ('homeopathy', -0.043982763), ('protein', -0.044060852), ('tend lathe', -0.045250442), ('perform planning', -0.04544216), ('design drawings', -0.04558272), ('supervise work on design planning', -0.045856744), ('counsel on end-of-life care', -0.046179764), ('design control systems', -0.04620994), ('electric motors', -0.046351526), ('criminal law', -0.046469066), ('leather goods quality', -0.046562627), ('contribute to quality physiotherapy services', -0.046592176), ('Turkish', -0.046767823), ('politics', -0.046886634), ('manage alarm system', -0.047483895), ('deal with arrivals in accommodation', -0.047591366), ('promote the safeguarding of young people', -0.048203085), ('order supplies', -0.04838491), ('trends in fashion', -0.04842459), ('optoelectronics', -0.048524264), ('design user interface', -0.048536614), ('assist community', -0.048785605), ('treat animals ethically', -0.048941497), ('provide domiciliary eyecare', -0.049233377), ('French', -0.04925696), ('ensure accuracy of aeronautical data', -0.049350057), ('precious metals', -0.049533024), ('manage ICT system deployment', -0.04990998), ('desktop publishing', -0.049919654), ('forensic intelligence', -0.05077244), ('Iterative development', -0.050841767), ('ICT software specifications', -0.05084734), ('acting techniques', -0.051299933), ('interact verbally in Finnish', -0.051538084), ('post-process meat', -0.052428953), ('manufacture ingredients', -0.052476775), ('encourage teams for continuous improvement', -0.052522417), ('advise on safety improvements', -0.05262131), ('software UI design patterns', -0.05263046), ('coordinate catering', -0.052834664), ('recruit animal handlers', -0.053001612), ('organise product display', -0.053032063), ('crafting', -0.053127825), ('speak in public', -0.053293865), ('provide software testing documentation', -0.05338251), ('control food safety regulations', -0.053387053), ('receive goods', -0.053821728), ('school psychology', -0.054069344), ('promote yourself', -0.054262742), ('fasten components', -0.054305263), ('power electronics', -0.0543957), ('manoeuvre bus', -0.054671854), ('metallurgy', -0.054703988), ('consultation methods', -0.054902025), ('mechanics of motor vehicles', -0.055236865), ('object-oriented modelling', -0.05557335), ('Irish', -0.056159396), ('show responsibility', -0.056299448), ('crisis intervention', -0.0563449), ('computational fluid dynamics', -0.056571007), ('react calmly in stressful situations', -0.05670169), ('manage emergency care situations', -0.0567606), ('maintain camping facilities', -0.056765676), ('purchase raw material supplies', -0.057159312), ('community education', -0.057195794), ('packaging processes', -0.057230916), ('social pedagogy', -0.05783803), ('set inclusion policies', -0.058014788), ('pluck hair', -0.05805407), ('mining engineering', -0.05824897), ('teach customer service techniques', -0.05839651), ('delegate activities', -0.058725405), ('manage a social work unit', -0.05884567), ('outdoor activities', -0.059483152), ('draw design sketches', -0.059585214), ('advertising techniques', -0.05979649), ('translate spoken language', -0.05983692), ('printing on large scale machines', -0.060092404), ('rhetoric', -0.060369316), ('implement safety management systems', -0.060468536), ('perform weed control operations', -0.06068342), ('demonstrate enthusiasm', -0.06080699), ('budgetary principles', -0.060905658), ('manufacturing plant equipment', -0.06093281), ('read standard blueprints', -0.061065465), ('LAMS', -0.061265755), ('pave asphalt layers', -0.061605908), ('plan schedule', -0.061632045), ('mathematics', -0.06256663), ('interact verbally in Danish', -0.06261618), ('order vehicles', -0.06291255), ('train routes', -0.062946916), ('prepare the restaurant for service', -0.06353376), ('organise training', -0.06373384), ('present evidence', -0.06389004), ('teach driving practices', -0.064069085), ('design lighting', -0.06410436), ('develop animations', -0.064123385), ('statistical analysis system software', -0.064437665), ('coordinate components of the work', -0.064638145), ('manage closed-circuit television system', -0.064660974), ('relate empathetically', -0.06522389), ('obesity', -0.06535757), ('examine merchandise', -0.06589435), ('persuade others', -0.06630205), ('store goods', -0.06646296), ('provide protective escort', -0.0665195), ('perform data cleansing', -0.06655417), ('ensure proper document management', -0.06690561), ('define quality standards', -0.06698913), ('oversee equipment operation', -0.06699611), ('art collections', -0.06711806), ('assist in fund management', -0.06735767), ('assume responsibility for maintaining a safe ship environment', -0.06753532), ('Lithuanian', -0.0676651), ('prepare road directions', -0.06780398), ('interact verbally in Swedish', -0.06831062), ('mechanical components of vehicles', -0.06846951), ('design electromechanical systems', -0.06861986), ('pedagogy', -0.06889409), ('manage frustration', -0.069183044), ('execute vehicle maintenance', -0.069785595), ('counsel students', -0.06995119), ('coordinate events', -0.07002038), ('communicate in foreign languages with health service providers', -0.07056914), ('rehearse role', -0.07085025), ('maintain customer service', -0.071037166), ('prepare market research reports', -0.07109151), ('place bets', -0.071117684), ('child protection', -0.07114464), ('listen actively', -0.07117588), ('scientific research methodology', -0.07123687), ('provide nutrition to animals', -0.071459055), ('pack goods', -0.07155327), ('ensure the appropriate supply in pharmacy', -0.07172513), ('mechanical engineering', -0.07208201), ('software frameworks', -0.07217124), ('SQL Server Integration Services', -0.07264542), ('health, safety and hygiene legislation', -0.07273433), ('adult education', -0.072893895), ('tend CNC laser cutting machine', -0.072928354), ('dispose waste', -0.073208675), ('personal development', -0.07329521), ('visit places of work', -0.07351451), ('robotic components', -0.07367692), ('create game testing software', -0.07411808), ('lead research activities in nursing', -0.07427793), ('keep company', -0.07431453), ('check vehicles for sale', -0.07439273), ('electrical wiring plans', -0.074740306), ('MySQL', -0.07543681), ('unmanned air systems', -0.07549126), ('mobile device management', -0.075660065), ('operate brazing equipment', -0.07583775), ('coordinate security', -0.07586545), ('assist psychologist', -0.07591611), ('types of aromatherapy treatments', -0.076151714), ('sales promotion techniques', -0.0761739), ('make-up techniques', -0.07643227), ('primary care', -0.07643644), ('model electromechanical systems', -0.07705232), ('teach university class', -0.07708321), ('electronics', -0.07737137), ('provide professional care in nursing', -0.07762433), ('health care system', -0.07771218), ('prepare specialised coffee', -0.07776539), ('monitor customer service', -0.0779181), ('labour legislation', -0.07798359), ('work with healthcare users under medication', -0.0780547), ('interact verbally in Norwegian', -0.07820265), ('recreation activities', -0.078245744), ('Visual Studio .NET', -0.07872419), ('thermal treatment', -0.078741744), ('family law', -0.07876383), ('kinetics', -0.079448886), ('otorhinolaryngology', -0.07950461), ('provide footwear advice to patients', -0.07958331), ('construction methods', -0.08007454), ('Informatica PowerCenter', -0.080102235), ('printing materials', -0.080113105), ('dietetics', -0.08069829), ('sports nutrition', -0.08153252), ('prepare technical reports', -0.08161407), ('optomechanical components', -0.081657715), ('use textile finishing machine technologies', -0.08170348), ('mobile device software frameworks', -0.08172483), ('building construction principles', -0.0819622), ('design electronic systems', -0.08246685), ('search engine optimisation', -0.08269461), ('Sass', -0.082959004), ('optomechanical engineering', -0.083376914), ('transfer stock', -0.083503), ('legal studies', -0.08352644), ('use theoretical marketing models', -0.084145), ('use presentation software', -0.08416448), ('Greek', -0.08446163), ('transplantation', -0.08464662), ('endocrinology', -0.08470605), ('support nurses', -0.08489712), ('prepare meat products for shipping', -0.085104875), ('use painting techniques', -0.08549749), ('dressmaking', -0.085530356), ('lawn care', -0.08558351), ('sports ethics', -0.08572951), ('ensure contract termination and follow-up', -0.08575933), ('religious studies', -0.08585629), ('show confidence', -0.08597096), ('perform dusting activities', -0.0860136), ('follow safety standards in industrial contexts', -0.0863408), ('electronic signals intelligence', -0.086772144), ('keep up to date on product knowledge', -0.08685628), ('histology', -0.08716804), ('manage ICT virtualisation machines', -0.08734083), ('analyse issues', -0.08742195), ('optimise production processes parameters', -0.08751961), ('stem cells', -0.08753687), ('biological chemistry', -0.08758133), ('football', -0.087744534), ('public relations', -0.08785955), ('dye hair', -0.08801757), ('types of wood', -0.08814068), ('interfacing techniques', -0.08819489), ('electrical engineering', -0.08819932), ('pallets loading', -0.08835017), ('tend to elderly people', -0.08861166), ('engine components', -0.08897278), ('maintain working relationships', -0.089022666), ('journalism', -0.089540415), ('unified modelling language', -0.08963593), ('quality assurance methodologies', -0.089663275), ('Assertiveness', -0.089701906), ('apply brazing techniques', -0.089914255), ('community medicine', -0.090010434), ('wine related sciences', -0.090185605), ('web application security threats', -0.090312295), ('apply desktop publishing techniques', -0.0906948), ('task algorithmisation', -0.09099825), ('perform online data analysis', -0.09115823), ('speak different languages', -0.091182575), ('road traffic laws', -0.091431476), ('ensure compliance with noise standards', -0.09150913), ('apply case management', -0.0918172), ('pathology', -0.0919585), ('gastroenterology', -0.09241983), ('teach geography', -0.0924896), ('health and safety hazards underground', -0.093516074), ('assist emergency services', -0.0939794), ('perform office routine activities', -0.09419122), ('Chinese', -0.09433691), ('psychology', -0.094500236), ('welcome tour groups', -0.09465657), ('handle cargo', -0.09474205), ('grading systems', -0.094942845), ('perform data analysis', -0.09506276), ('maintain warehouse database', -0.09522778), ('neonatology', -0.0953417), ('assist equipment operation', -0.095354006), ('dermatology', -0.09544053), ('geology', -0.09549722), ('use word processing software', -0.09562397), ('handle mail', -0.095751934), ('Russian', -0.09650464), ('dangers of marshalling activity', -0.09652271), ('create sketches', -0.09697893), ('work in shifts', -0.09698577), ('find new types of food & beverages', -0.097015075), ('cinematography', -0.09724315), ('database management systems', -0.09735281), ('philosophy', -0.09839601), ('present reports', -0.09854109), ('calibrate precision instrument', -0.09858097), ('hazard analysis and critical control points', -0.09864791), ('dentistry science', -0.09874299), ('legislation procedure', -0.09894082), ('hair colouring', -0.09908493), ('maintain vehicle service', -0.0992236), ('check deliveries on receipt', -0.09922762), ('demonstrate curiosity', -0.09960616), ('SAS Data Management', -0.09963183), ('fire safety regulations', -0.0996502), ('provide health psychological diagnosis', -0.0998429), ('interpret electrical diagrams', -0.0998827), ('coordinate care', -0.100056835), ('collect rental fees', -0.1002015), ('present menus', -0.10026881), ('design application interfaces', -0.1003802), ('use ICT systems', -0.10062418), ('install power lines', -0.101519614), ('liaise with quality assurance', -0.10163106), ('types of waste collection vehicles', -0.101729214), ('work in assembly line teams', -0.10176379), ('types of vehicles', -0.1018533), ('characteristics of products', -0.1020096), ('maintain privacy of service users', -0.10260994), ('check continuity requirements', -0.10270563), ('quality control systems', -0.1028013), ('visual disability', -0.102841154), ('European Train Control System', -0.10285402), ('demonstrate willingness to learn', -0.10306585), ('personnel management', -0.10320195), ('medicines', -0.103339925), ('respond to enquiries', -0.1037202), ('design principles', -0.10402833), ('reverse engineering', -0.104159534), ('chemistry', -0.1044303), ('liaise with auditors', -0.10446094), ('hang wallpaper', -0.10447432), ('ensure food quality', -0.10456691), ('manage risk of lighting failure', -0.10461967), ('assist with dressing', -0.10487294), ('iron textiles', -0.10491227), ('repair plumbing systems', -0.10492164), ('software metrics', -0.10522766), ('issue purchase orders', -0.10534043), ('use psychotherapeutic interventions', -0.10552051), ('implement instructions', -0.105802596), ('provide on-board safety training', -0.10585361), ('supervise brand management', -0.105950944), ('nutrition', -0.1062875), ('control systems', -0.10667371), ('handle rental overdues', -0.10675916), ('fibre optics', -0.1068567), ('perform improvisation', -0.10703761), ('abrasive machining processes', -0.10777926), ('reinforce positive behaviour', -0.107877515), ('mix paint', -0.107957564), ('thermohydraulics', -0.10814836), ('traffic engineering', -0.10872957), ('psychosomatics', -0.10915609), ('document management', -0.1092316), ('ski', -0.10934751), ('woodworking processes', -0.10944855), ('organise auditions', -0.10946873), ('air traffic management', -0.11036523), ('advise on tree issues', -0.11047079), ('food preservation', -0.1108962), ('typography', -0.110976785), ('style hair', -0.11110776), ('machinery products', -0.111225925), ('adhere to health well-being and safety', -0.11123087), ('create AutoCAD drawings', -0.11177392), ('electrical wiring diagrams', -0.112012684), ('oversee extra-curricular activities', -0.112569734), ('pesticides', -0.11266793), ('data storage', -0.11292979), ('Oracle Application Development Framework', -0.11346544), ('manipulate stainless steel', -0.113654666), ('execute opening and closing procedures', -0.113698), ('supervise merchandise displays', -0.11374858), ('oversee record management', -0.11416524), ('assess artistic proposal', -0.11431903), ('clinical disciplines in dentistry', -0.11439017), ('Pentaho Data Integration', -0.11443746), ('internal auditing', -0.115152806), ('epidemiology', -0.11528422), ('design graphics', -0.11529998), ('provide mentorship', -0.11574789), ('cytopathology', -0.116117306), ('Finnish', -0.11621729), ('lautering process', -0.116499916), ('assist guest departure', -0.11659021), ('aircraft mechanics', -0.11671455), ('operate machine tools', -0.116819195), ('analyse chemical substances', -0.11695761), ('histopathology', -0.11701744), ('aquaculture reproduction', -0.117053024), ('food materials', -0.117513835), ('be empathic to production team', -0.11751987), ('promote inclusion', -0.11753972), ('organise homecare for patients', -0.117704704), ('Norwegian', -0.11778626), ('optimise production', -0.11781879), ('develop standard operating procedures in the food chain', -0.11811316), ('personality development theories', -0.11813691), ('work in outdoor conditions', -0.118348286), ('teach mathematics', -0.11876069), ('ICT network simulation', -0.11888225), ('principles of mechanical engineering', -0.11903858), ('perform system analysis', -0.1190486), ('use communication techniques', -0.119244516), ('emission standards', -0.11925969), ('ophthalmology', -0.11942668), ('packaging engineering', -0.11973524), ('mechatronics', -0.11976639), ('renal diseases', -0.11981621), ('composition of diets', -0.11994619), ('use psychoeducation', -0.11996262), ('assessment processes', -0.120141864), ('document evidence', -0.12020402), ('continuous improvement philosophies', -0.12042163), ('write technical reports', -0.12113548), ('electromagnetism', -0.12169948), ('Italian', -0.121756166), ('assess students', -0.12190077), ('calculate benefits', -0.1219381), ('metal and metal ore products', -0.12202293), ('biomedical science', -0.122125246), ('promote health and safety', -0.12231019), ('neurology', -0.122491725), ('GIMP (graphics editor software)', -0.12266941), ('multimedia systems', -0.12298112), ('handle waste', -0.123624966), ('ensure health and safety of staff', -0.12368446), ('interview techniques', -0.12399193), ('acute care', -0.124374464), ('apply finish to concrete', -0.12437661), ('advise supervisors', -0.12452248), ('morality', -0.12468915), ('operate welding equipment', -0.12504554), ('trace people', -0.12513876), ('wire harnesses', -0.12578784), ('chair a meeting', -0.12592329), ('communication studies', -0.1261161), ('types of piping', -0.12616946), ('supply chain principles', -0.12631106), ('attend to fitness clients under controlled health conditions', -0.12637897), ('paint surfaces', -0.1266597), ('welding techniques', -0.12691621), ('implement nursing care', -0.12700306), ('label components', -0.12704118), ('ensure vehicle operability', -0.12743248), ('ensure passenger comfort', -0.1276192), ('train military troops', -0.12763475), ('type at speed', -0.12764868), ('photonics', -0.12765944), ('positions for surgical procedures', -0.12780625), ('Adobe Photoshop', -0.12835096), ('control engineering', -0.12864187), ('Arabic', -0.12870319), ('media studies', -0.12901036), ('Slovak', -0.12920146), ('lubricate engines', -0.12934175), ('design hardware', -0.13017711), ('call quality assurance management', -0.13032162), ('instrumentation engineering', -0.13074988), ('microelectromechanical systems', -0.13103132), ('check travel documentation', -0.1310969), ('Hungarian', -0.13136813), ('assist in planning production scheduling', -0.13161367), ('allocate bills', -0.13179395), ('cost metrics', -0.1320734), ('ICT system integration', -0.13236304), ('Swedish', -0.13240829), ('audit techniques', -0.13301192), ('provide assistance with job search', -0.13339242), ('teach basic numeracy skills', -0.13346617), ('Oracle Relational Database', -0.133885), ('ensure public safety and security', -0.1340355), ('medical terminology', -0.1345646), ('install plumbing systems', -0.13463174), ('hardware components', -0.13497221), ('maintain internal communication systems', -0.13505802), ('ensure efficient baggage handling', -0.13529567), ('urology', -0.13575812), ('maintain operational standards', -0.1362893), ('paediatric psychology', -0.13689631), ('track shipments', -0.13692863), ('laser marking processes', -0.13694823), ('arrange audit', -0.137044), ('Danish', -0.13704593), ('IPC standards', -0.13719878), ('fit doors', -0.1372011), ('maintain the trust of service users', -0.13795796), ('ethics', -0.13801044), ('taste wines', -0.13821143), ('babysitting', -0.13833772), ('microelectronics', -0.13864686), ('ensure quality control in packaging', -0.1387478), ('circuit diagrams', -0.13900065), ('act reliably', -0.13919942), ('contact lens fitting techniques', -0.13934655), ('ferrous metal processing', -0.13937196), ('optoelectronic devices', -0.13960055), ('first aid', -0.13998541), ('tutor students', -0.14010149), ('handle complaints', -0.14015695), ('teach psychology', -0.14018728), ('analyse road traffic patterns', -0.1402634), ('develop automated software tests', -0.14040361), ('communication disorders', -0.14044388), ('election law', -0.14045843), ('provide feedback on job performance', -0.14061286), ('stay alert', -0.14075369), ('software components libraries', -0.14106172), ('control production', -0.14134707), ('psychopathology', -0.1417047), ('Ajax Framework', -0.14174429), ('answer requests for quotation', -0.14176725), ('ICT security standards', -0.1420004), ('perform scientific research', -0.14247416), ('engineering principles', -0.1425361), ('keep time accurately', -0.14263606), ('textile materials', -0.1428007), ('vacuum distillation processes', -0.14315562), ('rehabilitation', -0.1433186), ('communication principles', -0.14332896), ('give advice to others', -0.14336093), ('food hygiene rules', -0.14339301), ('depreciation', -0.143422), ('biomedicine', -0.14361417), ('calculate tax', -0.14369316), ('test electromechanical systems', -0.14379819), ('bathe dogs', -0.1439219), ('test make-up', -0.1447485), ('teamwork principles', -0.14495699), ('barbering techniques', -0.14506151), ('assemble electrical components', -0.14506587), ('assemble goods', -0.14518091), ('deal with air traffic issues', -0.14549606), ('use spreadsheets software', -0.14610107), ('work with nursing staff', -0.14649901), ('search engines', -0.14652413), ('program a CNC controller', -0.14652933), ('communicate with nursing staff', -0.14658213), ('nursing science', -0.14664984), ('Spanish', -0.14693528), ('respiratory medicine', -0.14697997), ('tools for ICT test automation', -0.1470563), ('practice vigilance', -0.14711149), ('assemble electromechanical systems', -0.14722715), ('firmware', -0.14724486), ('execute software tests', -0.14732505), ('prevent health and safety problems', -0.1477759), ('synthetic materials', -0.14797848), ('visual presentation techniques', -0.14798559), ('check accounting records', -0.14805146), ('scaffolding components', -0.14820716), ('perform bone marrow transplant', -0.14825271), ('test visual acuity', -0.1483173), ('fluid mechanics', -0.14837414), ('craftsmanship', -0.14867115), ('install software', -0.14890884), ('rheumatology', -0.15009844), ('answer incoming calls', -0.15013833), ('hearing aids', -0.15021682), ('occupational medicine', -0.15025869), ('Maltese', -0.15039659), ('apply caseload management', -0.1504202), ('polymer chemistry', -0.15044476), ('ensure store security', -0.15059258), ('undertake genetic risk assessment', -0.150735), ('biology', -0.15076274), ('sawing techniques', -0.15102273), ('oversee stock quality control', -0.1510903), ('animal hunting', -0.15116999), ('hardware platforms', -0.15123397), ('operate material handling equipment', -0.15149558), ('radiation protection', -0.15161406), ('handle incidents', -0.15169895), ('execute administration', -0.15171877), ('inform on safety standards', -0.15173234), ('ensure safety of exercise environment', -0.15313639), ('cardiology', -0.15332317), ('handle petty cash', -0.15356699), ('clinical science', -0.15464006), ('coordinate shifts', -0.15495092), ('quality standards', -0.1552265), ('obstetrics and gynaecology', -0.15559386), ('conduct frisk', -0.15562476), ('semiconductors', -0.15587749), ('create mock-ups', -0.15598558), ('measure customer feedback', -0.15609325), ('building codes', -0.15707184), ('composite materials', -0.15849565), ('delineate area with marks', -0.15852089), ('education administration', -0.15853281), ('be attentive', -0.15854087), ('arrange permits', -0.15858805), ('perform process control in the wearing apparel industry', -0.1593544), ('laboratory techniques', -0.15951943), ('Japanese', -0.1596186), ('teach chemistry', -0.15979992), ('issue permits', -0.16005279), ('prepare meat products for use in a dish', -0.16010657), ('exert expenditure control', -0.16022716), ('framework for a safety management system', -0.16069686), ('electronic components', -0.1609912), ('tennis', -0.16117391), ('have a high level of safety awareness', -0.1613195), ('pharmacotherapy', -0.1614428), ('handle cash flow', -0.1615109), ('tell a story', -0.16154078), ('allocate keys', -0.16186202), ('tend CNC metal punch press', -0.1620986), ('editorial standards', -0.16240327), ('food safety standards', -0.16282707), ('check quality of products on the production line', -0.1631151), ('World Wide Web Consortium standards', -0.16348372), ('read engineering drawings', -0.16353545), ('prepare hot drinks', -0.16385351), ('medical informatics', -0.16388777), ('otorhinolaryngologic conditions', -0.16396677), ('database', -0.16401927), ('components of air conditioning systems', -0.16402772), ('medical oncology', -0.16408722), ('molecular biology', -0.16426662), ('sparkling wines', -0.1643757), ('animal welfare', -0.16471238), ('schedule production', -0.16494526), ('tools for software configuration management', -0.1652622), ('clean furniture', -0.16568245), ('determine salaries', -0.16575183), ('call routing', -0.16581538), ('contribute to the rehabilitation process', -0.16593827), ('interpret medical results', -0.16602598), ('assist at check-in', -0.16606615), ('neurological surgery', -0.16624668), ('install hydraulic systems', -0.16646482), ('advise on training courses', -0.16654904), ('QlikView Expressor', -0.1669954), ('apply for work permits', -0.16706888), ('hairdressing', -0.16726425), ('types of paint', -0.16767322), ('use logical reasoning', -0.16789302), ('forensic pathology', -0.16807139), ('greet guests', -0.16810371), ('fertigation', -0.16823852), ('proofread text', -0.16861314), ('manufacture medical devices', -0.16880313), ('control train movement', -0.16885397), ('electrical equipment components', -0.16917087), ('write stress analysis reports', -0.16926119), ('use moulding techniques', -0.16994786), ('precision measuring instruments', -0.17045842), ('operate paper folding machine', -0.17055626), ('cleaning products', -0.17077503), ('chiropody', -0.17081593), ('draft press releases', -0.17117067), ('fraud detection', -0.17150219), ('graphic design', -0.17207761), ('work with authors', -0.17217942), ('understand instructions', -0.1722834), ('procedural law', -0.17232049), ('apply health and safety standards', -0.17253079), ('lay bricks', -0.1725413), ('clean public areas', -0.17264569), ('use online communication tools', -0.17292446), ('disability care', -0.17325902), ('eating disorders', -0.17334186), ('monitor customer behaviour', -0.17375143), ('pneumatics', -0.17389044), ('demonstrate good manners', -0.17447504), ('assist in will writing', -0.1747018), ('optical character recognition software', -0.17473768), ('English', -0.17509696), ('administer ICT system', -0.17515811), ('cognitive behavioural therapy', -0.17516065), ('design medical devices', -0.17529333), ('computer science', -0.17543015), ('child psychiatry', -0.17592065), ('carry out work-related calculations', -0.17639598), ('hair', -0.17669258), ('monitor activities', -0.17692202), ('family therapy', -0.17813599), ('unload cargo', -0.17863563), ('adjust clothes', -0.17870168), ('advocate for others', -0.17874989), ('set safety and security standards', -0.17924109), ('use precision tools', -0.17997399), ('intensive care medicine', -0.18030101), ('teach principles of social work', -0.18053396), ('carry out preventive airport maintenance', -0.18092827), ('hearing loss', -0.18126033), ('sing', -0.18142089), ('manage tests', -0.18150799), ('microbiology-bacteriology', -0.18154429), ('manage feedback', -0.1821645), ('tolerate stress', -0.18230887), ('logic', -0.18236023), ('plan advanced nursing care', -0.18254407), ('ensure operability of protective equipment', -0.18315949), ('perform classroom management', -0.18350999), ('documentation types', -0.18368298), ('perform product testing', -0.18372437), ('crimping', -0.18382311), ('wash the dishes', -0.18419048), ('mass spectrometry', -0.18464448), ('follow company standards', -0.1848257), ('oversee quality control', -0.18534386), ('assistive instruments', -0.18540333), ('prepare pasta', -0.18556422), ('perform facial treatment', -0.18574321), ('ICT networking hardware', -0.1858227), ('ergonomics', -0.18583225), ('teach computer science', -0.18585537), ('conduct small vessel operation start-up procedures', -0.18599966), ('graphics editor software', -0.18632878), ('plan health and safety procedures', -0.18645874), ('apply quality standards', -0.18691763), ('automotive diagnostic equipment', -0.1874268), ('give massages', -0.18787584), ('give instructions to staff', -0.18799058), ('anaesthetics', -0.1880645), ('optical instruments', -0.188355), ('use measurement instruments', -0.18844675), ('mechanics', -0.18872774), ('set health, hygiene, safety and security standards', -0.18878187), ('plan nursing care', -0.18897378), ('musical instruments', -0.18914022), ('communicate health and safety measures', -0.18925855), ('prepare orders', -0.18933202), ('electrical machines', -0.18958257), ('biomedical engineering', -0.18999492), ('incidents and accidents recording', -0.19037075), ('type of file', -0.19062878), ('orthopaedics', -0.1912736), ('psychiatry', -0.1914712), ('arrange bookings', -0.19154905), ('teach history', -0.19160794), ('linguistics', -0.19168217), ('select subject matter', -0.19199564), ('Scala', -0.19218546), ('reproduce documents', -0.19221383), ('monitor mine costs', -0.1922222), ('arrange special events', -0.19250496), ('use spreadsheets', -0.19275817), ('dance', -0.19295071), ('dog behaviour', -0.19388251), ('conduct psychotherapy risk assessments', -0.19404244), ('attend design meetings', -0.19427553), ('biostatistics', -0.19438279), ('register mail', -0.19460644), ('ceramic ware', -0.19461335), ('interpret electroencephalograms', -0.19472995), ('aesthetics', -0.19474898), ('test materials', -0.19486299), ('promote event', -0.1952484), ('electron beam welding processes', -0.19555958), ('conduct land surveys', -0.1955616), ('safety engineering', -0.19563755), ('wild game meat food safety', -0.19579966), ('plumbing tools', -0.19597381), ('geriatrics', -0.19681208), ('biophysics', -0.19707602), ('games rules', -0.19714503), ('manipulate metal', -0.19717412), ('ensure safe arrival of trains', -0.19786352), ('types of ceiling', -0.19792043), ('assist physiotherapists', -0.1980862), ('study topics', -0.19876818), ('apply techniques of occupational therapy', -0.19901486), ('perform maintenance on fire alarm systems', -0.19912666), ('keep personal administration', -0.19940254), ('electromechanics', -0.19945006), ('sell hardware', -0.19966167), ('protective safety equipment', -0.20017013), ('Jenkins (tools for software configuration management)', -0.20020774), ('have computer literacy', -0.20038404), ('geometry', -0.20082363), ('total quality control', -0.20087413), ('electrical testing methods', -0.20145416), ('metalworking', -0.20184374), ('control kiln firing', -0.20202474), ('guide cranes', -0.20210364), ('types of alarm systems', -0.20229624), ('collect control panel components', -0.20231573), ('conduct quality control analysis', -0.20297216), ('monitor production costs', -0.2033923), ('motion graphics', -0.20375508), ('teach further education', -0.20430654), ('maintain records of work with service users', -0.20439091), ('blood transfusion', -0.20443934), ('show empathy', -0.20497338), ('MarkLogic', -0.20525904), ('neurophysiology', -0.20526466), ('general medicine', -0.20532414), ('maintenance and repair', -0.20553374), ('material mechanics', -0.20558725), ('metrology', -0.20580804), ('algorithms', -0.20588893), ('use questioning techniques', -0.2059285), ('human-computer interaction', -0.20645218), ('Xquery', -0.20657484), ('soldering techniques', -0.2072438), ('perform mystery shopping', -0.2080329), ('prepare for job interview', -0.20824255), ('maintain stock control systems', -0.20824324), ('comply with food safety and hygiene', -0.20829709), ('supervision of persons', -0.20903753), ('software anomalies', -0.20906748), ('SQL Server', -0.20922984), ('use cooking techniques', -0.2096105), ('patents', -0.20979865), ('follow up complaint reports', -0.21065554), ('JavaScript Framework', -0.21157196), ('biomechanics', -0.2117352), ('screen printing process', -0.21216051), ('file documents', -0.21225727), ('use manual draughting techniques', -0.21228652), ('monitor system performance', -0.21233377), ('install metal gas piping', -0.21250717), ('hazardous waste types', -0.21282265), ('speech recognition', -0.21302937), ('debug software', -0.21311216), ('maintain contract administration', -0.21347009), ('supervise staff', -0.21446483), ('set production KPI', -0.21455386), ('sport and exercise medicine', -0.2147322), ('application process', -0.2148425), ('prepare premises', -0.21485706), ('clinical biochemistry', -0.21518165), ('serve beverages', -0.21520178), ('prepare tax returns forms', -0.21536316), ('reprography', -0.21549997), ('assist patients with rehabilitation', -0.21556437), ('DB2', -0.21608686), ('evaluate clinical psychological measures', -0.21623115), ('biomedical techniques', -0.21650232), ('emergency medicine', -0.21674092), ('optics', -0.21716134), ('audio editing software', -0.21719389), ('food safety principles', -0.21720761), ('repair ICT devices', -0.21734999), ('dependency on drugs', -0.21744226), ('ensure health and safety of visitors', -0.21776931), ('fix meetings', -0.21854793), ('applied kinesiology', -0.21876827), ('treat wood', -0.21894342), ('statistical process control', -0.21941136), ('Jboss', -0.21967156), ('lathe machine parts', -0.21969952), ('wash the laundry', -0.21987244), ('oxidation', -0.22000477), ('pick orders for dispatching', -0.22018899), ('radiology', -0.22035496), ('Bulgarian', -0.22039321), ('mechanical tools', -0.22046004), ('plan a recording', -0.22086152), ('carpentry', -0.22105499), ('control temperature', -0.2210866), ('assemble metal parts', -0.22112855), ('prevent work accidents', -0.22122143), ('carry out work-related measurements', -0.22149362), ('orthodontics', -0.22154278), ('collect weather-related data', -0.2218845), ('read maps', -0.22293167), ('diagnosis of mental health issues', -0.22381617), ('conduct performance measurement', -0.22382848), ('attend to detail', -0.2241271), ('evidence-based nursing care', -0.22463958), ('ensure equipment maintenance', -0.22467534), ('ICT communications protocols', -0.22486), ('arrange tables', -0.22529982), ('statistics', -0.22606242), ('produce samples', -0.22612637), ('apply extruding techniques', -0.22621909), ('maintain reception area', -0.22634596), ('opinion poll', -0.22683701), ('yoga', -0.22696689), ('evidence-based radiography practice', -0.22715898), ('hygiene in a health care setting', -0.22728188), ('clinical reports', -0.22749259), ('physiotherapy', -0.22751334), ('carry out event management', -0.22759391), ('conduct fitness risk assessment', -0.22778797), ('tend packaging machines', -0.22821014), ('printed circuit boards', -0.2283318), ('assist visitors', -0.22943263), ('TypeScript', -0.22989678), ('write meeting reports', -0.22991548), ('detect bottlenecks', -0.2302205), ('use positive language', -0.23045744), ('cast metal', -0.23049946), ('self-promote', -0.23066005), ('spelling', -0.23086995), ('perform dental hygiene interventions', -0.23089157), ('apply massage therapy', -0.23192489), ('prepare ready-made dishes', -0.23384114), ('allergic cosmetics reactions', -0.23414771), ('natural language processing', -0.23452069), ('develop test procedures', -0.23458256), ('complete administration', -0.23464005), ('clean surfaces', -0.23476362), ('troubleshoot', -0.2349246), ('monitor kitchen supplies', -0.23505099), ('follow airport safety procedures', -0.23569883), ('maintain pharmaceutical records', -0.23576689), ('logopaedics', -0.2360521), ('sensors', -0.23622955), ('perform security checks', -0.23651232), ('animal behaviour', -0.2369487), ('computer engineering', -0.23763531), ('perform cleaning duties', -0.23786224), ('guide staff', -0.23800588), ('cleaning techniques', -0.2383009), ('track key performance indicators', -0.2385603), ('attend sports training', -0.23877876), ('assemble robots', -0.23881964), ('perform live', -0.23897083), ('behavioural disorders', -0.23902278), ('maintain updated professional knowledge', -0.23911943), ('supervise nursing staff', -0.23917729), ('supervise children', -0.23923317), ('control crowd', -0.23931213), ('set up the controller of a machine', -0.239401), ('hardware testing methods', -0.23984072), ('use communication equipment', -0.2398629), ('surgical instruments', -0.24125038), ('judge performances', -0.24166018), ('use painting equipment', -0.24187614), ('maintain database performance', -0.24191171), ('clean spa work areas', -0.24206445), ('apply health and safety when picking', -0.24218237), ('paediatric surgery', -0.24232712), ('carry out auditions', -0.24352197), ('observe healthcare users', -0.24384469), ('lighting techniques', -0.244062), ('Wireshark', -0.24418053), ('train guides', -0.24484715), ('vascular surgery', -0.24622184), ('Dutch', -0.24663742), ('carry out cheese production', -0.24715537), ('review drafts', -0.24744558), ('maintain database security', -0.24818389), ('apply good clinical practices', -0.24911578), ('authenticate documents', -0.24929358), ('hand gestures', -0.25010306), ('Internet of Things', -0.25039193), ('labour law', -0.25087643), ('maintain customer records', -0.25110415), ('supervise food quality', -0.2511885), ('follow safety precautions in work practices', -0.2517427), ('follow clinical guidelines', -0.2517695), ('manage emergency procedures', -0.25177053), ('laboratory equipment', -0.25196382), ('types of metal', -0.2523042), ('maintain trusts', -0.25240943), ('repair engines', -0.2524524), ('language teaching methods', -0.25296512), ('use food preparation techniques', -0.25324857), ('monitor guest access', -0.2532814), ('undertake inspections', -0.25430807), ('assign homework', -0.25492266), ('prepare pizza', -0.25503212), ('repair pipelines', -0.2551189), ('coffee characteristics', -0.25554386), ('install hardware', -0.2555637), ('attend read-through', -0.25578234), ('use sheet metal shears', -0.25659093), ('inspect quality of products', -0.25659868), ('fingerspelling', -0.25664535), ('use object-oriented programming', -0.25688523), ('soil mechanics', -0.2573095), ('blow moulding machine parts', -0.25743392), ('quality assurance procedures', -0.25773114), ('use ICT hardware', -0.25807256), ('use databases', -0.25812), ('write production reports', -0.25828442), ('milling machines', -0.25850013), ('laser types', -0.25890854), ('install electrical and electronic equipment', -0.25905368), ('emergency surgery', -0.25957078), ('physical medicine', -0.25995642), ('test hardware', -0.2603874), ('physics', -0.26082554), ('install low voltage wiring', -0.26185185), ('maintain ground', -0.26225868), ('teach biology', -0.26255453), ('oral surgery', -0.26301363), ('supervise court hearings', -0.263112), ('monitor fields', -0.26389134), ('medical studies', -0.2643221), ('write work-related reports', -0.26461822), ('AJAX', -0.26520336), ('maintain personal hygiene standards', -0.2653026), ('WordPress', -0.26627395), ('evaluate nursing care', -0.26630574), ('build machines', -0.26665825), ('ensure adherence to aerodrome procedures', -0.26737884), ('bundle fabrics', -0.26742366), ('attend meetings', -0.2675767), ('microsensors', -0.2678632), ('install machinery', -0.26800123), ('perform machine maintenance', -0.26854295), ('compose condition reports', -0.26883137), ('use concurrent programming', -0.26953787), ('compile legal documents', -0.2695469), ('assist in performing physical exercises', -0.26976877), ('ventilation systems', -0.2698366), ('tend deburring machine', -0.27000082), ('maintain ICT system', -0.27000377), ('general surgery', -0.27096128), ('non-destructive testing', -0.2709888), ('photography', -0.27109817), ('collect samples', -0.27133784), ('order equipment', -0.27154672), ('tend CNC milling machine', -0.27183074), ('plastic surgery', -0.27195358), ('grammar', -0.27212223), ('tend computer numerical control lathe machine', -0.27222338), ('maintain air conditioning systems', -0.27238172), ('carry out internet research', -0.27249292), ('intravenous infusion', -0.27323276), ('follow hygienic work practices', -0.27337086), ('clean particular areas manually', -0.27352884), ('give constructive feedback', -0.27355847), ('nursing principles', -0.27372614), ('monitor stock level', -0.27379546), ('perform backups', -0.27454147), ('Apache Maven', -0.27456304), ('perform first fire intervention', -0.27529404), ('perform interviews', -0.27588648), ('use hair removal lasers', -0.2765716), ('check subjects', -0.2770348), ('lasers', -0.27713582), ('maintain safe working conditions in performing arts', -0.27985334), ('resuscitation', -0.28102788), ('semantics', -0.28137034), ('maintain database', -0.28223744), ('behavioural therapy', -0.282781), ('execute safety assurance exercises', -0.28295988), ('instrumentation equipment', -0.28377634), ('perform ground-handling maintenance procedures', -0.2838066), ('Scratch (computer programming)', -0.28523856), ('inspect taxation documents', -0.28548253), ('promote your writings', -0.28639254), ('attend events', -0.2867148), ('rope lashing', -0.28713632), ('surgery', -0.2875664), ('JavaScript', -0.28806877), ('use personal protection equipment', -0.2884933), ('maintain electromechanical equipment', -0.28866053), ('extinguish fires', -0.2887255), ('check in guests', -0.28926644), ('Pascal (computer programming)', -0.28966916), ('store archival objects', -0.28981057), ('on board hazards', -0.2898671), ('schedule regular machine maintenance', -0.2904462), ('read gas meter', -0.2911137), ('sharpen edged tools', -0.29121023), ('Windows Phone', -0.2915268), ('maintain machinery', -0.29156646), ('Erlang', -0.2920363), ('teach physics', -0.29253718), ('use query languages', -0.29282418), ('exercise sports', -0.29348814), ('use a computer', -0.29370305), ('query languages', -0.29429296), ('show impartiality', -0.2944061), ('clean rooms', -0.29449558), ('medical devices', -0.29487917), ('boxing', -0.2950342), ('maintain mechanical equipment', -0.29521495), ('monitor train schedules', -0.29586977), ('perform metal work', -0.29589602), ('SAS language', -0.29629532), ('assemble printed circuit boards', -0.2977741), ('tend CNC grinding machine', -0.29786327), ('polygraphy', -0.29844624), ('maintain electrical equipment', -0.30005053), ('maintain turf and grass', -0.30144235), ('blow moulding', -0.3019549), ('check finished vehicles for quality control', -0.3067084), ('use welding equipment', -0.31053716), ('apply acupuncture', -0.31099522), ('injection moulding machine parts', -0.3120237), ('repair metal sheets', -0.3123378), ('perform self-assessment', -0.31412265), ('tend CNC drilling machine', -0.31436497), ('test procedures', -0.3145921), ('use markup languages', -0.3160326), ('prepare paychecks', -0.31670144), ('use obstetric sonography', -0.31722653), ('handle paperwork', -0.31737402), ('body language', -0.31800747), ('inspect machinery', -0.31874418), ('lay non-interlocking roof tiles', -0.31921893), ('prepare assembly drawings', -0.3202505), ('Java (computer programming)', -0.32187265), ('endoscopy', -0.32310745), ('Nessus', -0.3232131), ('ICT system programming', -0.32395682), ('install air conditioning device', -0.3242806), ('exercise patience', -0.32458413), ('handle bar equipment', -0.32495132), ('cameras', -0.325357), ('maintain cores', -0.32554197), ('administer prescribed medication', -0.326829), ('assemble machines', -0.32698366), ('climbing equipment', -0.32942876), ('endocrine physiology', -0.33019856), ('apply assembly techniques', -0.33045828), ('Smalltalk (computer programming)', -0.330749), ('use IT tools', -0.33240637), ('remove computer virus or malware from a computer', -0.33404422), ('computer forensics', -0.33416146), ('conduct performance tests', -0.334188), ('human anatomy', -0.3344502), ('Apache Tomcat', -0.3355181), ('Python (computer programming)', -0.33715466), ('use automatic programming', -0.33722624), ('maintain electronic equipment', -0.33735785), ('Xcode', -0.33769014), ('perform sample testing', -0.33868584), ('maintain ICT server', -0.3395772), ('follow written instructions', -0.34168476), ('edit photographs', -0.34207097), ('maintain material handling equipment', -0.3427545), ('inspect scaffolding', -0.34540156), ('biometrics', -0.34642652), ('literature', -0.3477812), ('graphite', -0.34778795), ('maintain treatment records', -0.34781688), ('instruct public', -0.34869704), ('signal processing', -0.34893474), ('prescribe medication', -0.34983864), ('correctional procedures', -0.34999576), ('brush the equipment', -0.35109404), ('clean kitchen equipment', -0.35153282), ('perform metal inert gas welding', -0.35519585), ('instruct others', -0.35772926), ('instruct in sport', -0.35801417), ('web programming', -0.3580373), ('monitor automated machines', -0.35844415), ('monitor assessment', -0.35923845), ('audiovisual equipment', -0.3611419), ('inspect data', -0.361621), ('inspect staff', -0.36462343), ('maintain cleaning equipment', -0.36791474), ('dental anatomy', -0.36825147), ('use scripting programming', -0.36844212), ('maintain equipment', -0.3691895), ('Groovy', -0.36998367), ('maintain high quality of calls', -0.37052354), ('use orthodontic tools', -0.37534824), ('types of lathe tools', -0.37587953), ('logging', -0.37647122), ('fill out forms', -0.37730065), ('check methods', -0.37785447), ('computer programming', -0.37798807), ('monitor equipment', -0.3800779), ('clinical coding', -0.3815126), ('computer equipment', -0.3849891), ('attend performances', -0.38531077), ('use mathematical tools and equipment', -0.38532215), ('maintain medical devices', -0.39078328), ('read articles', -0.39295414), ('tend injection moulding machine', -0.39343292), ('pathogenic microorganisms', -0.39785627), ('perform lectures', -0.40056372), ('keep records of attendance', -0.40188745), ('perform venepuncture procedures', -0.40597904), ('monitor filling machines', -0.40664518), ('infection control', -0.40669373), ('audiometry', -0.40998212), ('check for damaged items', -0.4118225), ('maintain work area cleanliness', -0.41390437), ('use hand tools', -0.41406053), ('disassemble equipment', -0.41546905), ('tend filing machine', -0.4234381), ('sign language', -0.4234743), ('perform routine lube oil tests', -0.42687547), ('read books', -0.4369885), ('automated optical inspection', -0.44062465), ('machine tools', -0.44135034), ('ICT debugging tools', -0.44529244), ('glassworking', -0.47711515), ('observe logs', -0.5926888)]\n",
      "CPU times: user 476 ms, sys: 8 ms, total: 484 ms\n",
      "Wall time: 488 ms\n"
     ]
    }
   ],
   "source": [
    "%%time\n",
    "a = find_sub_sting(\"businez\", l)\n",
    "print(a)"
   ]
  },
  {
   "cell_type": "code",
   "execution_count": 113,
   "metadata": {},
   "outputs": [],
   "source": [
    "df = pd.DataFrame({\"A\":[12, 4, 5, 44, 1], \n",
    "                   \"B\":[50, 2, 54, 3, 2],  \n",
    "                   \"C\":[20, 16, 7, 3, 8], \n",
    "                   \"D\":[14, 3, 17, 2, 6]}) "
   ]
  },
  {
   "cell_type": "code",
   "execution_count": 114,
   "metadata": {},
   "outputs": [
    {
     "data": {
      "text/plain": [
       "'B'"
      ]
     },
     "execution_count": 114,
     "metadata": {},
     "output_type": "execute_result"
    }
   ],
   "source": [
    "df.mean(axis = 0).idxmax()"
   ]
  },
  {
   "cell_type": "code",
   "execution_count": 5,
   "metadata": {},
   "outputs": [],
   "source": [
    "import numpy as np\n",
    "from sklearn.metrics.pairwise import cosine_similarity\n",
    "from scipy.spatial.distance import cosine"
   ]
  },
  {
   "cell_type": "code",
   "execution_count": 4,
   "metadata": {},
   "outputs": [],
   "source": [
    "res = dict()\n",
    "with open(\"ft_vectors_cbow_50_10_0_05.vec\", \"r\") as f:\n",
    "    res = dict()\n",
    "    next(f)\n",
    "    for line in f:\n",
    "        skill = line.split(' ', 1)[0]\n",
    "        vec = np.array(line.split(' ', 1)[1].split(' ')[:-1]).astype(np.float)\n",
    "        res[skill] = vec"
   ]
  },
  {
   "cell_type": "code",
   "execution_count": 35,
   "metadata": {},
   "outputs": [],
   "source": [
    "batch = np.array(list(res.values())[0:100])\n",
    "\n",
    "cos_sim_matrix = cosine_similarity(batch)"
   ]
  },
  {
   "cell_type": "code",
   "execution_count": 47,
   "metadata": {},
   "outputs": [],
   "source": [
    "df = pd.DataFrame(cos_sim_matrix, \n",
    "                  columns=list(res.keys())[0:100],\n",
    "                  index=list(res.keys())[0:100])"
   ]
  },
  {
   "cell_type": "code",
   "execution_count": 91,
   "metadata": {
    "collapsed": true
   },
   "outputs": [
    {
     "data": {
      "text/html": [
       "<div>\n",
       "<style scoped>\n",
       "    .dataframe tbody tr th:only-of-type {\n",
       "        vertical-align: middle;\n",
       "    }\n",
       "\n",
       "    .dataframe tbody tr th {\n",
       "        vertical-align: top;\n",
       "    }\n",
       "\n",
       "    .dataframe thead th {\n",
       "        text-align: right;\n",
       "    }\n",
       "</style>\n",
       "<table border=\"1\" class=\"dataframe\">\n",
       "  <thead>\n",
       "    <tr style=\"text-align: right;\">\n",
       "      <th></th>\n",
       "      <th>team</th>\n",
       "    </tr>\n",
       "  </thead>\n",
       "  <tbody>\n",
       "    <tr>\n",
       "      <th>team</th>\n",
       "      <td>1.000000</td>\n",
       "    </tr>\n",
       "    <tr>\n",
       "      <th>support</th>\n",
       "      <td>0.458356</td>\n",
       "    </tr>\n",
       "  </tbody>\n",
       "</table>\n",
       "</div>"
      ],
      "text/plain": [
       "             team\n",
       "team     1.000000\n",
       "support  0.458356"
      ]
     },
     "execution_count": 91,
     "metadata": {},
     "output_type": "execute_result"
    }
   ],
   "source": [
    "df.loc[['team', 'support'], ['team']]"
   ]
  },
  {
   "cell_type": "code",
   "execution_count": 51,
   "metadata": {},
   "outputs": [
    {
     "data": {
      "text/html": [
       "<div>\n",
       "<style scoped>\n",
       "    .dataframe tbody tr th:only-of-type {\n",
       "        vertical-align: middle;\n",
       "    }\n",
       "\n",
       "    .dataframe tbody tr th {\n",
       "        vertical-align: top;\n",
       "    }\n",
       "\n",
       "    .dataframe thead th {\n",
       "        text-align: right;\n",
       "    }\n",
       "</style>\n",
       "<table border=\"1\" class=\"dataframe\">\n",
       "  <thead>\n",
       "    <tr style=\"text-align: right;\">\n",
       "      <th></th>\n",
       "      <th>team</th>\n",
       "      <th>development</th>\n",
       "      <th>business</th>\n",
       "      <th>&lt;/s&gt;</th>\n",
       "      <th>support</th>\n",
       "      <th>knowledge</th>\n",
       "      <th>software</th>\n",
       "      <th>data</th>\n",
       "      <th>technical</th>\n",
       "      <th>management</th>\n",
       "      <th>...</th>\n",
       "      <th>cloud</th>\n",
       "      <th>complex</th>\n",
       "      <th>implementation</th>\n",
       "      <th>range</th>\n",
       "      <th>developers</th>\n",
       "      <th>delivering</th>\n",
       "      <th>needs</th>\n",
       "      <th>architecture</th>\n",
       "      <th>stakeholders</th>\n",
       "      <th>professional</th>\n",
       "    </tr>\n",
       "  </thead>\n",
       "  <tbody>\n",
       "    <tr>\n",
       "      <th>team</th>\n",
       "      <td>1.000000</td>\n",
       "      <td>0.546168</td>\n",
       "      <td>0.407871</td>\n",
       "      <td>-0.367190</td>\n",
       "      <td>0.458356</td>\n",
       "      <td>-0.211330</td>\n",
       "      <td>0.362891</td>\n",
       "      <td>-0.064269</td>\n",
       "      <td>0.403233</td>\n",
       "      <td>0.107772</td>\n",
       "      <td>...</td>\n",
       "      <td>-0.011570</td>\n",
       "      <td>0.141126</td>\n",
       "      <td>0.213786</td>\n",
       "      <td>0.286247</td>\n",
       "      <td>0.753220</td>\n",
       "      <td>0.459311</td>\n",
       "      <td>0.211625</td>\n",
       "      <td>0.156031</td>\n",
       "      <td>0.319186</td>\n",
       "      <td>0.422196</td>\n",
       "    </tr>\n",
       "    <tr>\n",
       "      <th>development</th>\n",
       "      <td>0.546168</td>\n",
       "      <td>1.000000</td>\n",
       "      <td>0.313898</td>\n",
       "      <td>-0.421346</td>\n",
       "      <td>0.348559</td>\n",
       "      <td>0.409568</td>\n",
       "      <td>0.762928</td>\n",
       "      <td>-0.003895</td>\n",
       "      <td>0.595459</td>\n",
       "      <td>0.317950</td>\n",
       "      <td>...</td>\n",
       "      <td>0.138863</td>\n",
       "      <td>0.392033</td>\n",
       "      <td>0.614209</td>\n",
       "      <td>0.427812</td>\n",
       "      <td>0.682206</td>\n",
       "      <td>0.534964</td>\n",
       "      <td>0.175480</td>\n",
       "      <td>0.566459</td>\n",
       "      <td>0.253751</td>\n",
       "      <td>0.336354</td>\n",
       "    </tr>\n",
       "    <tr>\n",
       "      <th>business</th>\n",
       "      <td>0.407871</td>\n",
       "      <td>0.313898</td>\n",
       "      <td>1.000000</td>\n",
       "      <td>-0.272169</td>\n",
       "      <td>0.415405</td>\n",
       "      <td>-0.044261</td>\n",
       "      <td>0.172432</td>\n",
       "      <td>0.327413</td>\n",
       "      <td>0.520879</td>\n",
       "      <td>0.405341</td>\n",
       "      <td>...</td>\n",
       "      <td>0.058435</td>\n",
       "      <td>0.476450</td>\n",
       "      <td>0.527861</td>\n",
       "      <td>0.322919</td>\n",
       "      <td>0.313967</td>\n",
       "      <td>0.572787</td>\n",
       "      <td>0.631644</td>\n",
       "      <td>0.353716</td>\n",
       "      <td>0.711306</td>\n",
       "      <td>0.306167</td>\n",
       "    </tr>\n",
       "    <tr>\n",
       "      <th>&lt;/s&gt;</th>\n",
       "      <td>-0.367190</td>\n",
       "      <td>-0.421346</td>\n",
       "      <td>-0.272169</td>\n",
       "      <td>1.000000</td>\n",
       "      <td>-0.324000</td>\n",
       "      <td>-0.182697</td>\n",
       "      <td>-0.357393</td>\n",
       "      <td>-0.157324</td>\n",
       "      <td>-0.366929</td>\n",
       "      <td>-0.312721</td>\n",
       "      <td>...</td>\n",
       "      <td>-0.054036</td>\n",
       "      <td>-0.466842</td>\n",
       "      <td>-0.385026</td>\n",
       "      <td>-0.343838</td>\n",
       "      <td>-0.324776</td>\n",
       "      <td>-0.528286</td>\n",
       "      <td>-0.275094</td>\n",
       "      <td>-0.335376</td>\n",
       "      <td>-0.232023</td>\n",
       "      <td>-0.207505</td>\n",
       "    </tr>\n",
       "    <tr>\n",
       "      <th>support</th>\n",
       "      <td>0.458356</td>\n",
       "      <td>0.348559</td>\n",
       "      <td>0.415405</td>\n",
       "      <td>-0.324000</td>\n",
       "      <td>1.000000</td>\n",
       "      <td>0.039474</td>\n",
       "      <td>0.233995</td>\n",
       "      <td>0.043679</td>\n",
       "      <td>0.536830</td>\n",
       "      <td>0.505280</td>\n",
       "      <td>...</td>\n",
       "      <td>-0.022496</td>\n",
       "      <td>0.208792</td>\n",
       "      <td>0.569804</td>\n",
       "      <td>0.383999</td>\n",
       "      <td>0.174114</td>\n",
       "      <td>0.425402</td>\n",
       "      <td>0.379612</td>\n",
       "      <td>0.085279</td>\n",
       "      <td>0.294910</td>\n",
       "      <td>0.401248</td>\n",
       "    </tr>\n",
       "    <tr>\n",
       "      <th>...</th>\n",
       "      <td>...</td>\n",
       "      <td>...</td>\n",
       "      <td>...</td>\n",
       "      <td>...</td>\n",
       "      <td>...</td>\n",
       "      <td>...</td>\n",
       "      <td>...</td>\n",
       "      <td>...</td>\n",
       "      <td>...</td>\n",
       "      <td>...</td>\n",
       "      <td>...</td>\n",
       "      <td>...</td>\n",
       "      <td>...</td>\n",
       "      <td>...</td>\n",
       "      <td>...</td>\n",
       "      <td>...</td>\n",
       "      <td>...</td>\n",
       "      <td>...</td>\n",
       "      <td>...</td>\n",
       "      <td>...</td>\n",
       "      <td>...</td>\n",
       "    </tr>\n",
       "    <tr>\n",
       "      <th>delivering</th>\n",
       "      <td>0.459311</td>\n",
       "      <td>0.534964</td>\n",
       "      <td>0.572787</td>\n",
       "      <td>-0.528286</td>\n",
       "      <td>0.425402</td>\n",
       "      <td>0.161763</td>\n",
       "      <td>0.365145</td>\n",
       "      <td>0.091258</td>\n",
       "      <td>0.537797</td>\n",
       "      <td>0.475968</td>\n",
       "      <td>...</td>\n",
       "      <td>0.154979</td>\n",
       "      <td>0.586657</td>\n",
       "      <td>0.590884</td>\n",
       "      <td>0.480128</td>\n",
       "      <td>0.333837</td>\n",
       "      <td>1.000000</td>\n",
       "      <td>0.427695</td>\n",
       "      <td>0.384868</td>\n",
       "      <td>0.499087</td>\n",
       "      <td>0.423507</td>\n",
       "    </tr>\n",
       "    <tr>\n",
       "      <th>needs</th>\n",
       "      <td>0.211625</td>\n",
       "      <td>0.175480</td>\n",
       "      <td>0.631644</td>\n",
       "      <td>-0.275094</td>\n",
       "      <td>0.379612</td>\n",
       "      <td>-0.084129</td>\n",
       "      <td>-0.003881</td>\n",
       "      <td>0.141243</td>\n",
       "      <td>0.439825</td>\n",
       "      <td>0.125760</td>\n",
       "      <td>...</td>\n",
       "      <td>-0.063518</td>\n",
       "      <td>0.416024</td>\n",
       "      <td>0.346387</td>\n",
       "      <td>0.307621</td>\n",
       "      <td>0.203530</td>\n",
       "      <td>0.427695</td>\n",
       "      <td>1.000000</td>\n",
       "      <td>0.261225</td>\n",
       "      <td>0.576213</td>\n",
       "      <td>0.304516</td>\n",
       "    </tr>\n",
       "    <tr>\n",
       "      <th>architecture</th>\n",
       "      <td>0.156031</td>\n",
       "      <td>0.566459</td>\n",
       "      <td>0.353716</td>\n",
       "      <td>-0.335376</td>\n",
       "      <td>0.085279</td>\n",
       "      <td>0.364180</td>\n",
       "      <td>0.484540</td>\n",
       "      <td>0.296331</td>\n",
       "      <td>0.595392</td>\n",
       "      <td>0.318008</td>\n",
       "      <td>...</td>\n",
       "      <td>0.575766</td>\n",
       "      <td>0.505697</td>\n",
       "      <td>0.647815</td>\n",
       "      <td>0.121020</td>\n",
       "      <td>0.327489</td>\n",
       "      <td>0.384868</td>\n",
       "      <td>0.261225</td>\n",
       "      <td>1.000000</td>\n",
       "      <td>0.354468</td>\n",
       "      <td>-0.016229</td>\n",
       "    </tr>\n",
       "    <tr>\n",
       "      <th>stakeholders</th>\n",
       "      <td>0.319186</td>\n",
       "      <td>0.253751</td>\n",
       "      <td>0.711306</td>\n",
       "      <td>-0.232023</td>\n",
       "      <td>0.294910</td>\n",
       "      <td>0.081870</td>\n",
       "      <td>0.032649</td>\n",
       "      <td>0.245904</td>\n",
       "      <td>0.538241</td>\n",
       "      <td>0.486596</td>\n",
       "      <td>...</td>\n",
       "      <td>-0.077411</td>\n",
       "      <td>0.513087</td>\n",
       "      <td>0.497280</td>\n",
       "      <td>0.221552</td>\n",
       "      <td>0.253490</td>\n",
       "      <td>0.499087</td>\n",
       "      <td>0.576213</td>\n",
       "      <td>0.354468</td>\n",
       "      <td>1.000000</td>\n",
       "      <td>0.248894</td>\n",
       "    </tr>\n",
       "    <tr>\n",
       "      <th>professional</th>\n",
       "      <td>0.422196</td>\n",
       "      <td>0.336354</td>\n",
       "      <td>0.306167</td>\n",
       "      <td>-0.207505</td>\n",
       "      <td>0.401248</td>\n",
       "      <td>0.242929</td>\n",
       "      <td>0.119601</td>\n",
       "      <td>-0.147053</td>\n",
       "      <td>0.437443</td>\n",
       "      <td>0.352290</td>\n",
       "      <td>...</td>\n",
       "      <td>-0.114930</td>\n",
       "      <td>0.213908</td>\n",
       "      <td>0.143023</td>\n",
       "      <td>0.337178</td>\n",
       "      <td>0.180957</td>\n",
       "      <td>0.423507</td>\n",
       "      <td>0.304516</td>\n",
       "      <td>-0.016229</td>\n",
       "      <td>0.248894</td>\n",
       "      <td>1.000000</td>\n",
       "    </tr>\n",
       "  </tbody>\n",
       "</table>\n",
       "<p>100 rows × 100 columns</p>\n",
       "</div>"
      ],
      "text/plain": [
       "                  team  development  business      </s>   support  knowledge  \\\n",
       "team          1.000000     0.546168  0.407871 -0.367190  0.458356  -0.211330   \n",
       "development   0.546168     1.000000  0.313898 -0.421346  0.348559   0.409568   \n",
       "business      0.407871     0.313898  1.000000 -0.272169  0.415405  -0.044261   \n",
       "</s>         -0.367190    -0.421346 -0.272169  1.000000 -0.324000  -0.182697   \n",
       "support       0.458356     0.348559  0.415405 -0.324000  1.000000   0.039474   \n",
       "...                ...          ...       ...       ...       ...        ...   \n",
       "delivering    0.459311     0.534964  0.572787 -0.528286  0.425402   0.161763   \n",
       "needs         0.211625     0.175480  0.631644 -0.275094  0.379612  -0.084129   \n",
       "architecture  0.156031     0.566459  0.353716 -0.335376  0.085279   0.364180   \n",
       "stakeholders  0.319186     0.253751  0.711306 -0.232023  0.294910   0.081870   \n",
       "professional  0.422196     0.336354  0.306167 -0.207505  0.401248   0.242929   \n",
       "\n",
       "              software      data  technical  management  ...     cloud  \\\n",
       "team          0.362891 -0.064269   0.403233    0.107772  ... -0.011570   \n",
       "development   0.762928 -0.003895   0.595459    0.317950  ...  0.138863   \n",
       "business      0.172432  0.327413   0.520879    0.405341  ...  0.058435   \n",
       "</s>         -0.357393 -0.157324  -0.366929   -0.312721  ... -0.054036   \n",
       "support       0.233995  0.043679   0.536830    0.505280  ... -0.022496   \n",
       "...                ...       ...        ...         ...  ...       ...   \n",
       "delivering    0.365145  0.091258   0.537797    0.475968  ...  0.154979   \n",
       "needs        -0.003881  0.141243   0.439825    0.125760  ... -0.063518   \n",
       "architecture  0.484540  0.296331   0.595392    0.318008  ...  0.575766   \n",
       "stakeholders  0.032649  0.245904   0.538241    0.486596  ... -0.077411   \n",
       "professional  0.119601 -0.147053   0.437443    0.352290  ... -0.114930   \n",
       "\n",
       "               complex  implementation     range  developers  delivering  \\\n",
       "team          0.141126        0.213786  0.286247    0.753220    0.459311   \n",
       "development   0.392033        0.614209  0.427812    0.682206    0.534964   \n",
       "business      0.476450        0.527861  0.322919    0.313967    0.572787   \n",
       "</s>         -0.466842       -0.385026 -0.343838   -0.324776   -0.528286   \n",
       "support       0.208792        0.569804  0.383999    0.174114    0.425402   \n",
       "...                ...             ...       ...         ...         ...   \n",
       "delivering    0.586657        0.590884  0.480128    0.333837    1.000000   \n",
       "needs         0.416024        0.346387  0.307621    0.203530    0.427695   \n",
       "architecture  0.505697        0.647815  0.121020    0.327489    0.384868   \n",
       "stakeholders  0.513087        0.497280  0.221552    0.253490    0.499087   \n",
       "professional  0.213908        0.143023  0.337178    0.180957    0.423507   \n",
       "\n",
       "                 needs  architecture  stakeholders  professional  \n",
       "team          0.211625      0.156031      0.319186      0.422196  \n",
       "development   0.175480      0.566459      0.253751      0.336354  \n",
       "business      0.631644      0.353716      0.711306      0.306167  \n",
       "</s>         -0.275094     -0.335376     -0.232023     -0.207505  \n",
       "support       0.379612      0.085279      0.294910      0.401248  \n",
       "...                ...           ...           ...           ...  \n",
       "delivering    0.427695      0.384868      0.499087      0.423507  \n",
       "needs         1.000000      0.261225      0.576213      0.304516  \n",
       "architecture  0.261225      1.000000      0.354468     -0.016229  \n",
       "stakeholders  0.576213      0.354468      1.000000      0.248894  \n",
       "professional  0.304516     -0.016229      0.248894      1.000000  \n",
       "\n",
       "[100 rows x 100 columns]"
      ]
     },
     "execution_count": 51,
     "metadata": {},
     "output_type": "execute_result"
    }
   ],
   "source": [
    "df"
   ]
  },
  {
   "cell_type": "code",
   "execution_count": 27,
   "metadata": {},
   "outputs": [
    {
     "data": {
      "text/plain": [
       "array([[ 1.        ,  0.54616796,  0.40787082, ...,  0.15603149,\n",
       "         0.31918593,  0.42219576],\n",
       "       [ 0.54616796,  1.        ,  0.31389837, ...,  0.56645873,\n",
       "         0.25375117,  0.33635385],\n",
       "       [ 0.40787082,  0.31389837,  1.        , ...,  0.35371594,\n",
       "         0.71130618,  0.30616668],\n",
       "       ...,\n",
       "       [ 0.15603149,  0.56645873,  0.35371594, ...,  1.        ,\n",
       "         0.35446754, -0.01622902],\n",
       "       [ 0.31918593,  0.25375117,  0.71130618, ...,  0.35446754,\n",
       "         1.        ,  0.24889377],\n",
       "       [ 0.42219576,  0.33635385,  0.30616668, ..., -0.01622902,\n",
       "         0.24889377,  1.        ]])"
      ]
     },
     "execution_count": 27,
     "metadata": {},
     "output_type": "execute_result"
    }
   ],
   "source": [
    "cos_sim_matrix"
   ]
  },
  {
   "cell_type": "code",
   "execution_count": 12,
   "metadata": {},
   "outputs": [
    {
     "data": {
      "text/plain": [
       "array([[ 3.6812e+00,  8.0038e+00, -1.1202e+01, -5.5041e+00, -9.2364e-01,\n",
       "        -3.0491e+00,  3.9270e+00, -1.1008e+00,  2.2651e+00,  1.7978e+00,\n",
       "        -2.5573e+00, -2.8215e+00,  5.7468e+00,  5.0150e+00, -1.2353e+00,\n",
       "        -1.2950e+00, -4.9979e+00, -1.8071e+00, -3.0039e+00, -1.1048e+00,\n",
       "         1.1357e+01, -2.4231e+00, -4.2181e+00,  3.7512e+00, -1.0883e+01,\n",
       "        -5.0247e+00, -3.0746e-01,  3.2239e+00,  2.9669e+00, -2.9056e+00,\n",
       "         2.5248e+00,  2.3988e+00, -5.9446e+00, -1.3846e+00,  6.4368e+00,\n",
       "         2.0415e+00, -1.7573e+00, -4.9802e+00, -3.3233e+00,  6.0821e+00,\n",
       "         2.4876e+00,  3.3052e+00,  1.0224e+00, -5.2584e+00, -5.8962e+00,\n",
       "         4.2960e+00,  5.1563e+00,  7.1303e-01, -3.6906e+00,  4.7729e+00],\n",
       "       [ 3.7171e+00,  7.4125e-01, -2.3379e+00, -1.3539e-01, -3.1659e+00,\n",
       "        -2.2374e+00,  1.6443e+00, -4.9635e-01, -2.6406e+00,  2.0127e+00,\n",
       "        -4.4795e-01,  3.8531e-01,  1.0746e+00, -1.5886e+00, -1.8618e+00,\n",
       "        -3.8247e-01, -7.1371e-01, -2.3662e+00, -3.7672e+00,  4.4673e-01,\n",
       "         4.8786e+00, -3.2710e+00, -3.5422e+00,  3.5428e+00, -3.1536e+00,\n",
       "        -2.2007e+00, -1.9370e+00,  2.7901e+00,  3.5898e+00,  7.5665e-01,\n",
       "        -5.6314e-01,  1.1267e+00,  3.2407e-01, -9.2149e-01,  3.7340e+00,\n",
       "         5.1806e-01,  9.9663e-01,  2.3341e-01,  2.0946e+00, -3.1889e-01,\n",
       "        -3.9310e-01,  2.1871e+00, -9.6065e-01, -2.1910e-01, -1.8255e+00,\n",
       "         7.8620e-01, -3.3021e+00, -7.2348e-02,  2.3956e-03,  4.0550e+00]])"
      ]
     },
     "execution_count": 12,
     "metadata": {},
     "output_type": "execute_result"
    }
   ],
   "source": [
    "e[0:2]"
   ]
  },
  {
   "cell_type": "code",
   "execution_count": 21,
   "metadata": {},
   "outputs": [
    {
     "data": {
      "text/plain": [
       "113656"
      ]
     },
     "execution_count": 21,
     "metadata": {},
     "output_type": "execute_result"
    }
   ],
   "source": [
    "len(e)"
   ]
  },
  {
   "cell_type": "code",
   "execution_count": 49,
   "metadata": {},
   "outputs": [],
   "source": [
    "mat = np.concatenate( e, axis=0 )"
   ]
  },
  {
   "cell_type": "code",
   "execution_count": 51,
   "metadata": {},
   "outputs": [
    {
     "data": {
      "text/plain": [
       "array([  3.6812,   8.0038, -11.202 , ...,  -6.333 ,  -2.4687,   1.0271])"
      ]
     },
     "execution_count": 51,
     "metadata": {},
     "output_type": "execute_result"
    }
   ],
   "source": [
    "mat"
   ]
  },
  {
   "cell_type": "code",
   "execution_count": 20,
   "metadata": {},
   "outputs": [
    {
     "data": {
      "text/plain": [
       "113656"
      ]
     },
     "execution_count": 20,
     "metadata": {},
     "output_type": "execute_result"
    }
   ],
   "source": [
    "len(e)"
   ]
  },
  {
   "cell_type": "code",
   "execution_count": 19,
   "metadata": {},
   "outputs": [
    {
     "ename": "TypeError",
     "evalue": "paired_cosine_distances() missing 1 required positional argument: 'Y'",
     "output_type": "error",
     "traceback": [
      "\u001b[0;31m---------------------------------------------------------------------------\u001b[0m",
      "\u001b[0;31mTypeError\u001b[0m                                 Traceback (most recent call last)",
      "\u001b[0;32m<ipython-input-19-3423b2feb578>\u001b[0m in \u001b[0;36m<module>\u001b[0;34m\u001b[0m\n\u001b[1;32m      1\u001b[0m \u001b[0;32mfrom\u001b[0m \u001b[0msklearn\u001b[0m\u001b[0;34m.\u001b[0m\u001b[0mmetrics\u001b[0m\u001b[0;34m.\u001b[0m\u001b[0mpairwise\u001b[0m \u001b[0;32mimport\u001b[0m \u001b[0;34m*\u001b[0m\u001b[0;34m\u001b[0m\u001b[0;34m\u001b[0m\u001b[0m\n\u001b[0;32m----> 2\u001b[0;31m \u001b[0mdist_out\u001b[0m \u001b[0;34m=\u001b[0m \u001b[0mpaired_cosine_distances\u001b[0m\u001b[0;34m(\u001b[0m\u001b[0me\u001b[0m\u001b[0;34m)\u001b[0m\u001b[0;34m\u001b[0m\u001b[0;34m\u001b[0m\u001b[0m\n\u001b[0m",
      "\u001b[0;31mTypeError\u001b[0m: paired_cosine_distances() missing 1 required positional argument: 'Y'"
     ]
    }
   ],
   "source": [
    "dist_out = cosine_similarity(e,e, dense_output=False)"
   ]
  },
  {
   "cell_type": "code",
   "execution_count": 18,
   "metadata": {},
   "outputs": [
    {
     "data": {
      "text/plain": [
       "0.0"
      ]
     },
     "execution_count": 18,
     "metadata": {},
     "output_type": "execute_result"
    }
   ],
   "source": [
    "dist_out[100000]"
   ]
  }
 ],
 "metadata": {
  "kernelspec": {
   "display_name": "Python 3",
   "language": "python",
   "name": "python3"
  },
  "language_info": {
   "codemirror_mode": {
    "name": "ipython",
    "version": 3
   },
   "file_extension": ".py",
   "mimetype": "text/x-python",
   "name": "python",
   "nbconvert_exporter": "python",
   "pygments_lexer": "ipython3",
   "version": "3.6.10"
  }
 },
 "nbformat": 4,
 "nbformat_minor": 4
}
