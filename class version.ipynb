{
 "cells": [
  {
   "cell_type": "markdown",
   "metadata": {},
   "source": [
    "### Workflow\n",
    "\n",
    "1. Per la prima stringa si suggeriscono solo le skill che iniziano per la stringa inserita fino a quel momento.\\\n",
    "TODO: decidere quali motrare, quelle più lunghe? a caso?\n",
    "\n",
    "\n",
    "2. Per le successive stringe si considerano le skill inserite fino a quel momento: partendo dalla stringa inserita si ricavano le skill che contengono quella stringa, come in 1, poi per ognuna di queste si calcola la similarità del coseno con le skill già inserite e si suggerisce la skill con la media delle similarità più altra\\\n",
    "TODO: decidere quante skill mostrare. Usare la gerarchia delle skill come altra metrica di suggerimento, ad esempio in base alla distanza dal primo antenato in comune\n",
    "\n",
    "\n",
    "3. suggerire anche una skill che non contenga la stringa inserita fino a quel momento ma che sia semplicemente la più simile con quelle inserite precedentemente, calcolata come per 2\n",
    "\n",
    "\n",
    "4. Gestire gli errori di typo: individuarli e suggerire un'alternativa"
   ]
  },
  {
   "cell_type": "code",
   "execution_count": 1,
   "metadata": {},
   "outputs": [],
   "source": [
    "import numpy as np\n",
    "import pandas as pd\n",
    "from sklearn.metrics.pairwise import cosine_similarity\n",
    "from bisect import bisect_left\n",
    "import ipywidgets as widgets\n",
    "import difflib"
   ]
  },
  {
   "cell_type": "code",
   "execution_count": 41,
   "metadata": {},
   "outputs": [],
   "source": [
    "class SuggestsTextArea:\n",
    "    \n",
    "    def __init__(self):\n",
    "        self.vectors = self.load_vectors()\n",
    "        self.batch = np.array(list(self.vectors.values()))[0:100]\n",
    "        self.cos_sim_matrix = pd.DataFrame(cosine_similarity(self.batch), \n",
    "                                           columns=list(self.vectors.keys())[0:100],\n",
    "                                           index=list(self.vectors.keys())[0:100])\n",
    "\n",
    "        self.layout = widgets.Layout(flex='0 1 auto', height='100px', min_height='100px', width='auto')\n",
    "        self.suggest_buttons = list()\n",
    "        self.textArea = widgets.Textarea(\n",
    "            value='',\n",
    "            placeholder='Type something',\n",
    "            description='Skill:',\n",
    "            disabled=False,\n",
    "            tooltip='Enter the name of the Text field',\n",
    "            height='90px', \n",
    "            layout=self.layout\n",
    "        )\n",
    "        \n",
    "    \n",
    "    def load_vectors(self):\n",
    "        '''\n",
    "        Load embeddings vectors, return dict skill: vector\n",
    "        '''\n",
    "        with open(\"ft_vectors_cbow_50_10_0_05.vec\", \"r\") as f:\n",
    "            res = dict()\n",
    "            next(f)\n",
    "            for line in f:\n",
    "                skill = line.split(' ', 1)[0]\n",
    "                vec = np.array(line.split(' ', 1)[1].split(' ')[:-1]).astype(np.float)\n",
    "                #vec = np.array(list(line.split(' ', 1)[1].splitlines()))\n",
    "                res[skill] = vec\n",
    "            return res\n",
    "    \n",
    "    \n",
    "    def find_sub_sting(self, word, words_list):\n",
    "        '''\n",
    "        Find all skill that contain the new string insert by user\n",
    "        '''\n",
    "        return [w for w in sorted(words_list) if w.lower().startswith(word.lower())]\n",
    "    \n",
    "    \n",
    "    def get_best_similarity_skill(self, context, new_input):\n",
    "        '''\n",
    "        Get the four most similarity skills respect of the user's input\n",
    "        '''\n",
    "        find_suggests = self.find_sub_sting(new_input, list(self.vectors.keys())[0:100])[:4]\n",
    "        candidate_skill = self.cos_sim_matrix.loc[context, find_suggests]\n",
    "        return candidate_skill.mean(axis = 0).sort_values(ascending=False)\n",
    "        #return candidate_skill.mean(axis = 0).idxmax(), candidate_skill.mean(axis = 0).max()\n",
    "        \n",
    "    \n",
    "    def show_textarea(self):\n",
    "        '''\n",
    "        Show the text area widget\n",
    "        '''\n",
    "        display(self.textArea)\n",
    "        self.textArea.observe(self.suggests_manager, names='value')\n",
    "        \n",
    "        \n",
    "    def clear_skill(self, skill):\n",
    "        '''\n",
    "        Replace the _ whith space\n",
    "        '''\n",
    "        return skill.replace('_', ' ')\n",
    "    \n",
    "    \n",
    "    def suggests_manager(self, widget):\n",
    "        '''\n",
    "        Main function of the class, manage the suggestions in different case\n",
    "        '''\n",
    "        self.close_widgets()\n",
    "        old_input = widget['old']\n",
    "        new_input = widget['new'].split(' ')[-1]\n",
    "        context = old_input.split(', ')[:-1]\n",
    "        if context != []:\n",
    "            sug = self.get_best_similarity_skill(context, new_input)\n",
    "            for index, value in sug.items():\n",
    "                b = widgets.Button(\n",
    "                    description=f'{index} - {round(value*100, 2)}%', # fix negative similarity: e.g. -35%\n",
    "                    disabled=False,\n",
    "                    button_style='success', # 'success', 'info', 'warning', 'danger' or ''\n",
    "                    tooltip='Click me'\n",
    "                )\n",
    "\n",
    "                b.on_click(self.my_event_handler)\n",
    "                self.suggest_buttons.append(b)\n",
    "            \n",
    "        else:\n",
    "            if len(new_input)>3:\n",
    "                find_suggests = self.find_sub_sting(new_input, list(self.vectors.keys())[0:100])[:4]\n",
    "                grammatical_suggests = [self.clear_skill(s) for s in find_suggests]\n",
    "                    \n",
    "                    \n",
    "                for sub in grammatical_suggests:\n",
    "\n",
    "                    b = widgets.Button(\n",
    "                        description=sub,\n",
    "                        disabled=False,\n",
    "                        button_style='', # 'success', 'info', 'warning', 'danger' or ''\n",
    "                        tooltip='Click me'\n",
    "                    )\n",
    "\n",
    "                    b.on_click(self.my_event_handler)\n",
    "                    self.suggest_buttons.append(b)\n",
    "        display(widgets.HBox(self.suggest_buttons))\n",
    "\n",
    "\n",
    "    def my_event_handler(self, btn_object):\n",
    "        '''\n",
    "        Button click handler, add the skill pressed to the text area\n",
    "        '''\n",
    "        skill_list = self.textArea.value.split(' ')\n",
    "        skill_list[-1] = btn_object.description.split(' ')[0]\n",
    "        new_contest = ' '.join(skill_list) + ', '\n",
    "        self.textArea.value = new_contest\n",
    "        self.close_widgets()\n",
    "    \n",
    "    \n",
    "    def close_widgets(self):# fix button go down on every input\n",
    "        '''\n",
    "        Remove button of old suggestions\n",
    "        '''\n",
    "        for w in self.suggest_buttons:\n",
    "            w.close()\n",
    "        self.suggest_buttons = list()\n",
    "\n",
    "    \n",
    "    "
   ]
  },
  {
   "cell_type": "code",
   "execution_count": 39,
   "metadata": {
    "scrolled": false
   },
   "outputs": [
    {
     "data": {
      "application/vnd.jupyter.widget-view+json": {
       "model_id": "f453c216c16c46cf8e7873e70aa99c7d",
       "version_major": 2,
       "version_minor": 0
      },
      "text/plain": [
       "Textarea(value='', description='Skill:', layout=Layout(flex='0 1 auto', height='100px', min_height='100px', wi…"
      ]
     },
     "metadata": {},
     "output_type": "display_data"
    },
    {
     "data": {
      "application/vnd.jupyter.widget-view+json": {
       "model_id": "336233cfb45a4abbb66fb2001406882a",
       "version_major": 2,
       "version_minor": 0
      },
      "text/plain": [
       "HBox()"
      ]
     },
     "metadata": {},
     "output_type": "display_data"
    },
    {
     "data": {
      "application/vnd.jupyter.widget-view+json": {
       "model_id": "57a602754cfc428d90235e0832e45d38",
       "version_major": 2,
       "version_minor": 0
      },
      "text/plain": [
       "HBox()"
      ]
     },
     "metadata": {},
     "output_type": "display_data"
    },
    {
     "data": {
      "application/vnd.jupyter.widget-view+json": {
       "model_id": "98c9e383448c4747b04f5b792c9e8a84",
       "version_major": 2,
       "version_minor": 0
      },
      "text/plain": [
       "HBox()"
      ]
     },
     "metadata": {},
     "output_type": "display_data"
    },
    {
     "data": {
      "application/vnd.jupyter.widget-view+json": {
       "model_id": "7c765b73ac92439a8619274040bc592f",
       "version_major": 2,
       "version_minor": 0
      },
      "text/plain": [
       "HBox(children=(Button(description='manage', style=ButtonStyle(), tooltip='Click me'), Button(description='mana…"
      ]
     },
     "metadata": {},
     "output_type": "display_data"
    },
    {
     "data": {
      "application/vnd.jupyter.widget-view+json": {
       "model_id": "9ebc13aa1987446cb99dbd7b3c2c5a27",
       "version_major": 2,
       "version_minor": 0
      },
      "text/plain": [
       "HBox()"
      ]
     },
     "metadata": {},
     "output_type": "display_data"
    },
    {
     "data": {
      "application/vnd.jupyter.widget-view+json": {
       "model_id": "9947ad25a6a44b6db5737c386fb8679d",
       "version_major": 2,
       "version_minor": 0
      },
      "text/plain": [
       "HBox(children=(Button(button_style='success', description='technical - 44.0%', style=ButtonStyle(), tooltip='C…"
      ]
     },
     "metadata": {},
     "output_type": "display_data"
    },
    {
     "data": {
      "application/vnd.jupyter.widget-view+json": {
       "model_id": "a1f82c9cd1644769ab2ba36138f95628",
       "version_major": 2,
       "version_minor": 0
      },
      "text/plain": [
       "HBox(children=(Button(button_style='success', description='technical - 44.0%', style=ButtonStyle(), tooltip='C…"
      ]
     },
     "metadata": {},
     "output_type": "display_data"
    },
    {
     "data": {
      "application/vnd.jupyter.widget-view+json": {
       "model_id": "90434d5a61864362adab3b67fb1ec488",
       "version_major": 2,
       "version_minor": 0
      },
      "text/plain": [
       "HBox()"
      ]
     },
     "metadata": {},
     "output_type": "display_data"
    },
    {
     "data": {
      "application/vnd.jupyter.widget-view+json": {
       "model_id": "cd03a8a2e4244bc98e47260df773baff",
       "version_major": 2,
       "version_minor": 0
      },
      "text/plain": [
       "HBox(children=(Button(button_style='success', description='technical - 44.0%', style=ButtonStyle(), tooltip='C…"
      ]
     },
     "metadata": {},
     "output_type": "display_data"
    },
    {
     "data": {
      "application/vnd.jupyter.widget-view+json": {
       "model_id": "8afc5265eda94cf9851d70ea33e767c5",
       "version_major": 2,
       "version_minor": 0
      },
      "text/plain": [
       "HBox(children=(Button(button_style='success', description='technical - 44.0%', style=ButtonStyle(), tooltip='C…"
      ]
     },
     "metadata": {},
     "output_type": "display_data"
    },
    {
     "data": {
      "application/vnd.jupyter.widget-view+json": {
       "model_id": "21e63a430468412eba99f098d20a2b1c",
       "version_major": 2,
       "version_minor": 0
      },
      "text/plain": [
       "HBox(children=(Button(button_style='success', description='technical - 44.0%', style=ButtonStyle(), tooltip='C…"
      ]
     },
     "metadata": {},
     "output_type": "display_data"
    },
    {
     "data": {
      "application/vnd.jupyter.widget-view+json": {
       "model_id": "7b1c308b55964c31ac4071839fcc6486",
       "version_major": 2,
       "version_minor": 0
      },
      "text/plain": [
       "HBox(children=(Button(button_style='success', description='technical - 44.0%', style=ButtonStyle(), tooltip='C…"
      ]
     },
     "metadata": {},
     "output_type": "display_data"
    },
    {
     "data": {
      "application/vnd.jupyter.widget-view+json": {
       "model_id": "d4bf8b5675f3477b9df94d64cc93d374",
       "version_major": 2,
       "version_minor": 0
      },
      "text/plain": [
       "HBox(children=(Button(button_style='success', description='technical - 44.0%', style=ButtonStyle(), tooltip='C…"
      ]
     },
     "metadata": {},
     "output_type": "display_data"
    },
    {
     "data": {
      "application/vnd.jupyter.widget-view+json": {
       "model_id": "f1fa88f78739453486ae27d4abb064bf",
       "version_major": 2,
       "version_minor": 0
      },
      "text/plain": [
       "HBox()"
      ]
     },
     "metadata": {},
     "output_type": "display_data"
    },
    {
     "data": {
      "application/vnd.jupyter.widget-view+json": {
       "model_id": "437bd0efc78942709d7086b454f08f51",
       "version_major": 2,
       "version_minor": 0
      },
      "text/plain": [
       "HBox(children=(Button(button_style='success', description='technical - 44.0%', style=ButtonStyle(), tooltip='C…"
      ]
     },
     "metadata": {},
     "output_type": "display_data"
    },
    {
     "data": {
      "application/vnd.jupyter.widget-view+json": {
       "model_id": "e0425c96ef204877b05df074dc4a359c",
       "version_major": 2,
       "version_minor": 0
      },
      "text/plain": [
       "HBox(children=(Button(button_style='success', description='technical - 44.0%', style=ButtonStyle(), tooltip='C…"
      ]
     },
     "metadata": {},
     "output_type": "display_data"
    },
    {
     "data": {
      "application/vnd.jupyter.widget-view+json": {
       "model_id": "5ce2abfa6d2e4ab38d63ed6c939adb4c",
       "version_major": 2,
       "version_minor": 0
      },
      "text/plain": [
       "HBox(children=(Button(button_style='success', description='technical - 44.0%', style=ButtonStyle(), tooltip='C…"
      ]
     },
     "metadata": {},
     "output_type": "display_data"
    },
    {
     "data": {
      "application/vnd.jupyter.widget-view+json": {
       "model_id": "d12dee65be32471a877ed6e7644516d1",
       "version_major": 2,
       "version_minor": 0
      },
      "text/plain": [
       "HBox(children=(Button(button_style='success', description='teams - 41.85%', style=ButtonStyle(), tooltip='Clic…"
      ]
     },
     "metadata": {},
     "output_type": "display_data"
    },
    {
     "data": {
      "application/vnd.jupyter.widget-view+json": {
       "model_id": "995befd926cf4450a474ade8cda63049",
       "version_major": 2,
       "version_minor": 0
      },
      "text/plain": [
       "HBox(children=(Button(button_style='success', description='teams - 41.85%', style=ButtonStyle(), tooltip='Clic…"
      ]
     },
     "metadata": {},
     "output_type": "display_data"
    },
    {
     "data": {
      "application/vnd.jupyter.widget-view+json": {
       "model_id": "a20bf0e60fe444cc92a3aa733f5c840c",
       "version_major": 2,
       "version_minor": 0
      },
      "text/plain": [
       "HBox(children=(Button(button_style='success', description='ability - 44.74%', style=ButtonStyle(), tooltip='Cl…"
      ]
     },
     "metadata": {},
     "output_type": "display_data"
    },
    {
     "data": {
      "application/vnd.jupyter.widget-view+json": {
       "model_id": "6f388bc615784e0cbc803b4304a787a6",
       "version_major": 2,
       "version_minor": 0
      },
      "text/plain": [
       "HBox(children=(Button(button_style='success', description='ability - 29.79%', style=ButtonStyle(), tooltip='Cl…"
      ]
     },
     "metadata": {},
     "output_type": "display_data"
    },
    {
     "data": {
      "application/vnd.jupyter.widget-view+json": {
       "model_id": "db72723fcc044681ae4c8bea38b40e44",
       "version_major": 2,
       "version_minor": 0
      },
      "text/plain": [
       "HBox(children=(Button(button_style='success', description='ability - 29.79%', style=ButtonStyle(), tooltip='Cl…"
      ]
     },
     "metadata": {},
     "output_type": "display_data"
    }
   ],
   "source": [
    "t = SuggestsTextArea()\n",
    "t.show_textarea()"
   ]
  },
  {
   "cell_type": "code",
   "execution_count": 87,
   "metadata": {},
   "outputs": [
    {
     "data": {
      "text/plain": [
       "['team',\n",
       " 'development',\n",
       " 'business',\n",
       " '</s>',\n",
       " 'support',\n",
       " 'knowledge',\n",
       " 'software',\n",
       " 'data',\n",
       " 'technical',\n",
       " 'management',\n",
       " 'client',\n",
       " 'systems',\n",
       " 'based',\n",
       " 'solutions',\n",
       " 'including',\n",
       " 'design',\n",
       " 'projects',\n",
       " 'services',\n",
       " 'technology',\n",
       " 'environment',\n",
       " 'engineer',\n",
       " 'clients',\n",
       " 'project',\n",
       " 'ensure',\n",
       " 'provide',\n",
       " 'developer',\n",
       " 'manager',\n",
       " 'understanding',\n",
       " 'technologies',\n",
       " 'service',\n",
       " 'delivery',\n",
       " 'ability',\n",
       " 'develop',\n",
       " 'engineering',\n",
       " 'security',\n",
       " 'leading',\n",
       " 'teams',\n",
       " 'quality',\n",
       " 'training',\n",
       " 'customers',\n",
       " 'product',\n",
       " 'essential',\n",
       " 'experienced',\n",
       " 'system',\n",
       " 'deliver',\n",
       " 'responsible',\n",
       " 'help',\n",
       " 'products',\n",
       " 'process',\n",
       " 'global',\n",
       " 'communication',\n",
       " 'customer',\n",
       " 'organisation',\n",
       " 'developing',\n",
       " 'tools',\n",
       " 'able',\n",
       " 'use',\n",
       " 'manage',\n",
       " 'infrastructure',\n",
       " 'testing',\n",
       " 'processes',\n",
       " 'digital',\n",
       " 'responsibilities',\n",
       " 'build',\n",
       " 'agile',\n",
       " 'analysis',\n",
       " 'industry',\n",
       " 'offer',\n",
       " 'providing',\n",
       " 'java',\n",
       " 'network',\n",
       " 'office',\n",
       " 'managing',\n",
       " 'analyst',\n",
       " 'supporting',\n",
       " 'performance',\n",
       " 'test',\n",
       " 'staff',\n",
       " 'platform',\n",
       " 'sql',\n",
       " 'relevant',\n",
       " 'building',\n",
       " 'change',\n",
       " 'ensuring',\n",
       " 'commercial',\n",
       " 'growing',\n",
       " 'currently',\n",
       " 'reporting',\n",
       " 'issues',\n",
       " 'include',\n",
       " 'cloud',\n",
       " 'complex',\n",
       " 'implementation',\n",
       " 'range',\n",
       " 'developers',\n",
       " 'delivering',\n",
       " 'needs',\n",
       " 'architecture',\n",
       " 'stakeholders',\n",
       " 'professional']"
      ]
     },
     "execution_count": 87,
     "metadata": {},
     "output_type": "execute_result"
    }
   ],
   "source": [
    "list(res.keys())[0:100]"
   ]
  },
  {
   "cell_type": "code",
   "execution_count": 113,
   "metadata": {},
   "outputs": [],
   "source": [
    "df = pd.DataFrame({\"A\":[12, 4, 5, 44, 1], \n",
    "                   \"B\":[50, 2, 54, 3, 2],  \n",
    "                   \"C\":[20, 16, 7, 3, 8], \n",
    "                   \"D\":[14, 3, 17, 2, 6]}) "
   ]
  },
  {
   "cell_type": "code",
   "execution_count": 114,
   "metadata": {},
   "outputs": [
    {
     "data": {
      "text/plain": [
       "'B'"
      ]
     },
     "execution_count": 114,
     "metadata": {},
     "output_type": "execute_result"
    }
   ],
   "source": [
    "df.mean(axis = 0).idxmax()"
   ]
  },
  {
   "cell_type": "code",
   "execution_count": 5,
   "metadata": {},
   "outputs": [],
   "source": [
    "import numpy as np\n",
    "from sklearn.metrics.pairwise import cosine_similarity\n",
    "from scipy.spatial.distance import cosine"
   ]
  },
  {
   "cell_type": "code",
   "execution_count": 4,
   "metadata": {},
   "outputs": [],
   "source": [
    "res = dict()\n",
    "with open(\"ft_vectors_cbow_50_10_0_05.vec\", \"r\") as f:\n",
    "    res = dict()\n",
    "    next(f)\n",
    "    for line in f:\n",
    "        skill = line.split(' ', 1)[0]\n",
    "        vec = np.array(line.split(' ', 1)[1].split(' ')[:-1]).astype(np.float)\n",
    "        res[skill] = vec"
   ]
  },
  {
   "cell_type": "code",
   "execution_count": 35,
   "metadata": {},
   "outputs": [],
   "source": [
    "batch = np.array(list(res.values())[0:100])\n",
    "\n",
    "cos_sim_matrix = cosine_similarity(batch)"
   ]
  },
  {
   "cell_type": "code",
   "execution_count": 47,
   "metadata": {},
   "outputs": [],
   "source": [
    "df = pd.DataFrame(cos_sim_matrix, \n",
    "                  columns=list(res.keys())[0:100],\n",
    "                  index=list(res.keys())[0:100])"
   ]
  },
  {
   "cell_type": "code",
   "execution_count": 91,
   "metadata": {},
   "outputs": [
    {
     "data": {
      "text/html": [
       "<div>\n",
       "<style scoped>\n",
       "    .dataframe tbody tr th:only-of-type {\n",
       "        vertical-align: middle;\n",
       "    }\n",
       "\n",
       "    .dataframe tbody tr th {\n",
       "        vertical-align: top;\n",
       "    }\n",
       "\n",
       "    .dataframe thead th {\n",
       "        text-align: right;\n",
       "    }\n",
       "</style>\n",
       "<table border=\"1\" class=\"dataframe\">\n",
       "  <thead>\n",
       "    <tr style=\"text-align: right;\">\n",
       "      <th></th>\n",
       "      <th>team</th>\n",
       "    </tr>\n",
       "  </thead>\n",
       "  <tbody>\n",
       "    <tr>\n",
       "      <th>team</th>\n",
       "      <td>1.000000</td>\n",
       "    </tr>\n",
       "    <tr>\n",
       "      <th>support</th>\n",
       "      <td>0.458356</td>\n",
       "    </tr>\n",
       "  </tbody>\n",
       "</table>\n",
       "</div>"
      ],
      "text/plain": [
       "             team\n",
       "team     1.000000\n",
       "support  0.458356"
      ]
     },
     "execution_count": 91,
     "metadata": {},
     "output_type": "execute_result"
    }
   ],
   "source": [
    "df.loc[['team', 'support'], ['team']]"
   ]
  },
  {
   "cell_type": "code",
   "execution_count": 51,
   "metadata": {},
   "outputs": [
    {
     "data": {
      "text/html": [
       "<div>\n",
       "<style scoped>\n",
       "    .dataframe tbody tr th:only-of-type {\n",
       "        vertical-align: middle;\n",
       "    }\n",
       "\n",
       "    .dataframe tbody tr th {\n",
       "        vertical-align: top;\n",
       "    }\n",
       "\n",
       "    .dataframe thead th {\n",
       "        text-align: right;\n",
       "    }\n",
       "</style>\n",
       "<table border=\"1\" class=\"dataframe\">\n",
       "  <thead>\n",
       "    <tr style=\"text-align: right;\">\n",
       "      <th></th>\n",
       "      <th>team</th>\n",
       "      <th>development</th>\n",
       "      <th>business</th>\n",
       "      <th>&lt;/s&gt;</th>\n",
       "      <th>support</th>\n",
       "      <th>knowledge</th>\n",
       "      <th>software</th>\n",
       "      <th>data</th>\n",
       "      <th>technical</th>\n",
       "      <th>management</th>\n",
       "      <th>...</th>\n",
       "      <th>cloud</th>\n",
       "      <th>complex</th>\n",
       "      <th>implementation</th>\n",
       "      <th>range</th>\n",
       "      <th>developers</th>\n",
       "      <th>delivering</th>\n",
       "      <th>needs</th>\n",
       "      <th>architecture</th>\n",
       "      <th>stakeholders</th>\n",
       "      <th>professional</th>\n",
       "    </tr>\n",
       "  </thead>\n",
       "  <tbody>\n",
       "    <tr>\n",
       "      <th>team</th>\n",
       "      <td>1.000000</td>\n",
       "      <td>0.546168</td>\n",
       "      <td>0.407871</td>\n",
       "      <td>-0.367190</td>\n",
       "      <td>0.458356</td>\n",
       "      <td>-0.211330</td>\n",
       "      <td>0.362891</td>\n",
       "      <td>-0.064269</td>\n",
       "      <td>0.403233</td>\n",
       "      <td>0.107772</td>\n",
       "      <td>...</td>\n",
       "      <td>-0.011570</td>\n",
       "      <td>0.141126</td>\n",
       "      <td>0.213786</td>\n",
       "      <td>0.286247</td>\n",
       "      <td>0.753220</td>\n",
       "      <td>0.459311</td>\n",
       "      <td>0.211625</td>\n",
       "      <td>0.156031</td>\n",
       "      <td>0.319186</td>\n",
       "      <td>0.422196</td>\n",
       "    </tr>\n",
       "    <tr>\n",
       "      <th>development</th>\n",
       "      <td>0.546168</td>\n",
       "      <td>1.000000</td>\n",
       "      <td>0.313898</td>\n",
       "      <td>-0.421346</td>\n",
       "      <td>0.348559</td>\n",
       "      <td>0.409568</td>\n",
       "      <td>0.762928</td>\n",
       "      <td>-0.003895</td>\n",
       "      <td>0.595459</td>\n",
       "      <td>0.317950</td>\n",
       "      <td>...</td>\n",
       "      <td>0.138863</td>\n",
       "      <td>0.392033</td>\n",
       "      <td>0.614209</td>\n",
       "      <td>0.427812</td>\n",
       "      <td>0.682206</td>\n",
       "      <td>0.534964</td>\n",
       "      <td>0.175480</td>\n",
       "      <td>0.566459</td>\n",
       "      <td>0.253751</td>\n",
       "      <td>0.336354</td>\n",
       "    </tr>\n",
       "    <tr>\n",
       "      <th>business</th>\n",
       "      <td>0.407871</td>\n",
       "      <td>0.313898</td>\n",
       "      <td>1.000000</td>\n",
       "      <td>-0.272169</td>\n",
       "      <td>0.415405</td>\n",
       "      <td>-0.044261</td>\n",
       "      <td>0.172432</td>\n",
       "      <td>0.327413</td>\n",
       "      <td>0.520879</td>\n",
       "      <td>0.405341</td>\n",
       "      <td>...</td>\n",
       "      <td>0.058435</td>\n",
       "      <td>0.476450</td>\n",
       "      <td>0.527861</td>\n",
       "      <td>0.322919</td>\n",
       "      <td>0.313967</td>\n",
       "      <td>0.572787</td>\n",
       "      <td>0.631644</td>\n",
       "      <td>0.353716</td>\n",
       "      <td>0.711306</td>\n",
       "      <td>0.306167</td>\n",
       "    </tr>\n",
       "    <tr>\n",
       "      <th>&lt;/s&gt;</th>\n",
       "      <td>-0.367190</td>\n",
       "      <td>-0.421346</td>\n",
       "      <td>-0.272169</td>\n",
       "      <td>1.000000</td>\n",
       "      <td>-0.324000</td>\n",
       "      <td>-0.182697</td>\n",
       "      <td>-0.357393</td>\n",
       "      <td>-0.157324</td>\n",
       "      <td>-0.366929</td>\n",
       "      <td>-0.312721</td>\n",
       "      <td>...</td>\n",
       "      <td>-0.054036</td>\n",
       "      <td>-0.466842</td>\n",
       "      <td>-0.385026</td>\n",
       "      <td>-0.343838</td>\n",
       "      <td>-0.324776</td>\n",
       "      <td>-0.528286</td>\n",
       "      <td>-0.275094</td>\n",
       "      <td>-0.335376</td>\n",
       "      <td>-0.232023</td>\n",
       "      <td>-0.207505</td>\n",
       "    </tr>\n",
       "    <tr>\n",
       "      <th>support</th>\n",
       "      <td>0.458356</td>\n",
       "      <td>0.348559</td>\n",
       "      <td>0.415405</td>\n",
       "      <td>-0.324000</td>\n",
       "      <td>1.000000</td>\n",
       "      <td>0.039474</td>\n",
       "      <td>0.233995</td>\n",
       "      <td>0.043679</td>\n",
       "      <td>0.536830</td>\n",
       "      <td>0.505280</td>\n",
       "      <td>...</td>\n",
       "      <td>-0.022496</td>\n",
       "      <td>0.208792</td>\n",
       "      <td>0.569804</td>\n",
       "      <td>0.383999</td>\n",
       "      <td>0.174114</td>\n",
       "      <td>0.425402</td>\n",
       "      <td>0.379612</td>\n",
       "      <td>0.085279</td>\n",
       "      <td>0.294910</td>\n",
       "      <td>0.401248</td>\n",
       "    </tr>\n",
       "    <tr>\n",
       "      <th>...</th>\n",
       "      <td>...</td>\n",
       "      <td>...</td>\n",
       "      <td>...</td>\n",
       "      <td>...</td>\n",
       "      <td>...</td>\n",
       "      <td>...</td>\n",
       "      <td>...</td>\n",
       "      <td>...</td>\n",
       "      <td>...</td>\n",
       "      <td>...</td>\n",
       "      <td>...</td>\n",
       "      <td>...</td>\n",
       "      <td>...</td>\n",
       "      <td>...</td>\n",
       "      <td>...</td>\n",
       "      <td>...</td>\n",
       "      <td>...</td>\n",
       "      <td>...</td>\n",
       "      <td>...</td>\n",
       "      <td>...</td>\n",
       "      <td>...</td>\n",
       "    </tr>\n",
       "    <tr>\n",
       "      <th>delivering</th>\n",
       "      <td>0.459311</td>\n",
       "      <td>0.534964</td>\n",
       "      <td>0.572787</td>\n",
       "      <td>-0.528286</td>\n",
       "      <td>0.425402</td>\n",
       "      <td>0.161763</td>\n",
       "      <td>0.365145</td>\n",
       "      <td>0.091258</td>\n",
       "      <td>0.537797</td>\n",
       "      <td>0.475968</td>\n",
       "      <td>...</td>\n",
       "      <td>0.154979</td>\n",
       "      <td>0.586657</td>\n",
       "      <td>0.590884</td>\n",
       "      <td>0.480128</td>\n",
       "      <td>0.333837</td>\n",
       "      <td>1.000000</td>\n",
       "      <td>0.427695</td>\n",
       "      <td>0.384868</td>\n",
       "      <td>0.499087</td>\n",
       "      <td>0.423507</td>\n",
       "    </tr>\n",
       "    <tr>\n",
       "      <th>needs</th>\n",
       "      <td>0.211625</td>\n",
       "      <td>0.175480</td>\n",
       "      <td>0.631644</td>\n",
       "      <td>-0.275094</td>\n",
       "      <td>0.379612</td>\n",
       "      <td>-0.084129</td>\n",
       "      <td>-0.003881</td>\n",
       "      <td>0.141243</td>\n",
       "      <td>0.439825</td>\n",
       "      <td>0.125760</td>\n",
       "      <td>...</td>\n",
       "      <td>-0.063518</td>\n",
       "      <td>0.416024</td>\n",
       "      <td>0.346387</td>\n",
       "      <td>0.307621</td>\n",
       "      <td>0.203530</td>\n",
       "      <td>0.427695</td>\n",
       "      <td>1.000000</td>\n",
       "      <td>0.261225</td>\n",
       "      <td>0.576213</td>\n",
       "      <td>0.304516</td>\n",
       "    </tr>\n",
       "    <tr>\n",
       "      <th>architecture</th>\n",
       "      <td>0.156031</td>\n",
       "      <td>0.566459</td>\n",
       "      <td>0.353716</td>\n",
       "      <td>-0.335376</td>\n",
       "      <td>0.085279</td>\n",
       "      <td>0.364180</td>\n",
       "      <td>0.484540</td>\n",
       "      <td>0.296331</td>\n",
       "      <td>0.595392</td>\n",
       "      <td>0.318008</td>\n",
       "      <td>...</td>\n",
       "      <td>0.575766</td>\n",
       "      <td>0.505697</td>\n",
       "      <td>0.647815</td>\n",
       "      <td>0.121020</td>\n",
       "      <td>0.327489</td>\n",
       "      <td>0.384868</td>\n",
       "      <td>0.261225</td>\n",
       "      <td>1.000000</td>\n",
       "      <td>0.354468</td>\n",
       "      <td>-0.016229</td>\n",
       "    </tr>\n",
       "    <tr>\n",
       "      <th>stakeholders</th>\n",
       "      <td>0.319186</td>\n",
       "      <td>0.253751</td>\n",
       "      <td>0.711306</td>\n",
       "      <td>-0.232023</td>\n",
       "      <td>0.294910</td>\n",
       "      <td>0.081870</td>\n",
       "      <td>0.032649</td>\n",
       "      <td>0.245904</td>\n",
       "      <td>0.538241</td>\n",
       "      <td>0.486596</td>\n",
       "      <td>...</td>\n",
       "      <td>-0.077411</td>\n",
       "      <td>0.513087</td>\n",
       "      <td>0.497280</td>\n",
       "      <td>0.221552</td>\n",
       "      <td>0.253490</td>\n",
       "      <td>0.499087</td>\n",
       "      <td>0.576213</td>\n",
       "      <td>0.354468</td>\n",
       "      <td>1.000000</td>\n",
       "      <td>0.248894</td>\n",
       "    </tr>\n",
       "    <tr>\n",
       "      <th>professional</th>\n",
       "      <td>0.422196</td>\n",
       "      <td>0.336354</td>\n",
       "      <td>0.306167</td>\n",
       "      <td>-0.207505</td>\n",
       "      <td>0.401248</td>\n",
       "      <td>0.242929</td>\n",
       "      <td>0.119601</td>\n",
       "      <td>-0.147053</td>\n",
       "      <td>0.437443</td>\n",
       "      <td>0.352290</td>\n",
       "      <td>...</td>\n",
       "      <td>-0.114930</td>\n",
       "      <td>0.213908</td>\n",
       "      <td>0.143023</td>\n",
       "      <td>0.337178</td>\n",
       "      <td>0.180957</td>\n",
       "      <td>0.423507</td>\n",
       "      <td>0.304516</td>\n",
       "      <td>-0.016229</td>\n",
       "      <td>0.248894</td>\n",
       "      <td>1.000000</td>\n",
       "    </tr>\n",
       "  </tbody>\n",
       "</table>\n",
       "<p>100 rows × 100 columns</p>\n",
       "</div>"
      ],
      "text/plain": [
       "                  team  development  business      </s>   support  knowledge  \\\n",
       "team          1.000000     0.546168  0.407871 -0.367190  0.458356  -0.211330   \n",
       "development   0.546168     1.000000  0.313898 -0.421346  0.348559   0.409568   \n",
       "business      0.407871     0.313898  1.000000 -0.272169  0.415405  -0.044261   \n",
       "</s>         -0.367190    -0.421346 -0.272169  1.000000 -0.324000  -0.182697   \n",
       "support       0.458356     0.348559  0.415405 -0.324000  1.000000   0.039474   \n",
       "...                ...          ...       ...       ...       ...        ...   \n",
       "delivering    0.459311     0.534964  0.572787 -0.528286  0.425402   0.161763   \n",
       "needs         0.211625     0.175480  0.631644 -0.275094  0.379612  -0.084129   \n",
       "architecture  0.156031     0.566459  0.353716 -0.335376  0.085279   0.364180   \n",
       "stakeholders  0.319186     0.253751  0.711306 -0.232023  0.294910   0.081870   \n",
       "professional  0.422196     0.336354  0.306167 -0.207505  0.401248   0.242929   \n",
       "\n",
       "              software      data  technical  management  ...     cloud  \\\n",
       "team          0.362891 -0.064269   0.403233    0.107772  ... -0.011570   \n",
       "development   0.762928 -0.003895   0.595459    0.317950  ...  0.138863   \n",
       "business      0.172432  0.327413   0.520879    0.405341  ...  0.058435   \n",
       "</s>         -0.357393 -0.157324  -0.366929   -0.312721  ... -0.054036   \n",
       "support       0.233995  0.043679   0.536830    0.505280  ... -0.022496   \n",
       "...                ...       ...        ...         ...  ...       ...   \n",
       "delivering    0.365145  0.091258   0.537797    0.475968  ...  0.154979   \n",
       "needs        -0.003881  0.141243   0.439825    0.125760  ... -0.063518   \n",
       "architecture  0.484540  0.296331   0.595392    0.318008  ...  0.575766   \n",
       "stakeholders  0.032649  0.245904   0.538241    0.486596  ... -0.077411   \n",
       "professional  0.119601 -0.147053   0.437443    0.352290  ... -0.114930   \n",
       "\n",
       "               complex  implementation     range  developers  delivering  \\\n",
       "team          0.141126        0.213786  0.286247    0.753220    0.459311   \n",
       "development   0.392033        0.614209  0.427812    0.682206    0.534964   \n",
       "business      0.476450        0.527861  0.322919    0.313967    0.572787   \n",
       "</s>         -0.466842       -0.385026 -0.343838   -0.324776   -0.528286   \n",
       "support       0.208792        0.569804  0.383999    0.174114    0.425402   \n",
       "...                ...             ...       ...         ...         ...   \n",
       "delivering    0.586657        0.590884  0.480128    0.333837    1.000000   \n",
       "needs         0.416024        0.346387  0.307621    0.203530    0.427695   \n",
       "architecture  0.505697        0.647815  0.121020    0.327489    0.384868   \n",
       "stakeholders  0.513087        0.497280  0.221552    0.253490    0.499087   \n",
       "professional  0.213908        0.143023  0.337178    0.180957    0.423507   \n",
       "\n",
       "                 needs  architecture  stakeholders  professional  \n",
       "team          0.211625      0.156031      0.319186      0.422196  \n",
       "development   0.175480      0.566459      0.253751      0.336354  \n",
       "business      0.631644      0.353716      0.711306      0.306167  \n",
       "</s>         -0.275094     -0.335376     -0.232023     -0.207505  \n",
       "support       0.379612      0.085279      0.294910      0.401248  \n",
       "...                ...           ...           ...           ...  \n",
       "delivering    0.427695      0.384868      0.499087      0.423507  \n",
       "needs         1.000000      0.261225      0.576213      0.304516  \n",
       "architecture  0.261225      1.000000      0.354468     -0.016229  \n",
       "stakeholders  0.576213      0.354468      1.000000      0.248894  \n",
       "professional  0.304516     -0.016229      0.248894      1.000000  \n",
       "\n",
       "[100 rows x 100 columns]"
      ]
     },
     "execution_count": 51,
     "metadata": {},
     "output_type": "execute_result"
    }
   ],
   "source": [
    "df"
   ]
  },
  {
   "cell_type": "code",
   "execution_count": 27,
   "metadata": {},
   "outputs": [
    {
     "data": {
      "text/plain": [
       "array([[ 1.        ,  0.54616796,  0.40787082, ...,  0.15603149,\n",
       "         0.31918593,  0.42219576],\n",
       "       [ 0.54616796,  1.        ,  0.31389837, ...,  0.56645873,\n",
       "         0.25375117,  0.33635385],\n",
       "       [ 0.40787082,  0.31389837,  1.        , ...,  0.35371594,\n",
       "         0.71130618,  0.30616668],\n",
       "       ...,\n",
       "       [ 0.15603149,  0.56645873,  0.35371594, ...,  1.        ,\n",
       "         0.35446754, -0.01622902],\n",
       "       [ 0.31918593,  0.25375117,  0.71130618, ...,  0.35446754,\n",
       "         1.        ,  0.24889377],\n",
       "       [ 0.42219576,  0.33635385,  0.30616668, ..., -0.01622902,\n",
       "         0.24889377,  1.        ]])"
      ]
     },
     "execution_count": 27,
     "metadata": {},
     "output_type": "execute_result"
    }
   ],
   "source": [
    "cos_sim_matrix"
   ]
  },
  {
   "cell_type": "code",
   "execution_count": 12,
   "metadata": {},
   "outputs": [
    {
     "data": {
      "text/plain": [
       "array([[ 3.6812e+00,  8.0038e+00, -1.1202e+01, -5.5041e+00, -9.2364e-01,\n",
       "        -3.0491e+00,  3.9270e+00, -1.1008e+00,  2.2651e+00,  1.7978e+00,\n",
       "        -2.5573e+00, -2.8215e+00,  5.7468e+00,  5.0150e+00, -1.2353e+00,\n",
       "        -1.2950e+00, -4.9979e+00, -1.8071e+00, -3.0039e+00, -1.1048e+00,\n",
       "         1.1357e+01, -2.4231e+00, -4.2181e+00,  3.7512e+00, -1.0883e+01,\n",
       "        -5.0247e+00, -3.0746e-01,  3.2239e+00,  2.9669e+00, -2.9056e+00,\n",
       "         2.5248e+00,  2.3988e+00, -5.9446e+00, -1.3846e+00,  6.4368e+00,\n",
       "         2.0415e+00, -1.7573e+00, -4.9802e+00, -3.3233e+00,  6.0821e+00,\n",
       "         2.4876e+00,  3.3052e+00,  1.0224e+00, -5.2584e+00, -5.8962e+00,\n",
       "         4.2960e+00,  5.1563e+00,  7.1303e-01, -3.6906e+00,  4.7729e+00],\n",
       "       [ 3.7171e+00,  7.4125e-01, -2.3379e+00, -1.3539e-01, -3.1659e+00,\n",
       "        -2.2374e+00,  1.6443e+00, -4.9635e-01, -2.6406e+00,  2.0127e+00,\n",
       "        -4.4795e-01,  3.8531e-01,  1.0746e+00, -1.5886e+00, -1.8618e+00,\n",
       "        -3.8247e-01, -7.1371e-01, -2.3662e+00, -3.7672e+00,  4.4673e-01,\n",
       "         4.8786e+00, -3.2710e+00, -3.5422e+00,  3.5428e+00, -3.1536e+00,\n",
       "        -2.2007e+00, -1.9370e+00,  2.7901e+00,  3.5898e+00,  7.5665e-01,\n",
       "        -5.6314e-01,  1.1267e+00,  3.2407e-01, -9.2149e-01,  3.7340e+00,\n",
       "         5.1806e-01,  9.9663e-01,  2.3341e-01,  2.0946e+00, -3.1889e-01,\n",
       "        -3.9310e-01,  2.1871e+00, -9.6065e-01, -2.1910e-01, -1.8255e+00,\n",
       "         7.8620e-01, -3.3021e+00, -7.2348e-02,  2.3956e-03,  4.0550e+00]])"
      ]
     },
     "execution_count": 12,
     "metadata": {},
     "output_type": "execute_result"
    }
   ],
   "source": [
    "e[0:2]"
   ]
  },
  {
   "cell_type": "code",
   "execution_count": 21,
   "metadata": {},
   "outputs": [
    {
     "data": {
      "text/plain": [
       "113656"
      ]
     },
     "execution_count": 21,
     "metadata": {},
     "output_type": "execute_result"
    }
   ],
   "source": [
    "len(e)"
   ]
  },
  {
   "cell_type": "code",
   "execution_count": 49,
   "metadata": {},
   "outputs": [],
   "source": [
    "mat = np.concatenate( e, axis=0 )"
   ]
  },
  {
   "cell_type": "code",
   "execution_count": 51,
   "metadata": {},
   "outputs": [
    {
     "data": {
      "text/plain": [
       "array([  3.6812,   8.0038, -11.202 , ...,  -6.333 ,  -2.4687,   1.0271])"
      ]
     },
     "execution_count": 51,
     "metadata": {},
     "output_type": "execute_result"
    }
   ],
   "source": [
    "mat"
   ]
  },
  {
   "cell_type": "code",
   "execution_count": 20,
   "metadata": {},
   "outputs": [
    {
     "data": {
      "text/plain": [
       "113656"
      ]
     },
     "execution_count": 20,
     "metadata": {},
     "output_type": "execute_result"
    }
   ],
   "source": [
    "len(e)"
   ]
  },
  {
   "cell_type": "code",
   "execution_count": 19,
   "metadata": {},
   "outputs": [
    {
     "ename": "TypeError",
     "evalue": "paired_cosine_distances() missing 1 required positional argument: 'Y'",
     "output_type": "error",
     "traceback": [
      "\u001b[0;31m---------------------------------------------------------------------------\u001b[0m",
      "\u001b[0;31mTypeError\u001b[0m                                 Traceback (most recent call last)",
      "\u001b[0;32m<ipython-input-19-3423b2feb578>\u001b[0m in \u001b[0;36m<module>\u001b[0;34m\u001b[0m\n\u001b[1;32m      1\u001b[0m \u001b[0;32mfrom\u001b[0m \u001b[0msklearn\u001b[0m\u001b[0;34m.\u001b[0m\u001b[0mmetrics\u001b[0m\u001b[0;34m.\u001b[0m\u001b[0mpairwise\u001b[0m \u001b[0;32mimport\u001b[0m \u001b[0;34m*\u001b[0m\u001b[0;34m\u001b[0m\u001b[0;34m\u001b[0m\u001b[0m\n\u001b[0;32m----> 2\u001b[0;31m \u001b[0mdist_out\u001b[0m \u001b[0;34m=\u001b[0m \u001b[0mpaired_cosine_distances\u001b[0m\u001b[0;34m(\u001b[0m\u001b[0me\u001b[0m\u001b[0;34m)\u001b[0m\u001b[0;34m\u001b[0m\u001b[0;34m\u001b[0m\u001b[0m\n\u001b[0m",
      "\u001b[0;31mTypeError\u001b[0m: paired_cosine_distances() missing 1 required positional argument: 'Y'"
     ]
    }
   ],
   "source": [
    "dist_out = cosine_similarity(e,e, dense_output=False)"
   ]
  },
  {
   "cell_type": "code",
   "execution_count": 18,
   "metadata": {},
   "outputs": [
    {
     "data": {
      "text/plain": [
       "0.0"
      ]
     },
     "execution_count": 18,
     "metadata": {},
     "output_type": "execute_result"
    }
   ],
   "source": [
    "dist_out[100000]"
   ]
  }
 ],
 "metadata": {
  "kernelspec": {
   "display_name": "Python 3",
   "language": "python",
   "name": "python3"
  },
  "language_info": {
   "codemirror_mode": {
    "name": "ipython",
    "version": 3
   },
   "file_extension": ".py",
   "mimetype": "text/x-python",
   "name": "python",
   "nbconvert_exporter": "python",
   "pygments_lexer": "ipython3",
   "version": "3.6.10"
  }
 },
 "nbformat": 4,
 "nbformat_minor": 4
}
