{
 "cells": [
  {
   "cell_type": "markdown",
   "metadata": {},
   "source": [
    "### Workflow\n",
    "\n",
    "1. Per la prima stringa si suggeriscono solo le skill che iniziano per la stringa inserita fino a quel momento.\\\n",
    "TODO: decidere quali mostrare, quelle più lunghe? a caso?\n",
    "\n",
    "\n",
    "2. Per le successive stringe si considerano le skill inserite fino a quel momento: partendo dalla stringa inserita si ricavano le skill che contengono quella stringa, come in 1, poi per ognuna di queste si calcola la similarità del coseno con le skill già inserite e si suggerisce la skill con la media delle similarità più altra\\\n",
    "TODO: decidere quante skill mostrare. Usare la gerarchia delle skill come altra metrica di suggerimento, ad esempio in base alla distanza dal primo antenato in comune\n",
    "\n",
    "\n",
    "3. suggerire anche una skill che non contenga la stringa inserita fino a quel momento ma che sia semplicemente la più simile con quelle inserite precedentemente, calcolata come per 2\n",
    "\n",
    "\n",
    "4. Gestire gli errori di typo: individuarli e suggerire un'alternativa"
   ]
  },
  {
   "cell_type": "code",
   "execution_count": 143,
   "metadata": {
    "scrolled": true
   },
   "outputs": [],
   "source": [
    "import numpy as np\n",
    "import pandas as pd\n",
    "from sklearn.metrics.pairwise import cosine_similarity\n",
    "from bisect import bisect_left\n",
    "import ipywidgets as widgets\n",
    "import difflib\n",
    "from gensim.models import FastText, WordEmbeddingSimilarityIndex\n",
    "from IPython.core.display import display, HTML\n",
    "from gensim.similarities import SparseTermSimilarityMatrix, MatrixSimilarity\n",
    "from gensim.matutils import Dense2Corpus"
   ]
  },
  {
   "cell_type": "code",
   "execution_count": 152,
   "metadata": {
    "scrolled": false
   },
   "outputs": [
    {
     "data": {
      "application/vnd.jupyter.widget-view+json": {
       "model_id": "15ee959145dd4ead86c4fe8a6bb2cdc4",
       "version_major": 2,
       "version_minor": 0
      },
      "text/plain": [
       "VBox(children=(VBox(children=(Label(value='Skills:'), Textarea(value='', layout=Layout(flex='0 1 auto', height…"
      ]
     },
     "metadata": {},
     "output_type": "display_data"
    }
   ],
   "source": [
    "t = SuggestsTextArea(vectors)\n",
    "t.show_form()"
   ]
  },
  {
   "cell_type": "code",
   "execution_count": 151,
   "metadata": {},
   "outputs": [],
   "source": [
    "class SuggestsTextArea:\n",
    "    \n",
    "    def __init__(self, model):\n",
    "        # peso dell'input inserito nel calcolo della similarità finale\n",
    "        self.alpha = 0.8\n",
    "        \n",
    "        self.skills_list = pd.read_excel(\"data/2020_06_09 Allocation to ONET.xlsx\")['escoskill_level_3']\n",
    "        self.vectors = model #FastText.load_fasttext_format(\"data/ft_vectors_cbow_50_10_0_05.bin\")\n",
    "        #self.batch = np.array(list(self.vectors.values()))[0:100]\n",
    "        #self.cos_sim_matrix = pd.DataFrame(cosine_similarity(self.batch), \n",
    "        #                                   columns=list(self.vectors.keys())[0:100],\n",
    "        #                                   index=list(self.vectors.keys())[0:100])\n",
    "        \n",
    "        # lista dei bottoni\n",
    "        self.suggest_buttons = list()\n",
    "        self.suggest_buttons_context = list()\n",
    "        \n",
    "        # set up della text area\n",
    "        self.textArea = widgets.Textarea(\n",
    "            value='',\n",
    "            placeholder='Type something',\n",
    "            disabled=False,\n",
    "            tooltip='Enter the name of the Text field',\n",
    "            height='90px',\n",
    "            layout=widgets.Layout(flex='0 1 auto', height='100px', min_height='100px', width='auto')\n",
    "        )\n",
    "        \n",
    "        # set up della box per i bottoni dei suggerimenti per l'input\n",
    "        self.suggests = widgets.HBox(self.suggest_buttons)\n",
    "        \n",
    "        # set up della box per i bottoni dei suggerimenti solo per il context\n",
    "        self.suggests_context = widgets.HBox(self.suggest_buttons_context)\n",
    "        \n",
    "        # set up dell'intero form\n",
    "        self.form = widgets.VBox([widgets.VBox([widgets.Label(value='Skills:'), self.textArea]), \n",
    "                                 widgets.HBox([widgets.Label(value='Suggests:'), self.suggests]),\n",
    "                                 widgets.HBox([widgets.Label(value='Did you also mean...?:'), \n",
    "                                               self.suggests_context])])\n",
    "    \n",
    "    \n",
    "    def find_sub_sting(self, word, words_list, limit=4):\n",
    "        '''\n",
    "        Find all skill that contain the new string insert by user\n",
    "        '''\n",
    "        return sorted([(w , self.vectors.wv.similarity(word, w)) for w in words_list], key=lambda tup: tup[1], \n",
    "                      reverse=True)[:limit]\n",
    "        #return [w for w in sorted(words_list) if w.lower().startswith(word.lower())]\n",
    "    \n",
    "    \n",
    "    def get_best_similarity_skill(self, context, new_input):\n",
    "        '''\n",
    "        Get the four most similarity skills respect of the user's input\n",
    "        '''\n",
    "        \n",
    "        # similarità tra input e lista delle skill\n",
    "        find_suggests = self.find_sub_sting(new_input, self.skills_list, limit=4)\n",
    "        res = dict()\n",
    "        res_sim = dict()\n",
    "        \n",
    "        # calcolo delle medie delle similarità tra le skill candidate come suggerimenti e le skill già inserite\n",
    "        for skill in [s[0] for s in find_suggests]:\n",
    "            res[skill] = np.array([self.vectors.wv.similarity(skill, c) for c in context]).mean()\n",
    "        \n",
    "        # calcolo della similarità aggregata\n",
    "        for i in range(0, 4):\n",
    "            skill = find_suggests[i][0]\n",
    "            final_sim = (self.alpha * find_suggests[i][1]) + ((1-self.alpha) * res[skill])\n",
    "            res_sim[skill] = final_sim\n",
    "        return {k: v for k, v in sorted(res_sim.items(), key=lambda item: item[1], reverse=True)}\n",
    "        #(a * sim(parola_corrente, parole_excel) + (1-a) * media(similarità(parola_precedente, parole, excel)))\n",
    "        #candidate_skill = self.cos_sim_matrix.loc[context, find_suggests]\n",
    "        #return candidate_skill.mean(axis = 0).sort_values(ascending=False)\n",
    "        #return candidate_skill.mean(axis = 0).idxmax(), candidate_skill.mean(axis = 0).max()\n",
    "        \n",
    "    \n",
    "    def show_form(self):\n",
    "        '''\n",
    "        Show the text area widget\n",
    "        '''\n",
    "        display(self.form)\n",
    "        self.textArea.observe(self.suggests_manager, names='value')\n",
    "    \n",
    "    def suggests_manager(self, widget):\n",
    "        '''\n",
    "        Main function of the class, manage the suggestions in different case\n",
    "        '''\n",
    "        self.close_widgets()\n",
    "        old_input = widget['old']\n",
    "        new_input = widget['new'].split(' ')[-1]\n",
    "        context = old_input.split(', ')[:-1]\n",
    "        if context != []:\n",
    "            sug = self.get_best_similarity_skill(context, new_input)\n",
    "            for index, value in sug.items():\n",
    "                b = widgets.Button(\n",
    "                    description=f'{index} - {round(value*100, 2)}%', # fix negative similarity: e.g. -35%\n",
    "                    disabled=False,\n",
    "                    button_style='success', # 'success', 'info', 'warning', 'danger' or ''\n",
    "                    tooltip=f'{index} - {round(value*100, 2)}%'\n",
    "                )\n",
    "\n",
    "                b.on_click(self.add_skill)\n",
    "                self.suggest_buttons.append(b)\n",
    "                \n",
    "            #display(widgets.HBox(self.suggest_buttons))\n",
    "            \n",
    "        else:\n",
    "            if len(new_input)>3:\n",
    "                find_suggests = self.find_sub_sting(new_input, self.skills_list, limit=4)                    \n",
    "                    \n",
    "                for sug in find_suggests:\n",
    "\n",
    "                    b = widgets.Button(\n",
    "                        description=f'{sug[0]} - {round(sug[1]*100, 2)}%',\n",
    "                        disabled=False,\n",
    "                        button_style='', # 'success', 'info', 'warning', 'danger' or ''\n",
    "                        tooltip=f'{sug[0]} - {round(sug[1]*100, 2)}%'\n",
    "                    )\n",
    "\n",
    "                    b.on_click(self.add_skill)\n",
    "                    self.suggest_buttons.append(b)\n",
    "        self.suggests.children=tuple(self.suggest_buttons)\n",
    "                \n",
    "\n",
    "    def add_skill(self, btn_object):\n",
    "        '''\n",
    "        Button click handler, add the skill pressed to the text area\n",
    "        '''\n",
    "        skill_list = self.textArea.value.split(' ')\n",
    "        skill_list[-1] = btn_object.description.split(\" -\")[0]\n",
    "        new_contest = ' '.join(skill_list) + ', '\n",
    "        self.textArea.value = new_contest\n",
    "        self.close_widgets()\n",
    "    \n",
    "    \n",
    "    def close_widgets(self):# fix button go down on every input\n",
    "        '''\n",
    "        Remove button of old suggestions\n",
    "        '''\n",
    "        for w in self.suggest_buttons:\n",
    "            w.close()\n",
    "        self.suggest_buttons = list()\n",
    "\n",
    "    \n",
    "    "
   ]
  },
  {
   "cell_type": "code",
   "execution_count": 4,
   "metadata": {},
   "outputs": [
    {
     "name": "stderr",
     "output_type": "stream",
     "text": [
      "/home/simone/.local/lib/python3.6/site-packages/ipykernel_launcher.py:1: DeprecationWarning: Call to deprecated `load_fasttext_format` (use load_facebook_vectors (to use pretrained embeddings) or load_facebook_model (to continue training with the loaded full model, more RAM) instead).\n",
      "  \"\"\"Entry point for launching an IPython kernel.\n"
     ]
    }
   ],
   "source": [
    "vectors = FastText.load_fasttext_format(\"data/ft_vectors_cbow_50_10_0_05.bin\")"
   ]
  },
  {
   "cell_type": "code",
   "execution_count": 156,
   "metadata": {},
   "outputs": [],
   "source": [
    "index = MatrixSimilarity(Dense2Corpus(vectors.wv.vectors))"
   ]
  },
  {
   "cell_type": "code",
   "execution_count": 155,
   "metadata": {},
   "outputs": [
    {
     "data": {
      "text/plain": [
       "113656"
      ]
     },
     "execution_count": 155,
     "metadata": {},
     "output_type": "execute_result"
    }
   ],
   "source": [
    "len(vectors.wv.vectors)"
   ]
  },
  {
   "cell_type": "code",
   "execution_count": 157,
   "metadata": {},
   "outputs": [
    {
     "ename": "MemoryError",
     "evalue": "",
     "output_type": "error",
     "traceback": [
      "\u001b[0;31m---------------------------------------------------------------------------\u001b[0m",
      "\u001b[0;31mMemoryError\u001b[0m                               Traceback (most recent call last)",
      "\u001b[0;32m<ipython-input-157-69126b29fcac>\u001b[0m in \u001b[0;36m<module>\u001b[0;34m\u001b[0m\n\u001b[0;32m----> 1\u001b[0;31m \u001b[0msimilarity_matrix\u001b[0m \u001b[0;34m=\u001b[0m \u001b[0mcosine_similarity\u001b[0m\u001b[0;34m(\u001b[0m\u001b[0mvectors\u001b[0m\u001b[0;34m.\u001b[0m\u001b[0mwv\u001b[0m\u001b[0;34m.\u001b[0m\u001b[0mvectors\u001b[0m\u001b[0;34m)\u001b[0m\u001b[0;34m\u001b[0m\u001b[0;34m\u001b[0m\u001b[0m\n\u001b[0m",
      "\u001b[0;32m~/.local/lib/python3.6/site-packages/sklearn/metrics/pairwise.py\u001b[0m in \u001b[0;36mcosine_similarity\u001b[0;34m(X, Y, dense_output)\u001b[0m\n\u001b[1;32m   1174\u001b[0m \u001b[0;34m\u001b[0m\u001b[0m\n\u001b[1;32m   1175\u001b[0m     K = safe_sparse_dot(X_normalized, Y_normalized.T,\n\u001b[0;32m-> 1176\u001b[0;31m                         dense_output=dense_output)\n\u001b[0m\u001b[1;32m   1177\u001b[0m \u001b[0;34m\u001b[0m\u001b[0m\n\u001b[1;32m   1178\u001b[0m     \u001b[0;32mreturn\u001b[0m \u001b[0mK\u001b[0m\u001b[0;34m\u001b[0m\u001b[0;34m\u001b[0m\u001b[0m\n",
      "\u001b[0;32m~/.local/lib/python3.6/site-packages/sklearn/utils/extmath.py\u001b[0m in \u001b[0;36msafe_sparse_dot\u001b[0;34m(a, b, dense_output)\u001b[0m\n\u001b[1;32m    149\u001b[0m             \u001b[0mret\u001b[0m \u001b[0;34m=\u001b[0m \u001b[0mnp\u001b[0m\u001b[0;34m.\u001b[0m\u001b[0mdot\u001b[0m\u001b[0;34m(\u001b[0m\u001b[0ma\u001b[0m\u001b[0;34m,\u001b[0m \u001b[0mb\u001b[0m\u001b[0;34m)\u001b[0m\u001b[0;34m\u001b[0m\u001b[0;34m\u001b[0m\u001b[0m\n\u001b[1;32m    150\u001b[0m     \u001b[0;32melse\u001b[0m\u001b[0;34m:\u001b[0m\u001b[0;34m\u001b[0m\u001b[0;34m\u001b[0m\u001b[0m\n\u001b[0;32m--> 151\u001b[0;31m         \u001b[0mret\u001b[0m \u001b[0;34m=\u001b[0m \u001b[0ma\u001b[0m \u001b[0;34m@\u001b[0m \u001b[0mb\u001b[0m\u001b[0;34m\u001b[0m\u001b[0;34m\u001b[0m\u001b[0m\n\u001b[0m\u001b[1;32m    152\u001b[0m \u001b[0;34m\u001b[0m\u001b[0m\n\u001b[1;32m    153\u001b[0m     if (sparse.issparse(a) and sparse.issparse(b)\n",
      "\u001b[0;31mMemoryError\u001b[0m: "
     ]
    }
   ],
   "source": [
    "similarity_matrix = cosine_similarity(vectors.wv.vectors)"
   ]
  },
  {
   "cell_type": "code",
   "execution_count": 135,
   "metadata": {},
   "outputs": [
    {
     "ename": "IndexError",
     "evalue": "only integers, slices (`:`), ellipsis (`...`), numpy.newaxis (`None`) and integer or boolean arrays are valid indices",
     "output_type": "error",
     "traceback": [
      "\u001b[0;31m---------------------------------------------------------------------------\u001b[0m",
      "\u001b[0;31mIndexError\u001b[0m                                Traceback (most recent call last)",
      "\u001b[0;32m<ipython-input-135-c60baafca7af>\u001b[0m in \u001b[0;36m<module>\u001b[0;34m\u001b[0m\n\u001b[1;32m      1\u001b[0m \u001b[0mtermsim_index\u001b[0m \u001b[0;34m=\u001b[0m \u001b[0mWordEmbeddingSimilarityIndex\u001b[0m\u001b[0;34m(\u001b[0m\u001b[0mvectors\u001b[0m\u001b[0;34m.\u001b[0m\u001b[0mwv\u001b[0m\u001b[0;34m)\u001b[0m\u001b[0;34m\u001b[0m\u001b[0;34m\u001b[0m\u001b[0m\n\u001b[0;32m----> 2\u001b[0;31m \u001b[0msimilarity_matrix\u001b[0m \u001b[0;34m=\u001b[0m \u001b[0mSparseTermSimilarityMatrix\u001b[0m\u001b[0;34m(\u001b[0m\u001b[0mtermsim_index\u001b[0m\u001b[0;34m,\u001b[0m \u001b[0mvectors\u001b[0m\u001b[0;34m.\u001b[0m\u001b[0mwv\u001b[0m\u001b[0;34m.\u001b[0m\u001b[0mvocab\u001b[0m\u001b[0;34m)\u001b[0m\u001b[0;34m\u001b[0m\u001b[0;34m\u001b[0m\u001b[0m\n\u001b[0m",
      "\u001b[0;32m~/.local/lib/python3.6/site-packages/gensim/similarities/termsim.py\u001b[0m in \u001b[0;36m__init__\u001b[0;34m(self, source, dictionary, tfidf, symmetric, positive_definite, nonzero_limit, dtype)\u001b[0m\n\u001b[1;32m    228\u001b[0m \u001b[0;34m\u001b[0m\u001b[0m\n\u001b[1;32m    229\u001b[0m             \u001b[0mt1\u001b[0m \u001b[0;34m=\u001b[0m \u001b[0mdictionary\u001b[0m\u001b[0;34m[\u001b[0m\u001b[0mt1_index\u001b[0m\u001b[0;34m]\u001b[0m\u001b[0;34m\u001b[0m\u001b[0;34m\u001b[0m\u001b[0m\n\u001b[0;32m--> 230\u001b[0;31m             \u001b[0mnum_nonzero\u001b[0m \u001b[0;34m=\u001b[0m \u001b[0mcolumn_nonzero\u001b[0m\u001b[0;34m[\u001b[0m\u001b[0mt1_index\u001b[0m\u001b[0;34m]\u001b[0m\u001b[0;34m\u001b[0m\u001b[0;34m\u001b[0m\u001b[0m\n\u001b[0m\u001b[1;32m    231\u001b[0m             \u001b[0mnum_rows\u001b[0m \u001b[0;34m=\u001b[0m \u001b[0mnonzero_limit\u001b[0m \u001b[0;34m-\u001b[0m \u001b[0mnum_nonzero\u001b[0m\u001b[0;34m\u001b[0m\u001b[0;34m\u001b[0m\u001b[0m\n\u001b[1;32m    232\u001b[0m             most_similar = [\n",
      "\u001b[0;31mIndexError\u001b[0m: only integers, slices (`:`), ellipsis (`...`), numpy.newaxis (`None`) and integer or boolean arrays are valid indices"
     ]
    }
   ],
   "source": [
    "termsim_index = WordEmbeddingSimilarityIndex(vectors.wv)\n",
    "similarity_matrix = SparseTermSimilarityMatrix(termsim_index, vectors.wv.vocab)"
   ]
  },
  {
   "cell_type": "code",
   "execution_count": 71,
   "metadata": {},
   "outputs": [
    {
     "data": {
      "application/vnd.jupyter.widget-view+json": {
       "model_id": "ace20023a73e41f6852f23621f8670c8",
       "version_major": 2,
       "version_minor": 0
      },
      "text/plain": [
       "VBox(children=(Text(value='1'), Text(value='2')))"
      ]
     },
     "metadata": {},
     "output_type": "display_data"
    },
    {
     "data": {
      "application/vnd.jupyter.widget-view+json": {
       "model_id": "a588c3b243154cfbaa9cccc0188fd878",
       "version_major": 2,
       "version_minor": 0
      },
      "text/plain": [
       "Button(description='Add', style=ButtonStyle())"
      ]
     },
     "metadata": {},
     "output_type": "display_data"
    },
    {
     "data": {
      "text/plain": [
       "[Text(value='1'), Text(value='2')]"
      ]
     },
     "execution_count": 71,
     "metadata": {},
     "output_type": "execute_result"
    }
   ],
   "source": [
    "import ipywidgets as wg\n",
    "from ipywidgets import Layout\n",
    "from IPython.display import display\n",
    "\n",
    "vb = wg.VBox([wg.Text('1'),wg.Text('2')])\n",
    "btn = wg.Button(description = 'Add') \n",
    "\n",
    "def on_bttn_clicked(b):        \n",
    "    vb.children=tuple(list(vb.children) + [wg.Text('3')]) \n",
    "\n",
    "btn.on_click(on_bttn_clicked)\n",
    "display(vb, btn)\n",
    "\n",
    "list(vb.children)"
   ]
  },
  {
   "cell_type": "code",
   "execution_count": 89,
   "metadata": {},
   "outputs": [
    {
     "data": {
      "application/vnd.jupyter.widget-view+json": {
       "model_id": "6df0e44bc3704d0f9bee404c821b2930",
       "version_major": 2,
       "version_minor": 0
      },
      "text/plain": [
       "Box(children=(Box(children=(Label(value='Information'), Textarea(value='')), layout=Layout(display='flex', fle…"
      ]
     },
     "metadata": {},
     "output_type": "display_data"
    }
   ],
   "source": [
    "from ipywidgets import Layout, Button, Box, FloatText, Textarea, Dropdown, Label, IntSlider, HBox, VBox\n",
    "\n",
    "form_item_layout = Layout(\n",
    "    display='flex',\n",
    "    flex_flow='row',\n",
    "    justify_content='space-between'\n",
    ")\n",
    "\n",
    "b1 = widgets.Button(\n",
    "    description=f'eeeee',\n",
    "    disabled=False,\n",
    "    button_style='' # 'success', 'info', 'warning', 'danger' or ''\n",
    ")\n",
    "b2 = widgets.Button(\n",
    "    description=f'ewwwww',\n",
    "    disabled=False,\n",
    "    button_style='' # 'success', 'info', 'warning', 'danger' or ''\n",
    ")\n",
    "\n",
    "box = VBox([b1, b2])\n",
    "\n",
    "btn = wg.Button(description = 'Add') \n",
    "def on_bttn_clicked(btn):        \n",
    "    box.layout.visibility = 'visible'\n",
    "\n",
    "btn.on_click(on_bttn_clicked)\n",
    "\n",
    "dele = wg.Button(description = 'del') \n",
    "def dee(btn):\n",
    "    print(\"ss\")\n",
    "    box.layout.visibility = 'hidden'\n",
    "\n",
    "dele.on_click(dee)\n",
    "\n",
    "form_items = [\n",
    "    Box([Label(value='Information'),\n",
    "         Textarea()], layout=form_item_layout),\n",
    "    Box([Label(value='Suggests'),\n",
    "         box], layout=form_item_layout),\n",
    "    Box([Label(value=''),\n",
    "         btn], layout=form_item_layout),\n",
    "    Box([Label(value=''),\n",
    "         dele], layout=form_item_layout),\n",
    "]\n",
    "\n",
    "form = Box(form_items, layout=Layout(\n",
    "    display='flex',\n",
    "    flex_flow='column',\n",
    "    border='solid 2px',\n",
    "    align_items='stretch',\n",
    "    width='100%'\n",
    "))\n",
    "\n",
    "\n",
    "display(form)\n",
    "\n",
    "#resetButton.layout.visibility = 'hidden'"
   ]
  },
  {
   "cell_type": "code",
   "execution_count": 104,
   "metadata": {},
   "outputs": [
    {
     "data": {
      "application/vnd.jupyter.widget-view+json": {
       "model_id": "c086a4e30f1948aca99c592c24d85179",
       "version_major": 2,
       "version_minor": 0
      },
      "text/plain": [
       "VBox(children=(Text(value='1'), Text(value='2')))"
      ]
     },
     "metadata": {},
     "output_type": "display_data"
    },
    {
     "data": {
      "application/vnd.jupyter.widget-view+json": {
       "model_id": "cdfbccee97e84d14952e1267595b77d3",
       "version_major": 2,
       "version_minor": 0
      },
      "text/plain": [
       "Button(description='Add', style=ButtonStyle())"
      ]
     },
     "metadata": {},
     "output_type": "display_data"
    },
    {
     "data": {
      "text/plain": [
       "[Text(value='1'), Text(value='2')]"
      ]
     },
     "execution_count": 104,
     "metadata": {},
     "output_type": "execute_result"
    }
   ],
   "source": [
    "import ipywidgets as wg\n",
    "from ipywidgets import Layout\n",
    "from IPython.display import display\n",
    "\n",
    "vb = wg.VBox([wg.Text('1'),wg.Text('2')])\n",
    "btn = wg.Button(description = 'Add') \n",
    "\n",
    "def on_bttn_clicked(b):        \n",
    "    vb.children=tuple(list(vb.children) + [wg.Text('3')]) \n",
    "\n",
    "btn.on_click(on_bttn_clicked)\n",
    "display(vb, btn)\n",
    "\n",
    "list(vb.children)"
   ]
  }
 ],
 "metadata": {
  "kernelspec": {
   "display_name": "Python 3",
   "language": "python",
   "name": "python3"
  },
  "language_info": {
   "codemirror_mode": {
    "name": "ipython",
    "version": 3
   },
   "file_extension": ".py",
   "mimetype": "text/x-python",
   "name": "python",
   "nbconvert_exporter": "python",
   "pygments_lexer": "ipython3",
   "version": "3.6.10"
  }
 },
 "nbformat": 4,
 "nbformat_minor": 4
}
