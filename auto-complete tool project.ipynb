{
 "cells": [
  {
   "cell_type": "code",
   "execution_count": 1,
   "metadata": {},
   "outputs": [],
   "source": [
    "%load_ext autotime\n",
    "#pd.set_option('display.float_format', lambda x: '%.3f' % x)"
   ]
  },
  {
   "cell_type": "code",
   "execution_count": 1,
   "metadata": {},
   "outputs": [],
   "source": [
    "import ipywidgets as widgets\n",
    "import difflib"
   ]
  },
  {
   "cell_type": "code",
   "execution_count": 20,
   "metadata": {},
   "outputs": [
    {
     "data": {
      "application/vnd.jupyter.widget-view+json": {
       "model_id": "c9d7f5b8c9cd4c43a6dc9d5ce95ed5cc",
       "version_major": 2,
       "version_minor": 0
      },
      "text/plain": [
       "Textarea(value='', description='Skill:', placeholder='Type something')"
      ]
     },
     "metadata": {},
     "output_type": "display_data"
    },
    {
     "name": "stdout",
     "output_type": "stream",
     "text": [
      "ciao mamma\n",
      " \n",
      "d\n",
      "a\n",
      "t\n",
      "a\n"
     ]
    }
   ],
   "source": [
    "\n",
    "w = widgets.Textarea(\n",
    "    value='',\n",
    "    placeholder='Type something',\n",
    "    description='Skill:',\n",
    "    disabled=False,\n",
    "    tooltip='Enter the name of the Text field'\n",
    ")\n",
    "\n",
    "display(w)\n",
    "\n",
    "def print_text(widget):\n",
    "    old_input = widget['old']\n",
    "    new_input = widget['new']\n",
    "    # In questo modo però si cattura solo l'ultimo carattere inserito, trovare un modo più intelligente di \n",
    "    # dividere la sottoparola che si sta inserendo da quelle già inserite\n",
    "    new_skill = ''.join([li.split('+ ')[-1] for li in difflib.ndiff(old_input, new_input) if li[0] != ' '])\n",
    "    print(new_skill)\n",
    "\n",
    "w.observe(print_text, names='value')"
   ]
  },
  {
   "cell_type": "code",
   "execution_count": null,
   "metadata": {},
   "outputs": [],
   "source": []
  },
  {
   "cell_type": "code",
   "execution_count": null,
   "metadata": {},
   "outputs": [],
   "source": []
  },
  {
   "cell_type": "markdown",
   "metadata": {},
   "source": [
    "## Prove con il calcolo della matrice di similarità "
   ]
  },
  {
   "cell_type": "code",
   "execution_count": 16,
   "metadata": {},
   "outputs": [],
   "source": [
    "import io\n",
    "import fasttext\n",
    "import numpy as np\n",
    "import gensim\n",
    "from gensim.models import Word2Vec, KeyedVectors"
   ]
  },
  {
   "cell_type": "code",
   "execution_count": 2,
   "metadata": {
    "collapsed": true
   },
   "outputs": [
    {
     "name": "stdout",
     "output_type": "stream",
     "text": [
      "Word2Vec(vocab=14, size=100, alpha=0.025)\n",
      "['this', 'is', 'the', 'first', 'sentence', 'for', 'word2vec', 'second', 'yet', 'another', 'one', 'more', 'and', 'final']\n",
      "[ 3.9038677e-03  2.1353054e-03 -1.4082966e-03  2.0365366e-03\n",
      " -3.5627359e-03 -1.8132008e-03 -4.0954417e-03 -9.4652449e-04\n",
      " -5.6126395e-05 -1.9248931e-03  4.1233641e-03 -2.3521865e-03\n",
      " -1.5022117e-03 -4.5918180e-03 -2.7790943e-03  3.9335280e-03\n",
      " -3.2057122e-03  1.5088647e-03  9.2934242e-05  4.5545478e-03\n",
      "  4.2981198e-03 -4.2119706e-03  4.4398233e-03  1.4217990e-03\n",
      " -1.3089800e-03  2.0811174e-03  3.9092861e-03 -1.5299969e-03\n",
      " -2.5253422e-03  3.2367893e-03 -2.0729811e-03  2.1194087e-03\n",
      " -1.0372913e-03 -8.7570236e-04  3.7507717e-03 -4.2750160e-03\n",
      " -2.8764897e-03 -2.2837380e-03  4.5618149e-03  3.5065724e-04\n",
      " -7.7784987e-04 -1.4684200e-03  3.5635368e-03 -6.4966921e-04\n",
      "  3.5933470e-03  4.0631113e-03 -3.6892453e-03  9.9984456e-05\n",
      "  3.0918941e-03 -1.2781309e-03 -1.3956561e-03  7.0078924e-05\n",
      " -4.8584035e-03  1.4186430e-03  2.9012910e-03 -1.2507041e-03\n",
      "  4.5719608e-03  7.9351239e-04 -3.1078793e-03  3.9907442e-03\n",
      " -3.2961901e-04  2.3853241e-03  2.1024370e-03  4.6599591e-03\n",
      " -2.0941617e-03  2.2418007e-04 -4.2361715e-03  2.8165875e-03\n",
      " -9.2775299e-04  4.1992986e-03 -2.9626370e-03  2.9420375e-03\n",
      "  7.8850152e-04  3.4264429e-03 -4.0841545e-03  2.8232735e-04\n",
      "  7.2408159e-04  3.4163147e-04 -3.3672990e-03 -2.2381579e-03\n",
      "  1.6830748e-04 -3.1837351e-03  3.7242156e-03 -1.7370007e-03\n",
      "  2.0556210e-03  2.8032234e-03  1.7299476e-03  2.5646102e-03\n",
      "  4.9907239e-03 -9.0048887e-04  3.2643450e-03  1.7136139e-05\n",
      " -9.3586644e-04 -4.5374278e-03  1.4314102e-03  3.1147716e-03\n",
      " -1.3417286e-03 -1.0271526e-03  2.4120021e-03 -1.8412314e-03]\n",
      "Word2Vec(vocab=14, size=100, alpha=0.025)\n"
     ]
    },
    {
     "name": "stderr",
     "output_type": "stream",
     "text": [
      "/home/simone/.local/lib/python3.6/site-packages/ipykernel_launcher.py:15: DeprecationWarning: Call to deprecated `__getitem__` (Method will be removed in 4.0.0, use self.wv.__getitem__() instead).\n",
      "  from ipykernel import kernelapp as app\n"
     ]
    }
   ],
   "source": [
    "# define training data\n",
    "sentences = [['this', 'is', 'the', 'first', 'sentence', 'for', 'word2vec'],\n",
    "             ['this', 'is', 'the', 'second', 'sentence'],\n",
    "             ['yet', 'another', 'sentence'],\n",
    "             ['one', 'more', 'sentence'],\n",
    "             ['and', 'the', 'final', 'sentence']]\n",
    "# train model\n",
    "model = Word2Vec(sentences, min_count=1)\n",
    "# summarize the loaded model\n",
    "print(model)\n",
    "# summarize vocabulary\n",
    "words = list(model.wv.vocab)\n",
    "print(words)\n",
    "# access vector for one word\n",
    "print(model['sentence'])"
   ]
  },
  {
   "cell_type": "code",
   "execution_count": 18,
   "metadata": {},
   "outputs": [
    {
     "name": "stderr",
     "output_type": "stream",
     "text": [
      "/home/simone/.local/lib/python3.6/site-packages/ipykernel_launcher.py:1: DeprecationWarning: Call to deprecated `syn0` (Attribute will be removed in 4.0.0, use self.vectors instead).\n",
      "  \"\"\"Entry point for launching an IPython kernel.\n"
     ]
    },
    {
     "data": {
      "text/plain": [
       "array([[ 3.9038677e-03,  2.3776710e-03, -4.8592724e-04, ...,\n",
       "         5.8666884e-04, -1.3089438e-03,  9.6065871e-04],\n",
       "       [ 2.1353054e-03, -3.3927802e-04,  5.0889113e-04, ...,\n",
       "         3.6292754e-03, -4.6689552e-03, -4.2265970e-03],\n",
       "       [-1.4082966e-03,  4.1139419e-03,  3.4382371e-03, ...,\n",
       "         4.4263555e-03,  4.4938163e-03, -4.9103112e-03],\n",
       "       ...,\n",
       "       [-1.0271526e-03, -2.3557281e-03,  1.7790480e-03, ...,\n",
       "         4.4807680e-03,  2.5828418e-03,  2.3941048e-04],\n",
       "       [ 2.4120021e-03,  2.5451963e-03,  9.5552066e-05, ...,\n",
       "         2.3635160e-03,  2.4734442e-03,  1.9027404e-03],\n",
       "       [-1.8412314e-03, -1.8158141e-03,  1.3591807e-03, ...,\n",
       "        -3.5341408e-03,  4.3473043e-03, -4.9680928e-03]], dtype=float32)"
      ]
     },
     "execution_count": 18,
     "metadata": {},
     "output_type": "execute_result"
    }
   ],
   "source": [
    "new_model.wv.syn0.T"
   ]
  },
  {
   "cell_type": "code",
   "execution_count": 30,
   "metadata": {},
   "outputs": [],
   "source": [
    "M = gensim.similarities.MatrixSimilarity(gensim.matutils.Dense2Corpus(new_model.wv.vectors))"
   ]
  },
  {
   "cell_type": "code",
   "execution_count": 50,
   "metadata": {
    "collapsed": true
   },
   "outputs": [
    {
     "name": "stderr",
     "output_type": "stream",
     "text": [
      "/home/simone/.local/lib/python3.6/site-packages/ipykernel_launcher.py:1: DeprecationWarning: Call to deprecated `__getitem__` (Method will be removed in 4.0.0, use self.wv.__getitem__() instead).\n",
      "  \"\"\"Entry point for launching an IPython kernel.\n"
     ]
    },
    {
     "data": {
      "text/plain": [
       "array([-4.8592724e-04,  5.0889113e-04,  3.4382371e-03,  1.8026620e-03,\n",
       "       -3.6679306e-03, -2.9366417e-03, -4.3747742e-03, -3.3037667e-03,\n",
       "       -8.2607585e-05,  4.8255734e-03,  1.7213918e-03, -2.7898313e-03,\n",
       "        4.2465255e-03,  3.7324559e-03,  1.8495247e-03, -2.0346513e-03,\n",
       "        2.4053338e-03,  2.6409116e-03,  6.1205843e-05, -2.3018897e-03,\n",
       "       -4.8005683e-03,  8.4636058e-04,  9.3633047e-04, -3.7659642e-03,\n",
       "        1.5389281e-03,  2.2728508e-03,  4.5305141e-03, -3.9770859e-03,\n",
       "       -3.9078277e-03,  1.4007512e-03,  8.1961497e-04,  2.6625600e-03,\n",
       "       -4.6308585e-03,  5.7140930e-04,  1.0644670e-03,  1.6245897e-03,\n",
       "        2.1110939e-04, -4.2086322e-04,  1.9440008e-03, -2.6336473e-03,\n",
       "       -4.2530671e-03, -4.3738768e-03,  1.2523547e-04,  1.8110209e-03,\n",
       "       -4.3476340e-03, -3.6855834e-03, -2.1644779e-03,  4.1131317e-03,\n",
       "        4.0775877e-03, -2.3671405e-03,  2.8593864e-03, -5.7597208e-05,\n",
       "        4.7869459e-03,  7.0393807e-04,  1.5120321e-03, -3.1455269e-03,\n",
       "        1.2814996e-03, -4.7103632e-03, -1.3555528e-03, -2.1354370e-03,\n",
       "        1.3727110e-03, -1.2174780e-03, -8.5463619e-04, -3.6855121e-03,\n",
       "       -4.0696389e-03,  1.3615020e-03, -4.3245479e-03, -6.6566077e-04,\n",
       "        4.2303149e-03,  1.9121058e-03, -1.5340670e-03,  4.6897070e-03,\n",
       "       -4.6607736e-03, -2.8855265e-03,  3.5274790e-03,  3.3273436e-03,\n",
       "        3.6704149e-03, -4.3402635e-03, -3.1957922e-03, -3.1813232e-03,\n",
       "        4.9685473e-03,  5.9277634e-04,  3.8007838e-03, -3.7779540e-03,\n",
       "        4.0793153e-03, -1.8496384e-03,  1.6176624e-03, -2.0913461e-03,\n",
       "       -2.9233596e-04, -1.6836572e-03, -4.9481802e-03, -1.4487187e-03,\n",
       "       -1.2335910e-03,  1.9555462e-03, -3.0168432e-03,  1.8676533e-03,\n",
       "       -3.5035727e-03,  1.7790480e-03,  9.5552066e-05,  1.3591807e-03],\n",
       "      dtype=float32)"
      ]
     },
     "execution_count": 50,
     "metadata": {},
     "output_type": "execute_result"
    }
   ],
   "source": [
    "new_model[list(new_model.wv.vocab)][0]"
   ]
  },
  {
   "cell_type": "code",
   "execution_count": 34,
   "metadata": {},
   "outputs": [
    {
     "name": "stdout",
     "output_type": "stream",
     "text": [
      "[('final', 0.15972749888896942), ('one', 0.1229441836476326), ('another', 0.05594411492347717), ('more', 0.03111601062119007), ('this', 0.004960008896887302), ('is', -0.03630427271127701), ('and', -0.06384521722793579), ('second', -0.08091191947460175), ('word2vec', -0.08727197349071503), ('sentence', -0.08728539198637009)]\n",
      "time: 2.17 ms\n"
     ]
    },
    {
     "name": "stderr",
     "output_type": "stream",
     "text": [
      "/home/simone/.local/lib/python3.6/site-packages/ipykernel_launcher.py:1: DeprecationWarning: Call to deprecated `most_similar` (Method will be removed in 4.0.0, use self.wv.most_similar() instead).\n",
      "  \"\"\"Entry point for launching an IPython kernel.\n"
     ]
    }
   ],
   "source": [
    "result = model.most_similar('first')\n",
    "print(result)"
   ]
  },
  {
   "cell_type": "code",
   "execution_count": 42,
   "metadata": {},
   "outputs": [
    {
     "name": "stdout",
     "output_type": "stream",
     "text": [
      "time: 3.71 ms\n"
     ]
    },
    {
     "name": "stderr",
     "output_type": "stream",
     "text": [
      "/home/simone/.local/lib/python3.6/site-packages/ipykernel_launcher.py:1: DeprecationWarning: Call to deprecated `syn0norm` (Attribute will be removed in 4.0.0, use self.vectors_norm instead).\n",
      "  \"\"\"Entry point for launching an IPython kernel.\n"
     ]
    }
   ],
   "source": [
    "\n",
    "matrix = np.dot(model.wv.syn0norm, model.wv.syn0norm.T)"
   ]
  },
  {
   "cell_type": "code",
   "execution_count": 50,
   "metadata": {},
   "outputs": [
    {
     "name": "stdout",
     "output_type": "stream",
     "text": [
      "time: 10.7 ms\n"
     ]
    },
    {
     "name": "stderr",
     "output_type": "stream",
     "text": [
      "/home/simone/.local/lib/python3.6/site-packages/ipykernel_launcher.py:3: DeprecationWarning: Call to deprecated `syn0` (Attribute will be removed in 4.0.0, use self.vectors instead).\n",
      "  This is separate from the ipykernel package so we can avoid doing imports until\n"
     ]
    }
   ],
   "source": [
    "from gensim.similarities import MatrixSimilarity\n",
    "\n",
    "m2 = gensim.similarities.MatrixSimilarity(gensim.matutils.Dense2Corpus(model.wv.syn0))"
   ]
  },
  {
   "cell_type": "code",
   "execution_count": 59,
   "metadata": {},
   "outputs": [
    {
     "data": {
      "text/plain": [
       "-0.15163246"
      ]
     },
     "execution_count": 59,
     "metadata": {},
     "output_type": "execute_result"
    },
    {
     "name": "stdout",
     "output_type": "stream",
     "text": [
      "time: 5.45 ms\n"
     ]
    }
   ],
   "source": [
    "similarity_array[1,2]"
   ]
  },
  {
   "cell_type": "code",
   "execution_count": 54,
   "metadata": {},
   "outputs": [
    {
     "name": "stdout",
     "output_type": "stream",
     "text": [
      "time: 1.31 ms\n"
     ]
    }
   ],
   "source": [
    "similarity_matrix = []\n",
    "for sims in m2:\n",
    "    similarity_matrix.append(sims)\n",
    "similarity_array = np.array(similarity_matrix)"
   ]
  },
  {
   "cell_type": "code",
   "execution_count": 64,
   "metadata": {},
   "outputs": [
    {
     "name": "stdout",
     "output_type": "stream",
     "text": [
      "time: 4 ms\n"
     ]
    },
    {
     "name": "stderr",
     "output_type": "stream",
     "text": [
      "/home/simone/.local/lib/python3.6/site-packages/ipykernel_launcher.py:1: DeprecationWarning: Call to deprecated `syn0` (Attribute will be removed in 4.0.0, use self.vectors instead).\n",
      "  \"\"\"Entry point for launching an IPython kernel.\n"
     ]
    }
   ],
   "source": [
    "aa = gensim.similarities.MatrixSimilarity(gensim.matutils.Dense2Corpus(model.wv.syn0.T))"
   ]
  },
  {
   "cell_type": "code",
   "execution_count": 104,
   "metadata": {},
   "outputs": [
    {
     "data": {
      "text/plain": [
       "array([-0.53032404,  2.4504747 ,  2.2034955 ,  1.996935  , -1.3378329 ,\n",
       "       -2.2813873 , -2.308627  , -1.6702954 , -1.5804367 , -1.352123  ,\n",
       "        2.3730109 , -0.74854577,  1.3990581 ,  2.2709007 ], dtype=float32)"
      ]
     },
     "execution_count": 104,
     "metadata": {},
     "output_type": "execute_result"
    },
    {
     "name": "stdout",
     "output_type": "stream",
     "text": [
      "time: 3.77 ms\n"
     ]
    }
   ],
   "source": [
    "aa.get_similarities([(15, 15), (15, 15)])"
   ]
  },
  {
   "cell_type": "code",
   "execution_count": 63,
   "metadata": {
    "collapsed": true
   },
   "outputs": [
    {
     "name": "stderr",
     "output_type": "stream",
     "text": [
      "/home/simone/.local/lib/python3.6/site-packages/ipykernel_launcher.py:2: DeprecationWarning: Call to deprecated `syn0` (Attribute will be removed in 4.0.0, use self.vectors instead).\n",
      "  \n"
     ]
    },
    {
     "data": {
      "text/plain": [
       "array([[0.00000000e+00, 1.21335549e+00, 9.40977823e-01, 1.08805909e+00,\n",
       "        1.08728540e+00, 1.15372349e+00, 1.00019432e+00, 9.11463861e-01,\n",
       "        1.14807783e+00, 1.12895675e+00, 1.04260360e+00, 8.98144074e-01,\n",
       "        9.44486713e-01, 1.00164575e+00],\n",
       "       [1.21335549e+00, 1.11022302e-16, 1.10564366e+00, 1.03864117e+00,\n",
       "        1.09148205e+00, 7.99665101e-01, 1.00671258e+00, 9.77943590e-01,\n",
       "        9.25224036e-01, 9.93878060e-01, 8.33491799e-01, 9.76038717e-01,\n",
       "        8.59558384e-01, 8.87739669e-01],\n",
       "       [9.40977823e-01, 1.10564366e+00, 0.00000000e+00, 1.00711268e+00,\n",
       "        9.95039993e-01, 1.09107015e+00, 9.41347900e-01, 1.13173356e+00,\n",
       "        1.30386453e+00, 1.01109328e+00, 9.75911261e-01, 9.56103865e-01,\n",
       "        8.38175099e-01, 1.08094627e+00],\n",
       "       [1.08805909e+00, 1.03864117e+00, 1.00711268e+00, 0.00000000e+00,\n",
       "        1.03630427e+00, 1.10631974e+00, 8.06871905e-01, 1.11938166e+00,\n",
       "        9.56457088e-01, 1.09926944e+00, 1.06633042e+00, 1.05628416e+00,\n",
       "        8.64097132e-01, 9.93786789e-01],\n",
       "       [1.08728540e+00, 1.09148205e+00, 9.95039993e-01, 1.03630427e+00,\n",
       "        0.00000000e+00, 1.11138366e+00, 1.08727198e+00, 1.08091191e+00,\n",
       "        1.11207871e+00, 9.44055884e-01, 8.77055810e-01, 9.68883986e-01,\n",
       "        1.06384521e+00, 8.40272484e-01],\n",
       "       [1.15372349e+00, 7.99665101e-01, 1.09107015e+00, 1.10631974e+00,\n",
       "        1.11138366e+00, 0.00000000e+00, 8.66703620e-01, 1.03931996e+00,\n",
       "        8.86121615e-01, 1.02433808e+00, 9.45890139e-01, 1.15732471e+00,\n",
       "        8.74780345e-01, 1.14075098e+00],\n",
       "       [1.00019432e+00, 1.00671258e+00, 9.41347900e-01, 8.06871905e-01,\n",
       "        1.08727198e+00, 8.66703620e-01, 0.00000000e+00, 1.02185017e+00,\n",
       "        9.62916233e-01, 9.93525661e-01, 1.20462113e+00, 9.85497690e-01,\n",
       "        9.45146118e-01, 9.09313493e-01],\n",
       "       [9.11463861e-01, 9.77943590e-01, 1.13173356e+00, 1.11938166e+00,\n",
       "        1.08091191e+00, 1.03931996e+00, 1.02185017e+00, 1.11022302e-16,\n",
       "        1.02738876e+00, 9.76165268e-01, 1.08900086e+00, 9.70554060e-01,\n",
       "        1.19390769e+00, 1.05359287e+00],\n",
       "       [1.14807783e+00, 9.25224036e-01, 1.30386453e+00, 9.56457088e-01,\n",
       "        1.11207871e+00, 8.86121615e-01, 9.62916233e-01, 1.02738876e+00,\n",
       "        0.00000000e+00, 1.01002438e+00, 1.12461374e+00, 1.00701242e+00,\n",
       "        9.42892100e-01, 1.06343890e+00],\n",
       "       [1.12895675e+00, 9.93878060e-01, 1.01109328e+00, 1.09926944e+00,\n",
       "        9.44055884e-01, 1.02433808e+00, 9.93525661e-01, 9.76165268e-01,\n",
       "        1.01002438e+00, 0.00000000e+00, 1.06041976e+00, 1.20469636e+00,\n",
       "        9.73202508e-01, 8.54062149e-01],\n",
       "       [1.04260360e+00, 8.33491799e-01, 9.75911261e-01, 1.06633042e+00,\n",
       "        8.77055810e-01, 9.45890139e-01, 1.20462113e+00, 1.08900086e+00,\n",
       "        1.12461374e+00, 1.06041976e+00, 0.00000000e+00, 1.05787954e+00,\n",
       "        1.03998690e+00, 9.94751926e-01],\n",
       "       [8.98144074e-01, 9.76038717e-01, 9.56103865e-01, 1.05628416e+00,\n",
       "        9.68883986e-01, 1.15732471e+00, 9.85497690e-01, 9.70554060e-01,\n",
       "        1.00701242e+00, 1.20469636e+00, 1.05787954e+00, 0.00000000e+00,\n",
       "        1.08889480e+00, 9.56394782e-01],\n",
       "       [9.44486713e-01, 8.59558384e-01, 8.38175099e-01, 8.64097132e-01,\n",
       "        1.06384521e+00, 8.74780345e-01, 9.45146118e-01, 1.19390769e+00,\n",
       "        9.42892100e-01, 9.73202508e-01, 1.03998690e+00, 1.08889480e+00,\n",
       "        0.00000000e+00, 1.12808272e+00],\n",
       "       [1.00164575e+00, 8.87739669e-01, 1.08094627e+00, 9.93786789e-01,\n",
       "        8.40272484e-01, 1.14075098e+00, 9.09313493e-01, 1.05359287e+00,\n",
       "        1.06343890e+00, 8.54062149e-01, 9.94751926e-01, 9.56394782e-01,\n",
       "        1.12808272e+00, 0.00000000e+00]])"
      ]
     },
     "execution_count": 63,
     "metadata": {},
     "output_type": "execute_result"
    },
    {
     "name": "stdout",
     "output_type": "stream",
     "text": [
      "time: 11.1 ms\n"
     ]
    }
   ],
   "source": [
    "from scipy.spatial.distance import cdist\n",
    "similarity =cdist(model.wv.syn0, model.wv.syn0, metric='cosine')\n",
    "\n",
    "similarity # similarity between 'cat' and 'dog'"
   ]
  }
 ],
 "metadata": {
  "kernelspec": {
   "display_name": "Python 3",
   "language": "python",
   "name": "python3"
  },
  "language_info": {
   "codemirror_mode": {
    "name": "ipython",
    "version": 3
   },
   "file_extension": ".py",
   "mimetype": "text/x-python",
   "name": "python",
   "nbconvert_exporter": "python",
   "pygments_lexer": "ipython3",
   "version": "3.6.10"
  }
 },
 "nbformat": 4,
 "nbformat_minor": 4
}
